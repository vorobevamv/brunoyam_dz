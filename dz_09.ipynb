{
 "cells": [
  {
   "cell_type": "code",
   "execution_count": 16,
   "id": "600d990b-ecd3-4dca-bd3b-c01bc9ec54bd",
   "metadata": {},
   "outputs": [],
   "source": [
    "import warnings\n",
    "warnings.filterwarnings(\"ignore\")"
   ]
  },
  {
   "cell_type": "code",
   "execution_count": 17,
   "id": "89bb746f-77a4-4a9a-adf4-e1c8f41009a4",
   "metadata": {},
   "outputs": [],
   "source": [
    "import pandas as pd\n",
    "import numpy as np\n",
    "import matplotlib.pyplot as plt"
   ]
  },
  {
   "cell_type": "code",
   "execution_count": 18,
   "id": "d8796b16-e660-4079-a688-e4bc16be8e20",
   "metadata": {},
   "outputs": [],
   "source": [
    "import statsmodels.tsa.stattools"
   ]
  },
  {
   "cell_type": "code",
   "execution_count": 19,
   "id": "6ff017c3-3074-4ace-931d-1582409fd14b",
   "metadata": {},
   "outputs": [],
   "source": [
    "from statsmodels.tsa.arima.model import ARIMA"
   ]
  },
  {
   "cell_type": "markdown",
   "id": "9219f728-5616-44dc-bc3a-bb292dacc2ea",
   "metadata": {},
   "source": [
    "### easy  \n",
    "##### найти данные о заболеваемости/смертности/выздоровлении COVID-19 (они есть например на Kaggle) и использовать их для решения заданий; можно использовать как данные по какому-то конкретному региону/стране, так и данные по всему миру  \n",
    "##### проверить ряд на стационарность, привести ряд к стационарному виду  \n",
    "##### построить прогноз заболеваемости, используя модель ARIMA, на месяц вперед; подобрать оптимальные параметры модели; визуализировать результат. Выглядит ли такой прогноз реалистичным?  \n",
    "Для решения задачи можно использовать `pmdarima`"
   ]
  },
  {
   "cell_type": "markdown",
   "id": "c83fa0c7-b7a3-4a94-a666-cd655faab8a1",
   "metadata": {},
   "source": [
    "**даннные по COVID-19, источник https://www.kaggle.com/josephassaker/covid19-global-dataset**"
   ]
  },
  {
   "cell_type": "code",
   "execution_count": 20,
   "id": "4353092a-6449-4e38-b93b-18b0b12d140c",
   "metadata": {},
   "outputs": [
    {
     "data": {
      "text/html": [
       "<div>\n",
       "<style scoped>\n",
       "    .dataframe tbody tr th:only-of-type {\n",
       "        vertical-align: middle;\n",
       "    }\n",
       "\n",
       "    .dataframe tbody tr th {\n",
       "        vertical-align: top;\n",
       "    }\n",
       "\n",
       "    .dataframe thead th {\n",
       "        text-align: right;\n",
       "    }\n",
       "</style>\n",
       "<table border=\"1\" class=\"dataframe\">\n",
       "  <thead>\n",
       "    <tr style=\"text-align: right;\">\n",
       "      <th></th>\n",
       "      <th>country</th>\n",
       "      <th>cumulative_total_cases</th>\n",
       "      <th>daily_new_cases</th>\n",
       "      <th>active_cases</th>\n",
       "      <th>cumulative_total_deaths</th>\n",
       "      <th>daily_new_deaths</th>\n",
       "    </tr>\n",
       "    <tr>\n",
       "      <th>date</th>\n",
       "      <th></th>\n",
       "      <th></th>\n",
       "      <th></th>\n",
       "      <th></th>\n",
       "      <th></th>\n",
       "      <th></th>\n",
       "    </tr>\n",
       "  </thead>\n",
       "  <tbody>\n",
       "    <tr>\n",
       "      <th>2020-02-15</th>\n",
       "      <td>Afghanistan</td>\n",
       "      <td>0.0</td>\n",
       "      <td>NaN</td>\n",
       "      <td>0.0</td>\n",
       "      <td>0.0</td>\n",
       "      <td>NaN</td>\n",
       "    </tr>\n",
       "    <tr>\n",
       "      <th>2020-02-16</th>\n",
       "      <td>Afghanistan</td>\n",
       "      <td>0.0</td>\n",
       "      <td>NaN</td>\n",
       "      <td>0.0</td>\n",
       "      <td>0.0</td>\n",
       "      <td>NaN</td>\n",
       "    </tr>\n",
       "    <tr>\n",
       "      <th>2020-02-17</th>\n",
       "      <td>Afghanistan</td>\n",
       "      <td>0.0</td>\n",
       "      <td>NaN</td>\n",
       "      <td>0.0</td>\n",
       "      <td>0.0</td>\n",
       "      <td>NaN</td>\n",
       "    </tr>\n",
       "    <tr>\n",
       "      <th>2020-02-18</th>\n",
       "      <td>Afghanistan</td>\n",
       "      <td>0.0</td>\n",
       "      <td>NaN</td>\n",
       "      <td>0.0</td>\n",
       "      <td>0.0</td>\n",
       "      <td>NaN</td>\n",
       "    </tr>\n",
       "    <tr>\n",
       "      <th>2020-02-19</th>\n",
       "      <td>Afghanistan</td>\n",
       "      <td>0.0</td>\n",
       "      <td>NaN</td>\n",
       "      <td>0.0</td>\n",
       "      <td>0.0</td>\n",
       "      <td>NaN</td>\n",
       "    </tr>\n",
       "  </tbody>\n",
       "</table>\n",
       "</div>"
      ],
      "text/plain": [
       "                country  cumulative_total_cases  daily_new_cases  \\\n",
       "date                                                               \n",
       "2020-02-15  Afghanistan                     0.0              NaN   \n",
       "2020-02-16  Afghanistan                     0.0              NaN   \n",
       "2020-02-17  Afghanistan                     0.0              NaN   \n",
       "2020-02-18  Afghanistan                     0.0              NaN   \n",
       "2020-02-19  Afghanistan                     0.0              NaN   \n",
       "\n",
       "            active_cases  cumulative_total_deaths  daily_new_deaths  \n",
       "date                                                                 \n",
       "2020-02-15           0.0                      0.0               NaN  \n",
       "2020-02-16           0.0                      0.0               NaN  \n",
       "2020-02-17           0.0                      0.0               NaN  \n",
       "2020-02-18           0.0                      0.0               NaN  \n",
       "2020-02-19           0.0                      0.0               NaN  "
      ]
     },
     "execution_count": 20,
     "metadata": {},
     "output_type": "execute_result"
    }
   ],
   "source": [
    "df = pd.read_csv('data/worldometer_coronavirus_daily_data.csv',index_col=0, parse_dates=True)\n",
    "df.head()"
   ]
  },
  {
   "cell_type": "markdown",
   "id": "302b0bbc-f9b0-40b0-a10f-2d933c88ee42",
   "metadata": {},
   "source": [
    "отбор данных о заболеваемости в Финляндии, группировка"
   ]
  },
  {
   "cell_type": "code",
   "execution_count": 21,
   "id": "fb665271-c2b3-4d7f-aa32-d5c18db3ec04",
   "metadata": {},
   "outputs": [
    {
     "data": {
      "text/html": [
       "<div>\n",
       "<style scoped>\n",
       "    .dataframe tbody tr th:only-of-type {\n",
       "        vertical-align: middle;\n",
       "    }\n",
       "\n",
       "    .dataframe tbody tr th {\n",
       "        vertical-align: top;\n",
       "    }\n",
       "\n",
       "    .dataframe thead th {\n",
       "        text-align: right;\n",
       "    }\n",
       "</style>\n",
       "<table border=\"1\" class=\"dataframe\">\n",
       "  <thead>\n",
       "    <tr style=\"text-align: right;\">\n",
       "      <th></th>\n",
       "      <th></th>\n",
       "      <th></th>\n",
       "      <th>daily_new_cases</th>\n",
       "    </tr>\n",
       "    <tr>\n",
       "      <th>year</th>\n",
       "      <th>month</th>\n",
       "      <th>day</th>\n",
       "      <th></th>\n",
       "    </tr>\n",
       "  </thead>\n",
       "  <tbody>\n",
       "    <tr>\n",
       "      <th rowspan=\"5\" valign=\"top\">2020</th>\n",
       "      <th rowspan=\"5\" valign=\"top\">2</th>\n",
       "      <th>15</th>\n",
       "      <td>0.0</td>\n",
       "    </tr>\n",
       "    <tr>\n",
       "      <th>16</th>\n",
       "      <td>0.0</td>\n",
       "    </tr>\n",
       "    <tr>\n",
       "      <th>17</th>\n",
       "      <td>0.0</td>\n",
       "    </tr>\n",
       "    <tr>\n",
       "      <th>18</th>\n",
       "      <td>0.0</td>\n",
       "    </tr>\n",
       "    <tr>\n",
       "      <th>19</th>\n",
       "      <td>0.0</td>\n",
       "    </tr>\n",
       "    <tr>\n",
       "      <th>...</th>\n",
       "      <th>...</th>\n",
       "      <th>...</th>\n",
       "      <td>...</td>\n",
       "    </tr>\n",
       "    <tr>\n",
       "      <th rowspan=\"5\" valign=\"top\">2021</th>\n",
       "      <th rowspan=\"5\" valign=\"top\">7</th>\n",
       "      <th>26</th>\n",
       "      <td>267.0</td>\n",
       "    </tr>\n",
       "    <tr>\n",
       "      <th>27</th>\n",
       "      <td>612.0</td>\n",
       "    </tr>\n",
       "    <tr>\n",
       "      <th>28</th>\n",
       "      <td>644.0</td>\n",
       "    </tr>\n",
       "    <tr>\n",
       "      <th>29</th>\n",
       "      <td>765.0</td>\n",
       "    </tr>\n",
       "    <tr>\n",
       "      <th>30</th>\n",
       "      <td>748.0</td>\n",
       "    </tr>\n",
       "  </tbody>\n",
       "</table>\n",
       "<p>532 rows × 1 columns</p>\n",
       "</div>"
      ],
      "text/plain": [
       "                daily_new_cases\n",
       "year month day                 \n",
       "2020 2     15               0.0\n",
       "           16               0.0\n",
       "           17               0.0\n",
       "           18               0.0\n",
       "           19               0.0\n",
       "...                         ...\n",
       "2021 7     26             267.0\n",
       "           27             612.0\n",
       "           28             644.0\n",
       "           29             765.0\n",
       "           30             748.0\n",
       "\n",
       "[532 rows x 1 columns]"
      ]
     },
     "execution_count": 21,
     "metadata": {},
     "output_type": "execute_result"
    }
   ],
   "source": [
    "df['index'] = pd.to_datetime\n",
    "df['month'] = df.index.month\n",
    "df['year'] = df.index.year\n",
    "df['day'] = df.index.day\n",
    "\n",
    "df_Fin = df[(df['country'] == 'Finland')][['year','month','day','daily_new_cases']].fillna(0).groupby(['year', 'month','day']).mean()\n",
    "df_Fin\n",
    "\n",
    "#так как данные за каждый день, в группировке вместо mean с тем же результатом можно было поставить max или min"
   ]
  },
  {
   "cell_type": "code",
   "execution_count": 22,
   "id": "73083a51-490c-4b26-bfac-2f3b6e9608ea",
   "metadata": {},
   "outputs": [
    {
     "data": {
      "text/plain": [
       "<AxesSubplot:xlabel='year,month,day'>"
      ]
     },
     "execution_count": 22,
     "metadata": {},
     "output_type": "execute_result"
    },
    {
     "data": {
      "image/png": "[encoded data removed]",
      "text/plain": [
       "<Figure size 432x288 with 1 Axes>"
      ]
     },
     "metadata": {
      "needs_background": "light"
     },
     "output_type": "display_data"
    }
   ],
   "source": [
    "df_Fin.plot()"
   ]
  },
  {
   "cell_type": "markdown",
   "id": "6bed17c6-fe34-4ec2-95ca-17c07e00b6c6",
   "metadata": {},
   "source": [
    "**проверка на стационарность с уровнем значимости 0,05**"
   ]
  },
  {
   "cell_type": "markdown",
   "id": "7961d8c8-ba93-4339-93fe-fec371598d0d",
   "metadata": {},
   "source": [
    "критерий KPSS (Kwiatkowski–Phillips–Schmidt–Shin)  \n",
    "Н0 - ряд стационарен"
   ]
  },
  {
   "cell_type": "code",
   "execution_count": 23,
   "id": "5117b41c-6956-441a-819a-c5007d680d44",
   "metadata": {},
   "outputs": [
    {
     "name": "stdout",
     "output_type": "stream",
     "text": [
      "1.6489988276133714 0.01\n",
      "стационарен\n"
     ]
    }
   ],
   "source": [
    "alpha = 0.05\n",
    "stat, p_value, *_ = statsmodels.tsa.stattools.kpss(df_Fin.daily_new_cases)\n",
    "print (stat, p_value)\n",
    "if p_value < alpha:\n",
    "    print('стационарен')\n",
    "else:\n",
    "    print('не стационарен')"
   ]
  },
  {
   "cell_type": "markdown",
   "id": "0f9d8267-c1aa-4892-b135-d801b77eede1",
   "metadata": {},
   "source": [
    "DF-тест (Dickey — Fuller test)  \n",
    "Н0 - ряд не стационарен"
   ]
  },
  {
   "cell_type": "code",
   "execution_count": 24,
   "id": "0fb4d607-aac2-406a-9702-3a3fe2faf1e3",
   "metadata": {},
   "outputs": [
    {
     "name": "stdout",
     "output_type": "stream",
     "text": [
      "-1.7240721454737062 0.01\n",
      "стационарен\n"
     ]
    }
   ],
   "source": [
    "stat, pvalue, *_ = statsmodels.tsa.stattools.adfuller(df_Fin.daily_new_cases)\n",
    "print (stat, p_value)\n",
    "if p_value < alpha:\n",
    "    print('стационарен')\n",
    "else:\n",
    "    print('не стационарен')"
   ]
  },
  {
   "cell_type": "markdown",
   "id": "48563d80-f7e3-4231-b7d8-2f75ef5f13dc",
   "metadata": {},
   "source": [
    "**оба метода показывают, что ряд стационарен**"
   ]
  },
  {
   "cell_type": "markdown",
   "id": "b7c1e392-774e-4a4d-bbc4-8e611b4c368a",
   "metadata": {},
   "source": [
    "**прогноз заболеваемости на месяц вперед (модель ARIMA)**"
   ]
  },
  {
   "cell_type": "markdown",
   "id": "1b615e39-76eb-462e-a40d-853c10d43871",
   "metadata": {},
   "source": [
    "подбор параметров с помощью графиков"
   ]
  },
  {
   "cell_type": "code",
   "execution_count": 26,
   "id": "a59a89b9-ab12-4ef5-9653-ee536a351502",
   "metadata": {},
   "outputs": [],
   "source": [
    "from statsmodels.graphics.tsaplots import acf, pacf, plot_acf, plot_pacf"
   ]
  },
  {
   "cell_type": "code",
   "execution_count": 27,
   "id": "15d9b92c-4583-4463-bfd0-9d8a871eed62",
   "metadata": {},
   "outputs": [
    {
     "data": {
      "image/png": "[encoded data removed]",
      "text/plain": [
       "<Figure size 432x288 with 1 Axes>"
      ]
     },
     "metadata": {
      "needs_background": "light"
     },
     "output_type": "display_data"
    }
   ],
   "source": [
    "#параметр p\n",
    "plot_acf(df_Fin).show()"
   ]
  },
  {
   "cell_type": "markdown",
   "id": "b1ca7bc1-1cec-4d25-9ce4-2fa0482ab898",
   "metadata": {},
   "source": [
    "p вне синей области - 0 или 1 (с натяжкой)"
   ]
  },
  {
   "cell_type": "code",
   "execution_count": 28,
   "id": "0e0070d1-b085-48a6-bb1c-c70b2e89a612",
   "metadata": {},
   "outputs": [
    {
     "data": {
      "image/png": "[encoded data removed]",
      "text/plain": [
       "<Figure size 432x288 with 1 Axes>"
      ]
     },
     "metadata": {
      "needs_background": "light"
     },
     "output_type": "display_data"
    }
   ],
   "source": [
    "#параметр q\n",
    "plot_pacf(df_Fin).show()"
   ]
  },
  {
   "cell_type": "markdown",
   "id": "80e580ce-5122-48d5-8172-9a44e23e669c",
   "metadata": {},
   "source": [
    "q вне синей области - также 0 или 1 (с натяжкой)"
   ]
  },
  {
   "cell_type": "markdown",
   "id": "f2010640-30e4-442c-8419-ca567124b29a",
   "metadata": {},
   "source": [
    "данные без обработки, p=1, q=1"
   ]
  },
  {
   "cell_type": "code",
   "execution_count": 29,
   "id": "954abaf1-b1e7-4015-88ff-849dfcf474ad",
   "metadata": {},
   "outputs": [
    {
     "name": "stdout",
     "output_type": "stream",
     "text": [
      "AIC= 6214.72467271029\n"
     ]
    },
    {
     "data": {
      "image/png": "[encoded data removed]",
      "text/plain": [
       "<Figure size 432x288 with 1 Axes>"
      ]
     },
     "metadata": {
      "needs_background": "light"
     },
     "output_type": "display_data"
    }
   ],
   "source": [
    "model_fit = ARIMA(df_Fin, order=(1, 0, 1)).fit()\n",
    "df_Fin.plot()\n",
    "model_fit.forecast(30).plot()\n",
    "print('AIC=', model_fit.aic)"
   ]
  },
  {
   "cell_type": "markdown",
   "id": "d16f9d36-6a5b-48e2-b1ed-1b847e893e41",
   "metadata": {},
   "source": [
    "**приведение ряда к стационарному виду** (на всякий случай, т.к. оба метода и так показали, что ряд стационарен), p=1, q=1;    \n",
    "так как явного тренда нет, а дисперсия не постоянная, логарифмируем ряд"
   ]
  },
  {
   "cell_type": "code",
   "execution_count": 30,
   "id": "377410ac-f2cb-4de4-be88-3842a9272d2c",
   "metadata": {},
   "outputs": [],
   "source": [
    "x = df_Fin.daily_new_cases.values\n",
    "x_min = abs(min(x))\n",
    "x_log = np.log(x+x_min+10)"
   ]
  },
  {
   "cell_type": "code",
   "execution_count": 31,
   "id": "f5d862e8-28c6-41c2-9c82-b64d58b6bfc4",
   "metadata": {},
   "outputs": [
    {
     "name": "stdout",
     "output_type": "stream",
     "text": [
      "AIC= 647.9593445024182\n"
     ]
    },
    {
     "data": {
      "image/png": "[encoded data removed]",
      "text/plain": [
       "<Figure size 432x288 with 1 Axes>"
      ]
     },
     "metadata": {
      "needs_background": "light"
     },
     "output_type": "display_data"
    }
   ],
   "source": [
    "model1_fit = ARIMA(x_log, order=(1, 0, 1)).fit()\n",
    "\n",
    "plt.plot(range(len(x)),x)\n",
    "z = range(len(x), len(x) + len(model1_fit.forecast(30)))\n",
    "plt.plot(z,np.exp (model1_fit.forecast(30)) -10 - x_min)\n",
    "plt.plot()\n",
    "\n",
    "print('AIC=', model1_fit.aic)"
   ]
  },
  {
   "cell_type": "markdown",
   "id": "11ee0096-1eb5-4b58-a843-9d60618afb96",
   "metadata": {},
   "source": [
    "коэффициент Акаике значительно меньше, значит, точность повысилась"
   ]
  },
  {
   "cell_type": "markdown",
   "id": "75f008a7-6fae-4c90-b2c9-86eb17d4e3da",
   "metadata": {},
   "source": [
    "**подбор оптимальных параметров модели**"
   ]
  },
  {
   "cell_type": "markdown",
   "id": "7d074b1e-1e4f-4a34-9040-8821f341d075",
   "metadata": {},
   "source": [
    "начальный ряд"
   ]
  },
  {
   "cell_type": "code",
   "execution_count": 32,
   "id": "b90edb14-04ce-4efd-b08c-615c67bd0a3d",
   "metadata": {
    "tags": []
   },
   "outputs": [
    {
     "data": {
      "text/html": [
       "<div>\n",
       "<style scoped>\n",
       "    .dataframe tbody tr th:only-of-type {\n",
       "        vertical-align: middle;\n",
       "    }\n",
       "\n",
       "    .dataframe tbody tr th {\n",
       "        vertical-align: top;\n",
       "    }\n",
       "\n",
       "    .dataframe thead th {\n",
       "        text-align: right;\n",
       "    }\n",
       "</style>\n",
       "<table border=\"1\" class=\"dataframe\">\n",
       "  <thead>\n",
       "    <tr style=\"text-align: right;\">\n",
       "      <th></th>\n",
       "      <th>p</th>\n",
       "      <th>d</th>\n",
       "      <th>q</th>\n",
       "      <th>aic</th>\n",
       "    </tr>\n",
       "  </thead>\n",
       "  <tbody>\n",
       "    <tr>\n",
       "      <th>0</th>\n",
       "      <td>0</td>\n",
       "      <td>0</td>\n",
       "      <td>0</td>\n",
       "      <td>7136.496271</td>\n",
       "    </tr>\n",
       "    <tr>\n",
       "      <th>1</th>\n",
       "      <td>0</td>\n",
       "      <td>0</td>\n",
       "      <td>1</td>\n",
       "      <td>6751.664286</td>\n",
       "    </tr>\n",
       "    <tr>\n",
       "      <th>2</th>\n",
       "      <td>0</td>\n",
       "      <td>0</td>\n",
       "      <td>2</td>\n",
       "      <td>6565.775629</td>\n",
       "    </tr>\n",
       "    <tr>\n",
       "      <th>3</th>\n",
       "      <td>0</td>\n",
       "      <td>0</td>\n",
       "      <td>3</td>\n",
       "      <td>6505.772180</td>\n",
       "    </tr>\n",
       "    <tr>\n",
       "      <th>4</th>\n",
       "      <td>0</td>\n",
       "      <td>0</td>\n",
       "      <td>4</td>\n",
       "      <td>6414.674718</td>\n",
       "    </tr>\n",
       "    <tr>\n",
       "      <th>...</th>\n",
       "      <td>...</td>\n",
       "      <td>...</td>\n",
       "      <td>...</td>\n",
       "      <td>...</td>\n",
       "    </tr>\n",
       "    <tr>\n",
       "      <th>295</th>\n",
       "      <td>9</td>\n",
       "      <td>2</td>\n",
       "      <td>5</td>\n",
       "      <td>6020.613971</td>\n",
       "    </tr>\n",
       "    <tr>\n",
       "      <th>296</th>\n",
       "      <td>9</td>\n",
       "      <td>2</td>\n",
       "      <td>6</td>\n",
       "      <td>6018.947363</td>\n",
       "    </tr>\n",
       "    <tr>\n",
       "      <th>297</th>\n",
       "      <td>9</td>\n",
       "      <td>2</td>\n",
       "      <td>7</td>\n",
       "      <td>6003.000993</td>\n",
       "    </tr>\n",
       "    <tr>\n",
       "      <th>298</th>\n",
       "      <td>9</td>\n",
       "      <td>2</td>\n",
       "      <td>8</td>\n",
       "      <td>5993.543421</td>\n",
       "    </tr>\n",
       "    <tr>\n",
       "      <th>299</th>\n",
       "      <td>9</td>\n",
       "      <td>2</td>\n",
       "      <td>9</td>\n",
       "      <td>5995.030599</td>\n",
       "    </tr>\n",
       "  </tbody>\n",
       "</table>\n",
       "<p>300 rows × 4 columns</p>\n",
       "</div>"
      ],
      "text/plain": [
       "     p  d  q          aic\n",
       "0    0  0  0  7136.496271\n",
       "1    0  0  1  6751.664286\n",
       "2    0  0  2  6565.775629\n",
       "3    0  0  3  6505.772180\n",
       "4    0  0  4  6414.674718\n",
       "..  .. .. ..          ...\n",
       "295  9  2  5  6020.613971\n",
       "296  9  2  6  6018.947363\n",
       "297  9  2  7  6003.000993\n",
       "298  9  2  8  5993.543421\n",
       "299  9  2  9  5995.030599\n",
       "\n",
       "[300 rows x 4 columns]"
      ]
     },
     "execution_count": 32,
     "metadata": {},
     "output_type": "execute_result"
    }
   ],
   "source": [
    "df_p=[]\n",
    "df_d=[]\n",
    "df_q=[]\n",
    "df_aic=[]\n",
    "\n",
    "for p in range(10):\n",
    "    for d in [0,1,2]:\n",
    "        for q in range(10):\n",
    "            try:\n",
    "                model_fit = ARIMA(df_Fin, order=(p,d,q)).fit()\n",
    "                model_fit.aic\n",
    "                \n",
    "                df_p.append(p)\n",
    "                df_d.append(d)\n",
    "                df_q.append(q)\n",
    "                df_aic.append(model_fit.aic)\n",
    "            except:\n",
    "                pass          \n",
    "df_res = pd.DataFrame({'p':df_p, 'd':df_d, 'q':df_q,'aic':df_aic})\n",
    "df_res          "
   ]
  },
  {
   "cell_type": "code",
   "execution_count": 33,
   "id": "054051ba-acfd-4418-b971-1cad5f5cda93",
   "metadata": {},
   "outputs": [
    {
     "data": {
      "text/html": [
       "<div>\n",
       "<style scoped>\n",
       "    .dataframe tbody tr th:only-of-type {\n",
       "        vertical-align: middle;\n",
       "    }\n",
       "\n",
       "    .dataframe tbody tr th {\n",
       "        vertical-align: top;\n",
       "    }\n",
       "\n",
       "    .dataframe thead th {\n",
       "        text-align: right;\n",
       "    }\n",
       "</style>\n",
       "<table border=\"1\" class=\"dataframe\">\n",
       "  <thead>\n",
       "    <tr style=\"text-align: right;\">\n",
       "      <th></th>\n",
       "      <th>p</th>\n",
       "      <th>d</th>\n",
       "      <th>q</th>\n",
       "      <th>aic</th>\n",
       "    </tr>\n",
       "  </thead>\n",
       "  <tbody>\n",
       "    <tr>\n",
       "      <th>268</th>\n",
       "      <td>8</td>\n",
       "      <td>2</td>\n",
       "      <td>8</td>\n",
       "      <td>5992.069347</td>\n",
       "    </tr>\n",
       "  </tbody>\n",
       "</table>\n",
       "</div>"
      ],
      "text/plain": [
       "     p  d  q          aic\n",
       "268  8  2  8  5992.069347"
      ]
     },
     "execution_count": 33,
     "metadata": {},
     "output_type": "execute_result"
    }
   ],
   "source": [
    "df_m = df_res[df_res['aic']==df_res['aic'].min()]\n",
    "df_m"
   ]
  },
  {
   "cell_type": "code",
   "execution_count": 34,
   "id": "97bda3e9-ef51-4391-bf45-545ab074fbbc",
   "metadata": {},
   "outputs": [
    {
     "name": "stdout",
     "output_type": "stream",
     "text": [
      "AIC= 5992.069347367424\n"
     ]
    },
    {
     "data": {
      "image/png": "[encoded data removed]",
      "text/plain": [
       "<Figure size 432x288 with 1 Axes>"
      ]
     },
     "metadata": {
      "needs_background": "light"
     },
     "output_type": "display_data"
    }
   ],
   "source": [
    "model_fit = ARIMA(df_Fin, order=(8, 2, 8)).fit()\n",
    "df_Fin.plot()\n",
    "model_fit.forecast(30).plot()\n",
    "print('AIC=', model_fit.aic)"
   ]
  },
  {
   "cell_type": "markdown",
   "id": "9cb44acd-2759-4543-9888-ec02359867fd",
   "metadata": {},
   "source": [
    "странный результат; как будто модель учла только последнюю часть данных, где идёт рост, и построила прогноз по ней; с неоптимальными параметрами было больше похоже на правду"
   ]
  },
  {
   "cell_type": "markdown",
   "id": "07bc6c88-b0b3-4daa-919a-3c5ff2ca54e5",
   "metadata": {},
   "source": [
    "прологарифмированный ряд"
   ]
  },
  {
   "cell_type": "code",
   "execution_count": 35,
   "id": "3ac9db5f-9fd0-4b5b-9d1e-d97703abb570",
   "metadata": {
    "tags": []
   },
   "outputs": [
    {
     "data": {
      "text/html": [
       "<div>\n",
       "<style scoped>\n",
       "    .dataframe tbody tr th:only-of-type {\n",
       "        vertical-align: middle;\n",
       "    }\n",
       "\n",
       "    .dataframe tbody tr th {\n",
       "        vertical-align: top;\n",
       "    }\n",
       "\n",
       "    .dataframe thead th {\n",
       "        text-align: right;\n",
       "    }\n",
       "</style>\n",
       "<table border=\"1\" class=\"dataframe\">\n",
       "  <thead>\n",
       "    <tr style=\"text-align: right;\">\n",
       "      <th></th>\n",
       "      <th>p</th>\n",
       "      <th>d</th>\n",
       "      <th>q</th>\n",
       "      <th>aic</th>\n",
       "    </tr>\n",
       "  </thead>\n",
       "  <tbody>\n",
       "    <tr>\n",
       "      <th>0</th>\n",
       "      <td>0</td>\n",
       "      <td>0</td>\n",
       "      <td>0</td>\n",
       "      <td>1747.803100</td>\n",
       "    </tr>\n",
       "    <tr>\n",
       "      <th>1</th>\n",
       "      <td>0</td>\n",
       "      <td>0</td>\n",
       "      <td>1</td>\n",
       "      <td>1383.348424</td>\n",
       "    </tr>\n",
       "    <tr>\n",
       "      <th>2</th>\n",
       "      <td>0</td>\n",
       "      <td>0</td>\n",
       "      <td>2</td>\n",
       "      <td>1175.795802</td>\n",
       "    </tr>\n",
       "    <tr>\n",
       "      <th>3</th>\n",
       "      <td>0</td>\n",
       "      <td>0</td>\n",
       "      <td>3</td>\n",
       "      <td>1071.286322</td>\n",
       "    </tr>\n",
       "    <tr>\n",
       "      <th>4</th>\n",
       "      <td>0</td>\n",
       "      <td>0</td>\n",
       "      <td>4</td>\n",
       "      <td>970.494378</td>\n",
       "    </tr>\n",
       "    <tr>\n",
       "      <th>...</th>\n",
       "      <td>...</td>\n",
       "      <td>...</td>\n",
       "      <td>...</td>\n",
       "      <td>...</td>\n",
       "    </tr>\n",
       "    <tr>\n",
       "      <th>295</th>\n",
       "      <td>9</td>\n",
       "      <td>2</td>\n",
       "      <td>5</td>\n",
       "      <td>623.586844</td>\n",
       "    </tr>\n",
       "    <tr>\n",
       "      <th>296</th>\n",
       "      <td>9</td>\n",
       "      <td>2</td>\n",
       "      <td>6</td>\n",
       "      <td>624.809675</td>\n",
       "    </tr>\n",
       "    <tr>\n",
       "      <th>297</th>\n",
       "      <td>9</td>\n",
       "      <td>2</td>\n",
       "      <td>7</td>\n",
       "      <td>606.862259</td>\n",
       "    </tr>\n",
       "    <tr>\n",
       "      <th>298</th>\n",
       "      <td>9</td>\n",
       "      <td>2</td>\n",
       "      <td>8</td>\n",
       "      <td>584.222023</td>\n",
       "    </tr>\n",
       "    <tr>\n",
       "      <th>299</th>\n",
       "      <td>9</td>\n",
       "      <td>2</td>\n",
       "      <td>9</td>\n",
       "      <td>585.979645</td>\n",
       "    </tr>\n",
       "  </tbody>\n",
       "</table>\n",
       "<p>300 rows × 4 columns</p>\n",
       "</div>"
      ],
      "text/plain": [
       "     p  d  q          aic\n",
       "0    0  0  0  1747.803100\n",
       "1    0  0  1  1383.348424\n",
       "2    0  0  2  1175.795802\n",
       "3    0  0  3  1071.286322\n",
       "4    0  0  4   970.494378\n",
       "..  .. .. ..          ...\n",
       "295  9  2  5   623.586844\n",
       "296  9  2  6   624.809675\n",
       "297  9  2  7   606.862259\n",
       "298  9  2  8   584.222023\n",
       "299  9  2  9   585.979645\n",
       "\n",
       "[300 rows x 4 columns]"
      ]
     },
     "execution_count": 35,
     "metadata": {},
     "output_type": "execute_result"
    }
   ],
   "source": [
    "df_p1=[]\n",
    "df_d1=[]\n",
    "df_q1=[]\n",
    "df_aic1=[]\n",
    "\n",
    "x = df_Fin.daily_new_cases.values\n",
    "x_min = abs(min(x))\n",
    "x_log = np.log(x+x_min+10)\n",
    "\n",
    "for p1 in range(10):\n",
    "    for d1 in [0,1,2]:\n",
    "        for q1 in range(10):\n",
    "            try:\n",
    "                model1_fit = ARIMA(x_log, order=(p1,d1,q1)).fit()\n",
    "                model1_fit.aic\n",
    "                \n",
    "                df_p1.append(p1)\n",
    "                df_d1.append(d1)\n",
    "                df_q1.append(q1)\n",
    "                df_aic1.append(model1_fit.aic)\n",
    "            except:\n",
    "                pass          \n",
    "df_res1 = pd.DataFrame({'p':df_p1, 'd':df_d1, 'q':df_q1,'aic':df_aic1})\n",
    "df_res1 "
   ]
  },
  {
   "cell_type": "code",
   "execution_count": 36,
   "id": "912b678e-e7f4-4b93-aafe-19dc6a8bbf90",
   "metadata": {},
   "outputs": [
    {
     "data": {
      "text/html": [
       "<div>\n",
       "<style scoped>\n",
       "    .dataframe tbody tr th:only-of-type {\n",
       "        vertical-align: middle;\n",
       "    }\n",
       "\n",
       "    .dataframe tbody tr th {\n",
       "        vertical-align: top;\n",
       "    }\n",
       "\n",
       "    .dataframe thead th {\n",
       "        text-align: right;\n",
       "    }\n",
       "</style>\n",
       "<table border=\"1\" class=\"dataframe\">\n",
       "  <thead>\n",
       "    <tr style=\"text-align: right;\">\n",
       "      <th></th>\n",
       "      <th>p</th>\n",
       "      <th>d</th>\n",
       "      <th>q</th>\n",
       "      <th>aic</th>\n",
       "    </tr>\n",
       "  </thead>\n",
       "  <tbody>\n",
       "    <tr>\n",
       "      <th>229</th>\n",
       "      <td>7</td>\n",
       "      <td>1</td>\n",
       "      <td>9</td>\n",
       "      <td>566.22954</td>\n",
       "    </tr>\n",
       "  </tbody>\n",
       "</table>\n",
       "</div>"
      ],
      "text/plain": [
       "     p  d  q        aic\n",
       "229  7  1  9  566.22954"
      ]
     },
     "execution_count": 36,
     "metadata": {},
     "output_type": "execute_result"
    }
   ],
   "source": [
    "df_m1 = df_res1[df_res1['aic']==df_res1['aic'].min()]\n",
    "df_m1"
   ]
  },
  {
   "cell_type": "code",
   "execution_count": 41,
   "id": "1940a792-a554-47ec-ba2e-08ed88b051de",
   "metadata": {},
   "outputs": [
    {
     "name": "stdout",
     "output_type": "stream",
     "text": [
      "AIC= 566.2295400092822\n"
     ]
    },
    {
     "data": {
      "image/png": "[encoded data removed]",
      "text/plain": [
       "<Figure size 432x288 with 1 Axes>"
      ]
     },
     "metadata": {
      "needs_background": "light"
     },
     "output_type": "display_data"
    }
   ],
   "source": [
    "model1_fit = ARIMA(x_log, order=(7, 1, 9)).fit()\n",
    "plt.plot(range(len(x)),x)\n",
    "z = range(len(x), len(x) + len(model1_fit.forecast(30)))\n",
    "plt.plot(z,np.exp (model1_fit.forecast(30)) -10 - x_min)\n",
    "plt.plot()\n",
    "print('AIC=', model1_fit.aic)"
   ]
  },
  {
   "cell_type": "markdown",
   "id": "28fb0733-43ba-4c26-b5eb-97fa0175d5f3",
   "metadata": {},
   "source": [
    "здесь точность выше, больше похоже на правду, но тоже явно виден общий рост заболеваемости в прогнозе"
   ]
  },
  {
   "cell_type": "code",
   "execution_count": 42,
   "id": "1a8a5476-9e62-40af-9175-90473477b837",
   "metadata": {},
   "outputs": [
    {
     "name": "stdout",
     "output_type": "stream",
     "text": [
      "AIC= 566.2295400092822\n"
     ]
    },
    {
     "data": {
      "image/png": "[encoded data removed]",
      "text/plain": [
       "<Figure size 432x288 with 1 Axes>"
      ]
     },
     "metadata": {
      "needs_background": "light"
     },
     "output_type": "display_data"
    }
   ],
   "source": [
    "#при прогнозировании на более долгий период, идёт сильный рост, потом небольшой спад и относительная стабилизация на довольно высоком значении\n",
    "model1_fit = ARIMA(x_log, order=(7, 1, 9)).fit()\n",
    "plt.plot(range(len(x)),x)\n",
    "z = range(len(x), len(x) + len(model1_fit.forecast(3000)))\n",
    "plt.plot(z,np.exp (model1_fit.forecast(3000)) -10 - x_min)\n",
    "plt.plot()\n",
    "print('AIC=', model1_fit.aic)"
   ]
  },
  {
   "cell_type": "markdown",
   "id": "f363235b-b37c-4ae6-8cca-fb980570163d",
   "metadata": {},
   "source": [
    "### normal  \n",
    "##### применить градиентный бустинг для решения задачи\n",
    "##### используя кросс-валидацию, сравнить результаты ARIMA и бустинга  "
   ]
  },
  {
   "cell_type": "markdown",
   "id": "3a6822a3-a952-405c-85a9-9358aff7df00",
   "metadata": {},
   "source": [
    "разделение на train и test"
   ]
  },
  {
   "cell_type": "code",
   "execution_count": 43,
   "id": "daa768a8-3d3d-4868-a25f-5d94b8d8c2af",
   "metadata": {},
   "outputs": [],
   "source": [
    "razdel = int(0.8*len(df_Fin))\n",
    "y_train, y_test = df_Fin.iloc[:razdel], df_Fin.iloc[razdel:]"
   ]
  },
  {
   "cell_type": "markdown",
   "id": "ce5ec478-3b26-4c4f-abb5-41a20e1a0d24",
   "metadata": {},
   "source": [
    "**градиентный бустинг, кросс-валидация**"
   ]
  },
  {
   "cell_type": "code",
   "execution_count": 44,
   "id": "8b7440ad-28ff-411a-84bf-b65d01b6336a",
   "metadata": {},
   "outputs": [],
   "source": [
    "from sklearn.ensemble import GradientBoostingRegressor\n",
    "from sklearn.metrics import mean_absolute_error, mean_squared_error, r2_score"
   ]
  },
  {
   "cell_type": "code",
   "execution_count": 45,
   "id": "e624a8ec-e11f-4703-938d-eb35a48ab5e2",
   "metadata": {
    "tags": []
   },
   "outputs": [],
   "source": [
    "pred=[]\n",
    "test=[]\n",
    "\n",
    "x = df_Fin.values\n",
    "\n",
    "for i in range (50, len(x)):\n",
    "    y_train = x[:i]\n",
    "    x_train = np.arange(len(y_train)).reshape(-1,1)\n",
    "    test.append(x[i])\n",
    "   \n",
    "    model = GradientBoostingRegressor()\n",
    "    model.fit(x_train, y_train)\n",
    "    y_pred = model.predict([[i]])\n",
    "    pred.append(y_pred)"
   ]
  },
  {
   "cell_type": "code",
   "execution_count": 46,
   "id": "4cb3c29e-6bda-4224-9c33-85e798658976",
   "metadata": {},
   "outputs": [
    {
     "data": {
      "text/plain": [
       "[<matplotlib.lines.Line2D at 0x24b9565baf0>]"
      ]
     },
     "execution_count": 46,
     "metadata": {},
     "output_type": "execute_result"
    },
    {
     "data": {
      "image/png": "[encoded data removed]",
      "text/plain": [
       "<Figure size 432x288 with 1 Axes>"
      ]
     },
     "metadata": {
      "needs_background": "light"
     },
     "output_type": "display_data"
    }
   ],
   "source": [
    "plt.plot(test)\n",
    "plt.plot(pred)"
   ]
  },
  {
   "cell_type": "code",
   "execution_count": 47,
   "id": "5f142b8d-e06a-4dec-acfa-5d4cd6c5849b",
   "metadata": {},
   "outputs": [
    {
     "name": "stdout",
     "output_type": "stream",
     "text": [
      "mean_absolute_error 60.75393998177388\n",
      "mean_squared_error 8708.368248887133\n",
      "r2 0.7806539075598351\n"
     ]
    }
   ],
   "source": [
    "print('mean_absolute_error',mean_absolute_error(test, pred))\n",
    "print('mean_squared_error',mean_squared_error(test, pred))\n",
    "print('r2',r2_score(test, pred))"
   ]
  },
  {
   "cell_type": "markdown",
   "id": "43df93bd-5d86-4002-a558-96eaccfa9897",
   "metadata": {},
   "source": [
    "**ARIMA, кросс-валидация**"
   ]
  },
  {
   "cell_type": "code",
   "execution_count": null,
   "id": "b2b18980-b85b-4277-9339-fc02dc1a8435",
   "metadata": {
    "tags": []
   },
   "outputs": [],
   "source": [
    "pred_a=[]\n",
    "test_a=[]\n",
    "\n",
    "x = df_Fin.values\n",
    "\n",
    "for i in range (50, len(x)):\n",
    "    train_a = x[:i]\n",
    "    test_a.append(x[i])\n",
    "   \n",
    "    model_a_fit = ARIMA(train_a, order=(8,2,8)).fit()\n",
    "    forecast = model_a_fit.forecast(1)[0]\n",
    "    pred_a.append(forecast) "
   ]
  },
  {
   "cell_type": "code",
   "execution_count": null,
   "id": "c9d793d7-2fe7-4704-adf9-cb709bc02976",
   "metadata": {},
   "outputs": [],
   "source": [
    "plt.plot(test_a)\n",
    "plt.plot(pred_a)"
   ]
  },
  {
   "cell_type": "code",
   "execution_count": null,
   "id": "e67db738-ee82-4f45-9097-14dbd17fe07e",
   "metadata": {},
   "outputs": [],
   "source": [
    "print('mean_absolute_error',mean_absolute_error(test_a, pred_a))\n",
    "print('mean_squared_error',mean_squared_error(test_a, pred_a))\n",
    "print('r2', r2_score(test_a, pred_a))"
   ]
  },
  {
   "cell_type": "markdown",
   "id": "220b1b76-dbc5-4ec1-9b97-0f26a499ab6c",
   "metadata": {},
   "source": [
    "**у ARIMA результат лучше**"
   ]
  }
 ],
 "metadata": {
  "kernelspec": {
   "display_name": "Python 3 (ipykernel)",
   "language": "python",
   "name": "python3"
  },
  "language_info": {
   "codemirror_mode": {
    "name": "ipython",
    "version": 3
   },
   "file_extension": ".py",
   "mimetype": "text/x-python",
   "name": "python",
   "nbconvert_exporter": "python",
   "pygments_lexer": "ipython3",
   "version": "3.8.12"
  }
 },
 "nbformat": 4,
 "nbformat_minor": 5
}
