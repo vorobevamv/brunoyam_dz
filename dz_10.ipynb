{
 "cells": [
  {
   "cell_type": "code",
   "execution_count": 1,
   "id": "e252b80c-c8ea-4fcb-80ed-408607fe8bad",
   "metadata": {},
   "outputs": [],
   "source": [
    "import warnings\n",
    "warnings.filterwarnings(\"ignore\")"
   ]
  },
  {
   "cell_type": "code",
   "execution_count": 5,
   "id": "eead9b31-e5ed-469c-94bf-c8314ed3ad5c",
   "metadata": {},
   "outputs": [],
   "source": [
    "import nltk \n",
    "from nltk.stem.porter import *"
   ]
  },
  {
   "cell_type": "code",
   "execution_count": 7,
   "id": "338b1802-b0ed-4016-b0a0-323b6230477e",
   "metadata": {},
   "outputs": [],
   "source": [
    "import pymorphy2"
   ]
  },
  {
   "cell_type": "code",
   "execution_count": 8,
   "id": "047ec2d4-ead8-4935-8f27-0716e0980529",
   "metadata": {},
   "outputs": [],
   "source": [
    "import numpy as np\n",
    "import pandas as pd\n",
    "import matplotlib.pyplot as plt"
   ]
  },
  {
   "cell_type": "markdown",
   "id": "2b66ecd0-ac66-45b3-845b-934402066701",
   "metadata": {},
   "source": [
    "##### Будем решать задачу сентимент-анализа. В архиве data/sentiment analisys.zip лежит несколько эксель файлов с твитами разных пользователей на разных языках (один файл - один язык).\n",
    "##### Нужно выбрать один из файлов и провести над ним работу."
   ]
  },
  {
   "cell_type": "markdown",
   "id": "f44888ed-bb3c-447c-b34f-09a3871ebc03",
   "metadata": {},
   "source": [
    "возьмём файл по Бирюлёво"
   ]
  },
  {
   "cell_type": "code",
   "execution_count": 9,
   "id": "8c7a80f9-dfa7-4bca-8171-b9b2ee37fae8",
   "metadata": {},
   "outputs": [
    {
     "data": {
      "text/html": [
       "<div>\n",
       "<style scoped>\n",
       "    .dataframe tbody tr th:only-of-type {\n",
       "        vertical-align: middle;\n",
       "    }\n",
       "\n",
       "    .dataframe tbody tr th {\n",
       "        vertical-align: top;\n",
       "    }\n",
       "\n",
       "    .dataframe thead th {\n",
       "        text-align: right;\n",
       "    }\n",
       "</style>\n",
       "<table border=\"1\" class=\"dataframe\">\n",
       "  <thead>\n",
       "    <tr style=\"text-align: right;\">\n",
       "      <th></th>\n",
       "      <th>user</th>\n",
       "      <th>tweet</th>\n",
       "      <th>SENTIMENT</th>\n",
       "      <th>Unnamed: 3</th>\n",
       "      <th>Unnamed: 4</th>\n",
       "      <th>Unnamed: 5</th>\n",
       "    </tr>\n",
       "  </thead>\n",
       "  <tbody>\n",
       "    <tr>\n",
       "      <th>0</th>\n",
       "      <td>NaN</td>\n",
       "      <td>NaN</td>\n",
       "      <td>NaN</td>\n",
       "      <td>NaN</td>\n",
       "      <td>1.0</td>\n",
       "      <td>POSITIVE</td>\n",
       "    </tr>\n",
       "    <tr>\n",
       "      <th>1</th>\n",
       "      <td>BorisALV</td>\n",
       "      <td>в вост. #бирюлево на одну палатку с кошатиной ...</td>\n",
       "      <td>1</td>\n",
       "      <td>NaN</td>\n",
       "      <td>2.0</td>\n",
       "      <td>NEUTRAL</td>\n",
       "    </tr>\n",
       "    <tr>\n",
       "      <th>2</th>\n",
       "      <td>White_technolog</td>\n",
       "      <td>у районной управы собираются местные жители #б...</td>\n",
       "      <td>2</td>\n",
       "      <td>NaN</td>\n",
       "      <td>3.0</td>\n",
       "      <td>NEGATIVE</td>\n",
       "    </tr>\n",
       "    <tr>\n",
       "      <th>3</th>\n",
       "      <td>White_technolog</td>\n",
       "      <td>“@tvrain: тем временем конная полиция добралас...</td>\n",
       "      <td>2</td>\n",
       "      <td>NaN</td>\n",
       "      <td>NaN</td>\n",
       "      <td>NaN</td>\n",
       "    </tr>\n",
       "    <tr>\n",
       "      <th>4</th>\n",
       "      <td>White_technolog</td>\n",
       "      <td>в центре появились тощие прыщавые мужичонки с ...</td>\n",
       "      <td>3</td>\n",
       "      <td>NaN</td>\n",
       "      <td>NaN</td>\n",
       "      <td>NaN</td>\n",
       "    </tr>\n",
       "    <tr>\n",
       "      <th>...</th>\n",
       "      <td>...</td>\n",
       "      <td>...</td>\n",
       "      <td>...</td>\n",
       "      <td>...</td>\n",
       "      <td>...</td>\n",
       "      <td>...</td>\n",
       "    </tr>\n",
       "    <tr>\n",
       "      <th>1886</th>\n",
       "      <td>GraniTweet</td>\n",
       "      <td>наш корр @dmitryhorse ведет трансляцию из #бир...</td>\n",
       "      <td>2</td>\n",
       "      <td>NaN</td>\n",
       "      <td>NaN</td>\n",
       "      <td>NaN</td>\n",
       "    </tr>\n",
       "    <tr>\n",
       "      <th>1887</th>\n",
       "      <td>Fkontakte</td>\n",
       "      <td>“@gazetaru: #мид ответил на заявление германии...</td>\n",
       "      <td>2</td>\n",
       "      <td>NaN</td>\n",
       "      <td>NaN</td>\n",
       "      <td>NaN</td>\n",
       "    </tr>\n",
       "    <tr>\n",
       "      <th>1888</th>\n",
       "      <td>Fkontakte</td>\n",
       "      <td>“@rt_russian: #азербайджан'ские радикалы пригр...</td>\n",
       "      <td>3</td>\n",
       "      <td>NaN</td>\n",
       "      <td>NaN</td>\n",
       "      <td>NaN</td>\n",
       "    </tr>\n",
       "    <tr>\n",
       "      <th>1889</th>\n",
       "      <td>Fkontakte</td>\n",
       "      <td>“@rt_russian: эксклюзив: новые кадры задержани...</td>\n",
       "      <td>2</td>\n",
       "      <td>NaN</td>\n",
       "      <td>NaN</td>\n",
       "      <td>NaN</td>\n",
       "    </tr>\n",
       "    <tr>\n",
       "      <th>1890</th>\n",
       "      <td>Fkontakte</td>\n",
       "      <td>предполагаемый убийца егора #щербаков'а в #бир...</td>\n",
       "      <td>2</td>\n",
       "      <td>NaN</td>\n",
       "      <td>NaN</td>\n",
       "      <td>NaN</td>\n",
       "    </tr>\n",
       "  </tbody>\n",
       "</table>\n",
       "<p>1891 rows × 6 columns</p>\n",
       "</div>"
      ],
      "text/plain": [
       "                 user                                              tweet  \\\n",
       "0                 NaN                                                NaN   \n",
       "1            BorisALV  в вост. #бирюлево на одну палатку с кошатиной ...   \n",
       "2     White_technolog  у районной управы собираются местные жители #б...   \n",
       "3     White_technolog  “@tvrain: тем временем конная полиция добралас...   \n",
       "4     White_technolog  в центре появились тощие прыщавые мужичонки с ...   \n",
       "...               ...                                                ...   \n",
       "1886       GraniTweet  наш корр @dmitryhorse ведет трансляцию из #бир...   \n",
       "1887        Fkontakte  “@gazetaru: #мид ответил на заявление германии...   \n",
       "1888        Fkontakte  “@rt_russian: #азербайджан'ские радикалы пригр...   \n",
       "1889        Fkontakte  “@rt_russian: эксклюзив: новые кадры задержани...   \n",
       "1890        Fkontakte  предполагаемый убийца егора #щербаков'а в #бир...   \n",
       "\n",
       "     SENTIMENT  Unnamed: 3  Unnamed: 4 Unnamed: 5  \n",
       "0          NaN         NaN         1.0   POSITIVE  \n",
       "1            1         NaN         2.0    NEUTRAL  \n",
       "2            2         NaN         3.0   NEGATIVE  \n",
       "3            2         NaN         NaN        NaN  \n",
       "4            3         NaN         NaN        NaN  \n",
       "...        ...         ...         ...        ...  \n",
       "1886         2         NaN         NaN        NaN  \n",
       "1887         2         NaN         NaN        NaN  \n",
       "1888         3         NaN         NaN        NaN  \n",
       "1889         2         NaN         NaN        NaN  \n",
       "1890         2         NaN         NaN        NaN  \n",
       "\n",
       "[1891 rows x 6 columns]"
      ]
     },
     "execution_count": 9,
     "metadata": {},
     "output_type": "execute_result"
    }
   ],
   "source": [
    "df_B = pd.read_excel('data/birulevo sentiment coded.xlsx')\n",
    "df_B"
   ]
  },
  {
   "cell_type": "markdown",
   "id": "cb384d3c-5cc7-4f2d-9fc4-d2d6974223af",
   "metadata": {},
   "source": [
    "удалим лишнее"
   ]
  },
  {
   "cell_type": "code",
   "execution_count": 10,
   "id": "d0360653-c375-411e-bacf-9f3cea153229",
   "metadata": {},
   "outputs": [
    {
     "data": {
      "text/html": [
       "<div>\n",
       "<style scoped>\n",
       "    .dataframe tbody tr th:only-of-type {\n",
       "        vertical-align: middle;\n",
       "    }\n",
       "\n",
       "    .dataframe tbody tr th {\n",
       "        vertical-align: top;\n",
       "    }\n",
       "\n",
       "    .dataframe thead th {\n",
       "        text-align: right;\n",
       "    }\n",
       "</style>\n",
       "<table border=\"1\" class=\"dataframe\">\n",
       "  <thead>\n",
       "    <tr style=\"text-align: right;\">\n",
       "      <th></th>\n",
       "      <th>user</th>\n",
       "      <th>tweet</th>\n",
       "      <th>SENTIMENT</th>\n",
       "    </tr>\n",
       "  </thead>\n",
       "  <tbody>\n",
       "    <tr>\n",
       "      <th>1</th>\n",
       "      <td>BorisALV</td>\n",
       "      <td>в вост. #бирюлево на одну палатку с кошатиной ...</td>\n",
       "      <td>1</td>\n",
       "    </tr>\n",
       "    <tr>\n",
       "      <th>2</th>\n",
       "      <td>White_technolog</td>\n",
       "      <td>у районной управы собираются местные жители #б...</td>\n",
       "      <td>2</td>\n",
       "    </tr>\n",
       "    <tr>\n",
       "      <th>3</th>\n",
       "      <td>White_technolog</td>\n",
       "      <td>“@tvrain: тем временем конная полиция добралас...</td>\n",
       "      <td>2</td>\n",
       "    </tr>\n",
       "    <tr>\n",
       "      <th>4</th>\n",
       "      <td>White_technolog</td>\n",
       "      <td>в центре появились тощие прыщавые мужичонки с ...</td>\n",
       "      <td>3</td>\n",
       "    </tr>\n",
       "    <tr>\n",
       "      <th>5</th>\n",
       "      <td>White_technolog</td>\n",
       "      <td>как пишет товарищ в смс, на площади революции ...</td>\n",
       "      <td>3</td>\n",
       "    </tr>\n",
       "    <tr>\n",
       "      <th>...</th>\n",
       "      <td>...</td>\n",
       "      <td>...</td>\n",
       "      <td>...</td>\n",
       "    </tr>\n",
       "    <tr>\n",
       "      <th>1886</th>\n",
       "      <td>GraniTweet</td>\n",
       "      <td>наш корр @dmitryhorse ведет трансляцию из #бир...</td>\n",
       "      <td>2</td>\n",
       "    </tr>\n",
       "    <tr>\n",
       "      <th>1887</th>\n",
       "      <td>Fkontakte</td>\n",
       "      <td>“@gazetaru: #мид ответил на заявление германии...</td>\n",
       "      <td>2</td>\n",
       "    </tr>\n",
       "    <tr>\n",
       "      <th>1888</th>\n",
       "      <td>Fkontakte</td>\n",
       "      <td>“@rt_russian: #азербайджан'ские радикалы пригр...</td>\n",
       "      <td>3</td>\n",
       "    </tr>\n",
       "    <tr>\n",
       "      <th>1889</th>\n",
       "      <td>Fkontakte</td>\n",
       "      <td>“@rt_russian: эксклюзив: новые кадры задержани...</td>\n",
       "      <td>2</td>\n",
       "    </tr>\n",
       "    <tr>\n",
       "      <th>1890</th>\n",
       "      <td>Fkontakte</td>\n",
       "      <td>предполагаемый убийца егора #щербаков'а в #бир...</td>\n",
       "      <td>2</td>\n",
       "    </tr>\n",
       "  </tbody>\n",
       "</table>\n",
       "<p>1890 rows × 3 columns</p>\n",
       "</div>"
      ],
      "text/plain": [
       "                 user                                              tweet  \\\n",
       "1            BorisALV  в вост. #бирюлево на одну палатку с кошатиной ...   \n",
       "2     White_technolog  у районной управы собираются местные жители #б...   \n",
       "3     White_technolog  “@tvrain: тем временем конная полиция добралас...   \n",
       "4     White_technolog  в центре появились тощие прыщавые мужичонки с ...   \n",
       "5     White_technolog  как пишет товарищ в смс, на площади революции ...   \n",
       "...               ...                                                ...   \n",
       "1886       GraniTweet  наш корр @dmitryhorse ведет трансляцию из #бир...   \n",
       "1887        Fkontakte  “@gazetaru: #мид ответил на заявление германии...   \n",
       "1888        Fkontakte  “@rt_russian: #азербайджан'ские радикалы пригр...   \n",
       "1889        Fkontakte  “@rt_russian: эксклюзив: новые кадры задержани...   \n",
       "1890        Fkontakte  предполагаемый убийца егора #щербаков'а в #бир...   \n",
       "\n",
       "     SENTIMENT  \n",
       "1            1  \n",
       "2            2  \n",
       "3            2  \n",
       "4            3  \n",
       "5            3  \n",
       "...        ...  \n",
       "1886         2  \n",
       "1887         2  \n",
       "1888         3  \n",
       "1889         2  \n",
       "1890         2  \n",
       "\n",
       "[1890 rows x 3 columns]"
      ]
     },
     "execution_count": 10,
     "metadata": {},
     "output_type": "execute_result"
    }
   ],
   "source": [
    "df_B = df_B[['user','tweet','SENTIMENT']].dropna()\n",
    "df_B"
   ]
  },
  {
   "cell_type": "markdown",
   "id": "960bc62c-411b-4940-9f3e-127a487bd356",
   "metadata": {},
   "source": [
    "### easy  \n",
    "##### оценить сбалансированность классов  \n",
    "##### удалить пунктуацию из датасета  \n",
    "##### преобразовать датасет в BOW или TF-IDF, поделить на треин-тест и спрогнозировать вашей любимой моделью"
   ]
  },
  {
   "cell_type": "markdown",
   "id": "e1f60115-d65d-4ac8-804f-4c9d5b289513",
   "metadata": {},
   "source": [
    "**оценка сбалансированности классов**"
   ]
  },
  {
   "cell_type": "code",
   "execution_count": 11,
   "id": "a014e647-f50f-4814-9f06-595954c09307",
   "metadata": {},
   "outputs": [
    {
     "data": {
      "text/html": [
       "<div>\n",
       "<style scoped>\n",
       "    .dataframe tbody tr th:only-of-type {\n",
       "        vertical-align: middle;\n",
       "    }\n",
       "\n",
       "    .dataframe tbody tr th {\n",
       "        vertical-align: top;\n",
       "    }\n",
       "\n",
       "    .dataframe thead th {\n",
       "        text-align: right;\n",
       "    }\n",
       "</style>\n",
       "<table border=\"1\" class=\"dataframe\">\n",
       "  <thead>\n",
       "    <tr style=\"text-align: right;\">\n",
       "      <th></th>\n",
       "      <th>user</th>\n",
       "      <th>tweet</th>\n",
       "      <th>SENTIMENT</th>\n",
       "      <th>sent_w</th>\n",
       "    </tr>\n",
       "  </thead>\n",
       "  <tbody>\n",
       "    <tr>\n",
       "      <th>1</th>\n",
       "      <td>BorisALV</td>\n",
       "      <td>в вост. #бирюлево на одну палатку с кошатиной ...</td>\n",
       "      <td>1</td>\n",
       "      <td>positive</td>\n",
       "    </tr>\n",
       "    <tr>\n",
       "      <th>2</th>\n",
       "      <td>White_technolog</td>\n",
       "      <td>у районной управы собираются местные жители #б...</td>\n",
       "      <td>2</td>\n",
       "      <td>neutral</td>\n",
       "    </tr>\n",
       "    <tr>\n",
       "      <th>3</th>\n",
       "      <td>White_technolog</td>\n",
       "      <td>“@tvrain: тем временем конная полиция добралас...</td>\n",
       "      <td>2</td>\n",
       "      <td>neutral</td>\n",
       "    </tr>\n",
       "    <tr>\n",
       "      <th>4</th>\n",
       "      <td>White_technolog</td>\n",
       "      <td>в центре появились тощие прыщавые мужичонки с ...</td>\n",
       "      <td>3</td>\n",
       "      <td>negative</td>\n",
       "    </tr>\n",
       "    <tr>\n",
       "      <th>5</th>\n",
       "      <td>White_technolog</td>\n",
       "      <td>как пишет товарищ в смс, на площади революции ...</td>\n",
       "      <td>3</td>\n",
       "      <td>negative</td>\n",
       "    </tr>\n",
       "    <tr>\n",
       "      <th>...</th>\n",
       "      <td>...</td>\n",
       "      <td>...</td>\n",
       "      <td>...</td>\n",
       "      <td>...</td>\n",
       "    </tr>\n",
       "    <tr>\n",
       "      <th>1886</th>\n",
       "      <td>GraniTweet</td>\n",
       "      <td>наш корр @dmitryhorse ведет трансляцию из #бир...</td>\n",
       "      <td>2</td>\n",
       "      <td>neutral</td>\n",
       "    </tr>\n",
       "    <tr>\n",
       "      <th>1887</th>\n",
       "      <td>Fkontakte</td>\n",
       "      <td>“@gazetaru: #мид ответил на заявление германии...</td>\n",
       "      <td>2</td>\n",
       "      <td>neutral</td>\n",
       "    </tr>\n",
       "    <tr>\n",
       "      <th>1888</th>\n",
       "      <td>Fkontakte</td>\n",
       "      <td>“@rt_russian: #азербайджан'ские радикалы пригр...</td>\n",
       "      <td>3</td>\n",
       "      <td>negative</td>\n",
       "    </tr>\n",
       "    <tr>\n",
       "      <th>1889</th>\n",
       "      <td>Fkontakte</td>\n",
       "      <td>“@rt_russian: эксклюзив: новые кадры задержани...</td>\n",
       "      <td>2</td>\n",
       "      <td>neutral</td>\n",
       "    </tr>\n",
       "    <tr>\n",
       "      <th>1890</th>\n",
       "      <td>Fkontakte</td>\n",
       "      <td>предполагаемый убийца егора #щербаков'а в #бир...</td>\n",
       "      <td>2</td>\n",
       "      <td>neutral</td>\n",
       "    </tr>\n",
       "  </tbody>\n",
       "</table>\n",
       "<p>1890 rows × 4 columns</p>\n",
       "</div>"
      ],
      "text/plain": [
       "                 user                                              tweet  \\\n",
       "1            BorisALV  в вост. #бирюлево на одну палатку с кошатиной ...   \n",
       "2     White_technolog  у районной управы собираются местные жители #б...   \n",
       "3     White_technolog  “@tvrain: тем временем конная полиция добралас...   \n",
       "4     White_technolog  в центре появились тощие прыщавые мужичонки с ...   \n",
       "5     White_technolog  как пишет товарищ в смс, на площади революции ...   \n",
       "...               ...                                                ...   \n",
       "1886       GraniTweet  наш корр @dmitryhorse ведет трансляцию из #бир...   \n",
       "1887        Fkontakte  “@gazetaru: #мид ответил на заявление германии...   \n",
       "1888        Fkontakte  “@rt_russian: #азербайджан'ские радикалы пригр...   \n",
       "1889        Fkontakte  “@rt_russian: эксклюзив: новые кадры задержани...   \n",
       "1890        Fkontakte  предполагаемый убийца егора #щербаков'а в #бир...   \n",
       "\n",
       "     SENTIMENT    sent_w  \n",
       "1            1  positive  \n",
       "2            2   neutral  \n",
       "3            2   neutral  \n",
       "4            3  negative  \n",
       "5            3  negative  \n",
       "...        ...       ...  \n",
       "1886         2   neutral  \n",
       "1887         2   neutral  \n",
       "1888         3  negative  \n",
       "1889         2   neutral  \n",
       "1890         2   neutral  \n",
       "\n",
       "[1890 rows x 4 columns]"
      ]
     },
     "execution_count": 11,
     "metadata": {},
     "output_type": "execute_result"
    }
   ],
   "source": [
    "df_B.loc[df_B['SENTIMENT']==1, 'sent_w'] = 'positive'\n",
    "df_B.loc[df_B['SENTIMENT']==2, 'sent_w'] = 'neutral'\n",
    "df_B.loc[df_B['SENTIMENT']==3, 'sent_w'] = 'negative'\n",
    "df_B"
   ]
  },
  {
   "cell_type": "code",
   "execution_count": 12,
   "id": "b3883e2e-16e8-431c-803b-5f98f6d21a9e",
   "metadata": {},
   "outputs": [
    {
     "data": {
      "text/plain": [
       "<AxesSubplot:>"
      ]
     },
     "execution_count": 12,
     "metadata": {},
     "output_type": "execute_result"
    },
    {
     "data": {
      "image/png": "[encoded data removed]",
      "text/plain": [
       "<Figure size 432x288 with 1 Axes>"
      ]
     },
     "metadata": {
      "needs_background": "light"
     },
     "output_type": "display_data"
    }
   ],
   "source": [
    "df_B.sent_w.hist(bins=5)"
   ]
  },
  {
   "cell_type": "markdown",
   "id": "7684846e-b925-42c7-ad49-2dd302d20ca3",
   "metadata": {},
   "source": [
    "**сбалансированности нет: больше всего негативных сообщений, позитивных совсем мало**"
   ]
  },
  {
   "cell_type": "markdown",
   "id": "07724e05-8816-404c-b568-a137d2defbac",
   "metadata": {},
   "source": [
    "**удаление пунктуации**"
   ]
  },
  {
   "cell_type": "code",
   "execution_count": 13,
   "id": "3446572e-edb8-402b-bbdb-317f160d6185",
   "metadata": {},
   "outputs": [],
   "source": [
    "import re"
   ]
  },
  {
   "cell_type": "code",
   "execution_count": 14,
   "id": "bafac0af-7429-42e1-9807-dcd6841fac79",
   "metadata": {},
   "outputs": [
    {
     "data": {
      "text/html": [
       "<div>\n",
       "<style scoped>\n",
       "    .dataframe tbody tr th:only-of-type {\n",
       "        vertical-align: middle;\n",
       "    }\n",
       "\n",
       "    .dataframe tbody tr th {\n",
       "        vertical-align: top;\n",
       "    }\n",
       "\n",
       "    .dataframe thead th {\n",
       "        text-align: right;\n",
       "    }\n",
       "</style>\n",
       "<table border=\"1\" class=\"dataframe\">\n",
       "  <thead>\n",
       "    <tr style=\"text-align: right;\">\n",
       "      <th></th>\n",
       "      <th>user</th>\n",
       "      <th>tweet</th>\n",
       "      <th>SENTIMENT</th>\n",
       "      <th>sent_w</th>\n",
       "      <th>tweet_bz</th>\n",
       "    </tr>\n",
       "  </thead>\n",
       "  <tbody>\n",
       "    <tr>\n",
       "      <th>1</th>\n",
       "      <td>BorisALV</td>\n",
       "      <td>в вост. #бирюлево на одну палатку с кошатиной ...</td>\n",
       "      <td>1</td>\n",
       "      <td>positive</td>\n",
       "      <td>в вост бирюлево на одну палатку с кошатиной ст...</td>\n",
       "    </tr>\n",
       "    <tr>\n",
       "      <th>2</th>\n",
       "      <td>White_technolog</td>\n",
       "      <td>у районной управы собираются местные жители #б...</td>\n",
       "      <td>2</td>\n",
       "      <td>neutral</td>\n",
       "      <td>у районной управы собираются местные жители би...</td>\n",
       "    </tr>\n",
       "    <tr>\n",
       "      <th>3</th>\n",
       "      <td>White_technolog</td>\n",
       "      <td>“@tvrain: тем временем конная полиция добралас...</td>\n",
       "      <td>2</td>\n",
       "      <td>neutral</td>\n",
       "      <td>tvrain тем временем конная полиция добралась д...</td>\n",
       "    </tr>\n",
       "    <tr>\n",
       "      <th>4</th>\n",
       "      <td>White_technolog</td>\n",
       "      <td>в центре появились тощие прыщавые мужичонки с ...</td>\n",
       "      <td>3</td>\n",
       "      <td>negative</td>\n",
       "      <td>в центре появились тощие прыщавые мужичонки с ...</td>\n",
       "    </tr>\n",
       "    <tr>\n",
       "      <th>5</th>\n",
       "      <td>White_technolog</td>\n",
       "      <td>как пишет товарищ в смс, на площади революции ...</td>\n",
       "      <td>3</td>\n",
       "      <td>negative</td>\n",
       "      <td>как пишет товарищ в смс на площади революции ч...</td>\n",
       "    </tr>\n",
       "    <tr>\n",
       "      <th>...</th>\n",
       "      <td>...</td>\n",
       "      <td>...</td>\n",
       "      <td>...</td>\n",
       "      <td>...</td>\n",
       "      <td>...</td>\n",
       "    </tr>\n",
       "    <tr>\n",
       "      <th>1886</th>\n",
       "      <td>GraniTweet</td>\n",
       "      <td>наш корр @dmitryhorse ведет трансляцию из #бир...</td>\n",
       "      <td>2</td>\n",
       "      <td>neutral</td>\n",
       "      <td>наш корр dmitryhorse ведет трансляцию из бирюлево</td>\n",
       "    </tr>\n",
       "    <tr>\n",
       "      <th>1887</th>\n",
       "      <td>Fkontakte</td>\n",
       "      <td>“@gazetaru: #мид ответил на заявление германии...</td>\n",
       "      <td>2</td>\n",
       "      <td>neutral</td>\n",
       "      <td>gazetaru мид ответил на заявление германии о б...</td>\n",
       "    </tr>\n",
       "    <tr>\n",
       "      <th>1888</th>\n",
       "      <td>Fkontakte</td>\n",
       "      <td>“@rt_russian: #азербайджан'ские радикалы пригр...</td>\n",
       "      <td>3</td>\n",
       "      <td>negative</td>\n",
       "      <td>rt_russian азербайджанские радикалы пригрозили...</td>\n",
       "    </tr>\n",
       "    <tr>\n",
       "      <th>1889</th>\n",
       "      <td>Fkontakte</td>\n",
       "      <td>“@rt_russian: эксклюзив: новые кадры задержани...</td>\n",
       "      <td>2</td>\n",
       "      <td>neutral</td>\n",
       "      <td>rt_russian эксклюзив новые кадры задержания по...</td>\n",
       "    </tr>\n",
       "    <tr>\n",
       "      <th>1890</th>\n",
       "      <td>Fkontakte</td>\n",
       "      <td>предполагаемый убийца егора #щербаков'а в #бир...</td>\n",
       "      <td>2</td>\n",
       "      <td>neutral</td>\n",
       "      <td>предполагаемый убийца егора щербакова в бирюле...</td>\n",
       "    </tr>\n",
       "  </tbody>\n",
       "</table>\n",
       "<p>1890 rows × 5 columns</p>\n",
       "</div>"
      ],
      "text/plain": [
       "                 user                                              tweet  \\\n",
       "1            BorisALV  в вост. #бирюлево на одну палатку с кошатиной ...   \n",
       "2     White_technolog  у районной управы собираются местные жители #б...   \n",
       "3     White_technolog  “@tvrain: тем временем конная полиция добралас...   \n",
       "4     White_technolog  в центре появились тощие прыщавые мужичонки с ...   \n",
       "5     White_technolog  как пишет товарищ в смс, на площади революции ...   \n",
       "...               ...                                                ...   \n",
       "1886       GraniTweet  наш корр @dmitryhorse ведет трансляцию из #бир...   \n",
       "1887        Fkontakte  “@gazetaru: #мид ответил на заявление германии...   \n",
       "1888        Fkontakte  “@rt_russian: #азербайджан'ские радикалы пригр...   \n",
       "1889        Fkontakte  “@rt_russian: эксклюзив: новые кадры задержани...   \n",
       "1890        Fkontakte  предполагаемый убийца егора #щербаков'а в #бир...   \n",
       "\n",
       "     SENTIMENT    sent_w                                           tweet_bz  \n",
       "1            1  positive  в вост бирюлево на одну палатку с кошатиной ст...  \n",
       "2            2   neutral  у районной управы собираются местные жители би...  \n",
       "3            2   neutral  tvrain тем временем конная полиция добралась д...  \n",
       "4            3  negative  в центре появились тощие прыщавые мужичонки с ...  \n",
       "5            3  negative  как пишет товарищ в смс на площади революции ч...  \n",
       "...        ...       ...                                                ...  \n",
       "1886         2   neutral  наш корр dmitryhorse ведет трансляцию из бирюлево  \n",
       "1887         2   neutral  gazetaru мид ответил на заявление германии о б...  \n",
       "1888         3  negative  rt_russian азербайджанские радикалы пригрозили...  \n",
       "1889         2   neutral  rt_russian эксклюзив новые кадры задержания по...  \n",
       "1890         2   neutral  предполагаемый убийца егора щербакова в бирюле...  \n",
       "\n",
       "[1890 rows x 5 columns]"
      ]
     },
     "execution_count": 14,
     "metadata": {},
     "output_type": "execute_result"
    }
   ],
   "source": [
    "for i in range(len(df_B)):\n",
    "    a = str(df_B.iloc[i,1])\n",
    "    b = re.sub(r'[^\\w\\s]','', a)\n",
    "    df_B.loc[df_B.index==(i+1), 'tweet_bz'] = b\n",
    "df_B"
   ]
  },
  {
   "cell_type": "markdown",
   "id": "07678d5e-05d4-4981-a491-5cfd21ce013a",
   "metadata": {},
   "source": [
    "**преобразование датасета в TF-IDF**"
   ]
  },
  {
   "cell_type": "code",
   "execution_count": 15,
   "id": "60841e96-e1f1-4549-a3eb-adc611e324b9",
   "metadata": {},
   "outputs": [],
   "source": [
    "from sklearn.feature_extraction.text import TfidfVectorizer\n",
    "from sklearn.model_selection import train_test_split"
   ]
  },
  {
   "cell_type": "code",
   "execution_count": 16,
   "id": "df3182fa-bca6-4af2-87f2-851340f77089",
   "metadata": {},
   "outputs": [],
   "source": [
    "tfidf = TfidfVectorizer()\n",
    "x = tfidf.fit_transform(df_B.tweet_bz)"
   ]
  },
  {
   "cell_type": "markdown",
   "id": "084af57f-03be-41ae-bbf1-05ab04edca09",
   "metadata": {},
   "source": [
    "**разделение на train и test**"
   ]
  },
  {
   "cell_type": "code",
   "execution_count": 29,
   "id": "9672c540-8977-41d4-bff8-da5a936b431b",
   "metadata": {},
   "outputs": [
    {
     "data": {
      "text/html": [
       "<div>\n",
       "<style scoped>\n",
       "    .dataframe tbody tr th:only-of-type {\n",
       "        vertical-align: middle;\n",
       "    }\n",
       "\n",
       "    .dataframe tbody tr th {\n",
       "        vertical-align: top;\n",
       "    }\n",
       "\n",
       "    .dataframe thead th {\n",
       "        text-align: right;\n",
       "    }\n",
       "</style>\n",
       "<table border=\"1\" class=\"dataframe\">\n",
       "  <thead>\n",
       "    <tr style=\"text-align: right;\">\n",
       "      <th></th>\n",
       "      <th>user</th>\n",
       "      <th>tweet</th>\n",
       "      <th>SENTIMENT</th>\n",
       "      <th>sent_w</th>\n",
       "      <th>tweet_bz</th>\n",
       "      <th>sent_code</th>\n",
       "    </tr>\n",
       "  </thead>\n",
       "  <tbody>\n",
       "    <tr>\n",
       "      <th>1</th>\n",
       "      <td>BorisALV</td>\n",
       "      <td>в вост. #бирюлево на одну палатку с кошатиной ...</td>\n",
       "      <td>1</td>\n",
       "      <td>positive</td>\n",
       "      <td>в вост бирюлево на одну палатку с кошатиной ст...</td>\n",
       "      <td>2</td>\n",
       "    </tr>\n",
       "    <tr>\n",
       "      <th>2</th>\n",
       "      <td>White_technolog</td>\n",
       "      <td>у районной управы собираются местные жители #б...</td>\n",
       "      <td>2</td>\n",
       "      <td>neutral</td>\n",
       "      <td>у районной управы собираются местные жители би...</td>\n",
       "      <td>1</td>\n",
       "    </tr>\n",
       "    <tr>\n",
       "      <th>3</th>\n",
       "      <td>White_technolog</td>\n",
       "      <td>“@tvrain: тем временем конная полиция добралас...</td>\n",
       "      <td>2</td>\n",
       "      <td>neutral</td>\n",
       "      <td>tvrain тем временем конная полиция добралась д...</td>\n",
       "      <td>1</td>\n",
       "    </tr>\n",
       "    <tr>\n",
       "      <th>4</th>\n",
       "      <td>White_technolog</td>\n",
       "      <td>в центре появились тощие прыщавые мужичонки с ...</td>\n",
       "      <td>3</td>\n",
       "      <td>negative</td>\n",
       "      <td>в центре появились тощие прыщавые мужичонки с ...</td>\n",
       "      <td>0</td>\n",
       "    </tr>\n",
       "    <tr>\n",
       "      <th>5</th>\n",
       "      <td>White_technolog</td>\n",
       "      <td>как пишет товарищ в смс, на площади революции ...</td>\n",
       "      <td>3</td>\n",
       "      <td>negative</td>\n",
       "      <td>как пишет товарищ в смс на площади революции ч...</td>\n",
       "      <td>0</td>\n",
       "    </tr>\n",
       "    <tr>\n",
       "      <th>...</th>\n",
       "      <td>...</td>\n",
       "      <td>...</td>\n",
       "      <td>...</td>\n",
       "      <td>...</td>\n",
       "      <td>...</td>\n",
       "      <td>...</td>\n",
       "    </tr>\n",
       "    <tr>\n",
       "      <th>1886</th>\n",
       "      <td>GraniTweet</td>\n",
       "      <td>наш корр @dmitryhorse ведет трансляцию из #бир...</td>\n",
       "      <td>2</td>\n",
       "      <td>neutral</td>\n",
       "      <td>наш корр dmitryhorse ведет трансляцию из бирюлево</td>\n",
       "      <td>1</td>\n",
       "    </tr>\n",
       "    <tr>\n",
       "      <th>1887</th>\n",
       "      <td>Fkontakte</td>\n",
       "      <td>“@gazetaru: #мид ответил на заявление германии...</td>\n",
       "      <td>2</td>\n",
       "      <td>neutral</td>\n",
       "      <td>gazetaru мид ответил на заявление германии о б...</td>\n",
       "      <td>1</td>\n",
       "    </tr>\n",
       "    <tr>\n",
       "      <th>1888</th>\n",
       "      <td>Fkontakte</td>\n",
       "      <td>“@rt_russian: #азербайджан'ские радикалы пригр...</td>\n",
       "      <td>3</td>\n",
       "      <td>negative</td>\n",
       "      <td>rt_russian азербайджанские радикалы пригрозили...</td>\n",
       "      <td>0</td>\n",
       "    </tr>\n",
       "    <tr>\n",
       "      <th>1889</th>\n",
       "      <td>Fkontakte</td>\n",
       "      <td>“@rt_russian: эксклюзив: новые кадры задержани...</td>\n",
       "      <td>2</td>\n",
       "      <td>neutral</td>\n",
       "      <td>rt_russian эксклюзив новые кадры задержания по...</td>\n",
       "      <td>1</td>\n",
       "    </tr>\n",
       "    <tr>\n",
       "      <th>1890</th>\n",
       "      <td>Fkontakte</td>\n",
       "      <td>предполагаемый убийца егора #щербаков'а в #бир...</td>\n",
       "      <td>2</td>\n",
       "      <td>neutral</td>\n",
       "      <td>предполагаемый убийца егора щербакова в бирюле...</td>\n",
       "      <td>1</td>\n",
       "    </tr>\n",
       "  </tbody>\n",
       "</table>\n",
       "<p>1890 rows × 6 columns</p>\n",
       "</div>"
      ],
      "text/plain": [
       "                 user                                              tweet  \\\n",
       "1            BorisALV  в вост. #бирюлево на одну палатку с кошатиной ...   \n",
       "2     White_technolog  у районной управы собираются местные жители #б...   \n",
       "3     White_technolog  “@tvrain: тем временем конная полиция добралас...   \n",
       "4     White_technolog  в центре появились тощие прыщавые мужичонки с ...   \n",
       "5     White_technolog  как пишет товарищ в смс, на площади революции ...   \n",
       "...               ...                                                ...   \n",
       "1886       GraniTweet  наш корр @dmitryhorse ведет трансляцию из #бир...   \n",
       "1887        Fkontakte  “@gazetaru: #мид ответил на заявление германии...   \n",
       "1888        Fkontakte  “@rt_russian: #азербайджан'ские радикалы пригр...   \n",
       "1889        Fkontakte  “@rt_russian: эксклюзив: новые кадры задержани...   \n",
       "1890        Fkontakte  предполагаемый убийца егора #щербаков'а в #бир...   \n",
       "\n",
       "     SENTIMENT    sent_w                                           tweet_bz  \\\n",
       "1            1  positive  в вост бирюлево на одну палатку с кошатиной ст...   \n",
       "2            2   neutral  у районной управы собираются местные жители би...   \n",
       "3            2   neutral  tvrain тем временем конная полиция добралась д...   \n",
       "4            3  negative  в центре появились тощие прыщавые мужичонки с ...   \n",
       "5            3  negative  как пишет товарищ в смс на площади революции ч...   \n",
       "...        ...       ...                                                ...   \n",
       "1886         2   neutral  наш корр dmitryhorse ведет трансляцию из бирюлево   \n",
       "1887         2   neutral  gazetaru мид ответил на заявление германии о б...   \n",
       "1888         3  negative  rt_russian азербайджанские радикалы пригрозили...   \n",
       "1889         2   neutral  rt_russian эксклюзив новые кадры задержания по...   \n",
       "1890         2   neutral  предполагаемый убийца егора щербакова в бирюле...   \n",
       "\n",
       "      sent_code  \n",
       "1             2  \n",
       "2             1  \n",
       "3             1  \n",
       "4             0  \n",
       "5             0  \n",
       "...         ...  \n",
       "1886          1  \n",
       "1887          1  \n",
       "1888          0  \n",
       "1889          1  \n",
       "1890          1  \n",
       "\n",
       "[1890 rows x 6 columns]"
      ]
     },
     "execution_count": 29,
     "metadata": {},
     "output_type": "execute_result"
    }
   ],
   "source": [
    "df_B['sent_w'] = pd.Categorical(df_B['sent_w'])\n",
    "df_B['sent_code'] = df_B.sent_w.cat.codes\n",
    "df_B"
   ]
  },
  {
   "cell_type": "code",
   "execution_count": 30,
   "id": "d4805580-8f33-4805-97fd-8fb40f5af17f",
   "metadata": {},
   "outputs": [],
   "source": [
    "x_train, x_test, y_train, y_test = train_test_split(x, df_B.sent_code, train_size=0.8)"
   ]
  },
  {
   "cell_type": "markdown",
   "id": "7584eafc-5c18-45d2-ba2e-f00eff61c30e",
   "metadata": {},
   "source": [
    "**прогнозирование с LogisticRegression и RandomForestClassifier**"
   ]
  },
  {
   "cell_type": "code",
   "execution_count": 31,
   "id": "7b127779-e05e-4ce4-b894-ccf055a3a4f3",
   "metadata": {},
   "outputs": [],
   "source": [
    "from sklearn.linear_model import SGDRegressor,LogisticRegression,LinearRegression\n",
    "from sklearn.metrics import accuracy_score, confusion_matrix, r2_score, f1_score"
   ]
  },
  {
   "cell_type": "code",
   "execution_count": 32,
   "id": "bdb3de1b-cfcf-4c5d-b206-8f5bf289ece6",
   "metadata": {},
   "outputs": [
    {
     "name": "stdout",
     "output_type": "stream",
     "text": [
      "accuracy:  0.688\n",
      "f1_score:  0.716\n"
     ]
    }
   ],
   "source": [
    "model = LogisticRegression()\n",
    "model.fit(x_train, y_train)\n",
    "y_pred = model.predict(x_test)\n",
    "accuracy_score(y_pred, y_test)\n",
    "f1_score(y_pred, y_test, average='weighted')\n",
    "print('accuracy: ', round(accuracy_score(y_pred, y_test),3))\n",
    "print('f1_score: ', round(f1_score(y_pred, y_test, average='weighted'),3))"
   ]
  },
  {
   "cell_type": "code",
   "execution_count": 33,
   "id": "4dde1278-e7d6-4d6b-b345-18be69a5c0bd",
   "metadata": {},
   "outputs": [
    {
     "data": {
      "text/plain": [
       "array([[170,  30,   0],\n",
       "       [ 64,  90,   0],\n",
       "       [ 17,   7,   0]], dtype=int64)"
      ]
     },
     "execution_count": 33,
     "metadata": {},
     "output_type": "execute_result"
    }
   ],
   "source": [
    "confusion_matrix(y_test, y_pred)"
   ]
  },
  {
   "cell_type": "code",
   "execution_count": 34,
   "id": "a9c7db21-36d7-47a5-b97c-20b1ffe85d0a",
   "metadata": {},
   "outputs": [],
   "source": [
    "from sklearn.ensemble import RandomForestClassifier"
   ]
  },
  {
   "cell_type": "code",
   "execution_count": 35,
   "id": "290338b9-bd53-4722-bff7-e6a5f8a135a9",
   "metadata": {},
   "outputs": [
    {
     "name": "stdout",
     "output_type": "stream",
     "text": [
      "accuracy:  0.675\n",
      "f1_score:  0.699\n"
     ]
    }
   ],
   "source": [
    "model = RandomForestClassifier()\n",
    "model.fit(x_train, y_train)\n",
    "y_pred = model.predict(x_test)\n",
    "accuracy_score(y_pred, y_test)\n",
    "f1_score(y_pred, y_test, average='weighted')\n",
    "print('accuracy: ', round(accuracy_score(y_pred, y_test),3))\n",
    "print('f1_score: ', round(f1_score(y_pred, y_test, average='weighted'),3))"
   ]
  },
  {
   "cell_type": "code",
   "execution_count": 36,
   "id": "4281eccc-5dec-4ab5-8fff-59ed25cc5256",
   "metadata": {},
   "outputs": [
    {
     "data": {
      "text/plain": [
       "array([[173,  26,   1],\n",
       "       [ 73,  80,   1],\n",
       "       [ 19,   3,   2]], dtype=int64)"
      ]
     },
     "execution_count": 36,
     "metadata": {},
     "output_type": "execute_result"
    }
   ],
   "source": [
    "confusion_matrix(y_test, y_pred)"
   ]
  },
  {
   "cell_type": "markdown",
   "id": "0890f628-1194-423e-8754-60f55aab9ee3",
   "metadata": {},
   "source": [
    "### normal  \n",
    "##### удалить стоп-слова из датасета, использовать стеммер Портера (лежит в src/porter.py)  \n",
    "##### использовать пайплайн для TF-IDF и модели машинного обучения  \n",
    "##### подобрать параметры, сравнить качество нескольких моделей"
   ]
  },
  {
   "cell_type": "markdown",
   "id": "7c0010ce-ff3c-4f84-b7c8-cb25d02b2c12",
   "metadata": {},
   "source": [
    "**удаление стоп-слов, стеммер Портера**"
   ]
  },
  {
   "cell_type": "code",
   "execution_count": 37,
   "id": "1b6c95d1-95cd-4d13-a5df-b36d5ccefca9",
   "metadata": {},
   "outputs": [],
   "source": [
    "import nltk \n",
    "from nltk.stem import PorterStemmer\n",
    "from nltk.tokenize import word_tokenize\n",
    "Porter = PorterStemmer()"
   ]
  },
  {
   "cell_type": "code",
   "execution_count": 38,
   "id": "ff254ffa-1202-4172-8579-98895acb95e6",
   "metadata": {},
   "outputs": [
    {
     "data": {
      "text/html": [
       "<div>\n",
       "<style scoped>\n",
       "    .dataframe tbody tr th:only-of-type {\n",
       "        vertical-align: middle;\n",
       "    }\n",
       "\n",
       "    .dataframe tbody tr th {\n",
       "        vertical-align: top;\n",
       "    }\n",
       "\n",
       "    .dataframe thead th {\n",
       "        text-align: right;\n",
       "    }\n",
       "</style>\n",
       "<table border=\"1\" class=\"dataframe\">\n",
       "  <thead>\n",
       "    <tr style=\"text-align: right;\">\n",
       "      <th></th>\n",
       "      <th>user</th>\n",
       "      <th>tweet</th>\n",
       "      <th>SENTIMENT</th>\n",
       "      <th>sent_w</th>\n",
       "      <th>tweet_bz</th>\n",
       "      <th>sent_code</th>\n",
       "      <th>tweet_stem_Porter</th>\n",
       "    </tr>\n",
       "  </thead>\n",
       "  <tbody>\n",
       "    <tr>\n",
       "      <th>1</th>\n",
       "      <td>BorisALV</td>\n",
       "      <td>в вост. #бирюлево на одну палатку с кошатиной ...</td>\n",
       "      <td>1</td>\n",
       "      <td>positive</td>\n",
       "      <td>в вост бирюлево на одну палатку с кошатиной ст...</td>\n",
       "      <td>2</td>\n",
       "      <td>в вост бирюлево на одну палатку с кошатиной ст...</td>\n",
       "    </tr>\n",
       "    <tr>\n",
       "      <th>2</th>\n",
       "      <td>White_technolog</td>\n",
       "      <td>у районной управы собираются местные жители #б...</td>\n",
       "      <td>2</td>\n",
       "      <td>neutral</td>\n",
       "      <td>у районной управы собираются местные жители би...</td>\n",
       "      <td>1</td>\n",
       "      <td>у районной управы собираются местные жители би...</td>\n",
       "    </tr>\n",
       "    <tr>\n",
       "      <th>3</th>\n",
       "      <td>White_technolog</td>\n",
       "      <td>“@tvrain: тем временем конная полиция добралас...</td>\n",
       "      <td>2</td>\n",
       "      <td>neutral</td>\n",
       "      <td>tvrain тем временем конная полиция добралась д...</td>\n",
       "      <td>1</td>\n",
       "      <td>tvrain тем временем конная полиция добралась д...</td>\n",
       "    </tr>\n",
       "    <tr>\n",
       "      <th>4</th>\n",
       "      <td>White_technolog</td>\n",
       "      <td>в центре появились тощие прыщавые мужичонки с ...</td>\n",
       "      <td>3</td>\n",
       "      <td>negative</td>\n",
       "      <td>в центре появились тощие прыщавые мужичонки с ...</td>\n",
       "      <td>0</td>\n",
       "      <td>в центре появились тощие прыщавые мужичонки с ...</td>\n",
       "    </tr>\n",
       "    <tr>\n",
       "      <th>5</th>\n",
       "      <td>White_technolog</td>\n",
       "      <td>как пишет товарищ в смс, на площади революции ...</td>\n",
       "      <td>3</td>\n",
       "      <td>negative</td>\n",
       "      <td>как пишет товарищ в смс на площади революции ч...</td>\n",
       "      <td>0</td>\n",
       "      <td>как пишет товарищ в смс на площади революции ч...</td>\n",
       "    </tr>\n",
       "    <tr>\n",
       "      <th>...</th>\n",
       "      <td>...</td>\n",
       "      <td>...</td>\n",
       "      <td>...</td>\n",
       "      <td>...</td>\n",
       "      <td>...</td>\n",
       "      <td>...</td>\n",
       "      <td>...</td>\n",
       "    </tr>\n",
       "    <tr>\n",
       "      <th>1886</th>\n",
       "      <td>GraniTweet</td>\n",
       "      <td>наш корр @dmitryhorse ведет трансляцию из #бир...</td>\n",
       "      <td>2</td>\n",
       "      <td>neutral</td>\n",
       "      <td>наш корр dmitryhorse ведет трансляцию из бирюлево</td>\n",
       "      <td>1</td>\n",
       "      <td>наш корр dmitryhors ведет трансляцию из бирюлево</td>\n",
       "    </tr>\n",
       "    <tr>\n",
       "      <th>1887</th>\n",
       "      <td>Fkontakte</td>\n",
       "      <td>“@gazetaru: #мид ответил на заявление германии...</td>\n",
       "      <td>2</td>\n",
       "      <td>neutral</td>\n",
       "      <td>gazetaru мид ответил на заявление германии о б...</td>\n",
       "      <td>1</td>\n",
       "      <td>gazetaru мид ответил на заявление германии о б...</td>\n",
       "    </tr>\n",
       "    <tr>\n",
       "      <th>1888</th>\n",
       "      <td>Fkontakte</td>\n",
       "      <td>“@rt_russian: #азербайджан'ские радикалы пригр...</td>\n",
       "      <td>3</td>\n",
       "      <td>negative</td>\n",
       "      <td>rt_russian азербайджанские радикалы пригрозили...</td>\n",
       "      <td>0</td>\n",
       "      <td>rt_russian азербайджанские радикалы пригрозили...</td>\n",
       "    </tr>\n",
       "    <tr>\n",
       "      <th>1889</th>\n",
       "      <td>Fkontakte</td>\n",
       "      <td>“@rt_russian: эксклюзив: новые кадры задержани...</td>\n",
       "      <td>2</td>\n",
       "      <td>neutral</td>\n",
       "      <td>rt_russian эксклюзив новые кадры задержания по...</td>\n",
       "      <td>1</td>\n",
       "      <td>rt_russian эксклюзив новые кадры задержания по...</td>\n",
       "    </tr>\n",
       "    <tr>\n",
       "      <th>1890</th>\n",
       "      <td>Fkontakte</td>\n",
       "      <td>предполагаемый убийца егора #щербаков'а в #бир...</td>\n",
       "      <td>2</td>\n",
       "      <td>neutral</td>\n",
       "      <td>предполагаемый убийца егора щербакова в бирюле...</td>\n",
       "      <td>1</td>\n",
       "      <td>предполагаемый убийца егора щербакова в бирюле...</td>\n",
       "    </tr>\n",
       "  </tbody>\n",
       "</table>\n",
       "<p>1890 rows × 7 columns</p>\n",
       "</div>"
      ],
      "text/plain": [
       "                 user                                              tweet  \\\n",
       "1            BorisALV  в вост. #бирюлево на одну палатку с кошатиной ...   \n",
       "2     White_technolog  у районной управы собираются местные жители #б...   \n",
       "3     White_technolog  “@tvrain: тем временем конная полиция добралас...   \n",
       "4     White_technolog  в центре появились тощие прыщавые мужичонки с ...   \n",
       "5     White_technolog  как пишет товарищ в смс, на площади революции ...   \n",
       "...               ...                                                ...   \n",
       "1886       GraniTweet  наш корр @dmitryhorse ведет трансляцию из #бир...   \n",
       "1887        Fkontakte  “@gazetaru: #мид ответил на заявление германии...   \n",
       "1888        Fkontakte  “@rt_russian: #азербайджан'ские радикалы пригр...   \n",
       "1889        Fkontakte  “@rt_russian: эксклюзив: новые кадры задержани...   \n",
       "1890        Fkontakte  предполагаемый убийца егора #щербаков'а в #бир...   \n",
       "\n",
       "     SENTIMENT    sent_w                                           tweet_bz  \\\n",
       "1            1  positive  в вост бирюлево на одну палатку с кошатиной ст...   \n",
       "2            2   neutral  у районной управы собираются местные жители би...   \n",
       "3            2   neutral  tvrain тем временем конная полиция добралась д...   \n",
       "4            3  negative  в центре появились тощие прыщавые мужичонки с ...   \n",
       "5            3  negative  как пишет товарищ в смс на площади революции ч...   \n",
       "...        ...       ...                                                ...   \n",
       "1886         2   neutral  наш корр dmitryhorse ведет трансляцию из бирюлево   \n",
       "1887         2   neutral  gazetaru мид ответил на заявление германии о б...   \n",
       "1888         3  negative  rt_russian азербайджанские радикалы пригрозили...   \n",
       "1889         2   neutral  rt_russian эксклюзив новые кадры задержания по...   \n",
       "1890         2   neutral  предполагаемый убийца егора щербакова в бирюле...   \n",
       "\n",
       "      sent_code                                  tweet_stem_Porter  \n",
       "1             2  в вост бирюлево на одну палатку с кошатиной ст...  \n",
       "2             1  у районной управы собираются местные жители би...  \n",
       "3             1  tvrain тем временем конная полиция добралась д...  \n",
       "4             0  в центре появились тощие прыщавые мужичонки с ...  \n",
       "5             0  как пишет товарищ в смс на площади революции ч...  \n",
       "...         ...                                                ...  \n",
       "1886          1   наш корр dmitryhors ведет трансляцию из бирюлево  \n",
       "1887          1  gazetaru мид ответил на заявление германии о б...  \n",
       "1888          0  rt_russian азербайджанские радикалы пригрозили...  \n",
       "1889          1  rt_russian эксклюзив новые кадры задержания по...  \n",
       "1890          1  предполагаемый убийца егора щербакова в бирюле...  \n",
       "\n",
       "[1890 rows x 7 columns]"
      ]
     },
     "execution_count": 38,
     "metadata": {},
     "output_type": "execute_result"
    }
   ],
   "source": [
    "for i in range(len(df_B)):\n",
    "    ast = str(df_B.iloc[i,4])\n",
    "    bst = [' '.join([Porter.stem(j) for j in ast.split()])]\n",
    "    df_B.loc[df_B.index==(i+1), 'tweet_stem_Porter'] = bst\n",
    "    #df_B.loc[df_B.index==(i+1), 'tweet_stem_Porter'] = [' '.join([Porter.stem(j) for j in str(df_B.iloc[i,4]).split()])]\n",
    "df_B"
   ]
  },
  {
   "cell_type": "markdown",
   "id": "bb8ddf60-05af-4864-8f7f-59b3a28d97d7",
   "metadata": {},
   "source": [
    "так как Porter плохо работает с русским языком, изменений после применения стемминга, кажется, нет"
   ]
  },
  {
   "cell_type": "markdown",
   "id": "2b014905-0005-4fe7-8357-e27ff3975f14",
   "metadata": {},
   "source": [
    "**удаление стоп-слов, стеммер SnowBall**"
   ]
  },
  {
   "cell_type": "code",
   "execution_count": 40,
   "id": "fa82de81-bf1c-480d-9fb3-3342a063e2d7",
   "metadata": {},
   "outputs": [],
   "source": [
    "from nltk.stem.snowball import SnowballStemmer\n",
    "Snowball=SnowballStemmer(language = 'russian')"
   ]
  },
  {
   "cell_type": "code",
   "execution_count": 41,
   "id": "147bd22b-b8f2-4422-a0cd-46e9ad012723",
   "metadata": {},
   "outputs": [
    {
     "data": {
      "text/html": [
       "<div>\n",
       "<style scoped>\n",
       "    .dataframe tbody tr th:only-of-type {\n",
       "        vertical-align: middle;\n",
       "    }\n",
       "\n",
       "    .dataframe tbody tr th {\n",
       "        vertical-align: top;\n",
       "    }\n",
       "\n",
       "    .dataframe thead th {\n",
       "        text-align: right;\n",
       "    }\n",
       "</style>\n",
       "<table border=\"1\" class=\"dataframe\">\n",
       "  <thead>\n",
       "    <tr style=\"text-align: right;\">\n",
       "      <th></th>\n",
       "      <th>tweet_bz</th>\n",
       "      <th>tweet_stem_Porter</th>\n",
       "      <th>tweet_stem_Snow</th>\n",
       "    </tr>\n",
       "  </thead>\n",
       "  <tbody>\n",
       "    <tr>\n",
       "      <th>1</th>\n",
       "      <td>в вост бирюлево на одну палатку с кошатиной ст...</td>\n",
       "      <td>в вост бирюлево на одну палатку с кошатиной ст...</td>\n",
       "      <td>в вост бирюлев на одн палатк с кошатин стал ме...</td>\n",
       "    </tr>\n",
       "    <tr>\n",
       "      <th>2</th>\n",
       "      <td>у районной управы собираются местные жители би...</td>\n",
       "      <td>у районной управы собираются местные жители би...</td>\n",
       "      <td>у район управ собира местн жител бирюлев live ...</td>\n",
       "    </tr>\n",
       "    <tr>\n",
       "      <th>3</th>\n",
       "      <td>tvrain тем временем конная полиция добралась д...</td>\n",
       "      <td>tvrain тем временем конная полиция добралась д...</td>\n",
       "      <td>tvrain тем времен кон полиц добра до бирюлев p...</td>\n",
       "    </tr>\n",
       "    <tr>\n",
       "      <th>4</th>\n",
       "      <td>в центре появились тощие прыщавые мужичонки с ...</td>\n",
       "      <td>в центре появились тощие прыщавые мужичонки с ...</td>\n",
       "      <td>в центр появ тощ прыщав мужичонк с красн повяз...</td>\n",
       "    </tr>\n",
       "    <tr>\n",
       "      <th>5</th>\n",
       "      <td>как пишет товарищ в смс на площади революции ч...</td>\n",
       "      <td>как пишет товарищ в смс на площади революции ч...</td>\n",
       "      <td>как пишет товарищ в смс на площад революц черн...</td>\n",
       "    </tr>\n",
       "    <tr>\n",
       "      <th>...</th>\n",
       "      <td>...</td>\n",
       "      <td>...</td>\n",
       "      <td>...</td>\n",
       "    </tr>\n",
       "    <tr>\n",
       "      <th>1886</th>\n",
       "      <td>наш корр dmitryhorse ведет трансляцию из бирюлево</td>\n",
       "      <td>наш корр dmitryhors ведет трансляцию из бирюлево</td>\n",
       "      <td>наш корр dmitryhorse ведет трансляц из бирюлев</td>\n",
       "    </tr>\n",
       "    <tr>\n",
       "      <th>1887</th>\n",
       "      <td>gazetaru мид ответил на заявление германии о б...</td>\n",
       "      <td>gazetaru мид ответил на заявление германии о б...</td>\n",
       "      <td>gazetaru мид ответ на заявлен герман о беспоря...</td>\n",
       "    </tr>\n",
       "    <tr>\n",
       "      <th>1888</th>\n",
       "      <td>rt_russian азербайджанские радикалы пригрозили...</td>\n",
       "      <td>rt_russian азербайджанские радикалы пригрозили...</td>\n",
       "      <td>rt_russian азербайджанск радикал пригроз приня...</td>\n",
       "    </tr>\n",
       "    <tr>\n",
       "      <th>1889</th>\n",
       "      <td>rt_russian эксклюзив новые кадры задержания по...</td>\n",
       "      <td>rt_russian эксклюзив новые кадры задержания по...</td>\n",
       "      <td>rt_russian эксклюз нов кадр задержан подозрева...</td>\n",
       "    </tr>\n",
       "    <tr>\n",
       "      <th>1890</th>\n",
       "      <td>предполагаемый убийца егора щербакова в бирюле...</td>\n",
       "      <td>предполагаемый убийца егора щербакова в бирюле...</td>\n",
       "      <td>предполага убийц егор щербаков в бирюлев орха ...</td>\n",
       "    </tr>\n",
       "  </tbody>\n",
       "</table>\n",
       "<p>1890 rows × 3 columns</p>\n",
       "</div>"
      ],
      "text/plain": [
       "                                               tweet_bz  \\\n",
       "1     в вост бирюлево на одну палатку с кошатиной ст...   \n",
       "2     у районной управы собираются местные жители би...   \n",
       "3     tvrain тем временем конная полиция добралась д...   \n",
       "4     в центре появились тощие прыщавые мужичонки с ...   \n",
       "5     как пишет товарищ в смс на площади революции ч...   \n",
       "...                                                 ...   \n",
       "1886  наш корр dmitryhorse ведет трансляцию из бирюлево   \n",
       "1887  gazetaru мид ответил на заявление германии о б...   \n",
       "1888  rt_russian азербайджанские радикалы пригрозили...   \n",
       "1889  rt_russian эксклюзив новые кадры задержания по...   \n",
       "1890  предполагаемый убийца егора щербакова в бирюле...   \n",
       "\n",
       "                                      tweet_stem_Porter  \\\n",
       "1     в вост бирюлево на одну палатку с кошатиной ст...   \n",
       "2     у районной управы собираются местные жители би...   \n",
       "3     tvrain тем временем конная полиция добралась д...   \n",
       "4     в центре появились тощие прыщавые мужичонки с ...   \n",
       "5     как пишет товарищ в смс на площади революции ч...   \n",
       "...                                                 ...   \n",
       "1886   наш корр dmitryhors ведет трансляцию из бирюлево   \n",
       "1887  gazetaru мид ответил на заявление германии о б...   \n",
       "1888  rt_russian азербайджанские радикалы пригрозили...   \n",
       "1889  rt_russian эксклюзив новые кадры задержания по...   \n",
       "1890  предполагаемый убийца егора щербакова в бирюле...   \n",
       "\n",
       "                                        tweet_stem_Snow  \n",
       "1     в вост бирюлев на одн палатк с кошатин стал ме...  \n",
       "2     у район управ собира местн жител бирюлев live ...  \n",
       "3     tvrain тем времен кон полиц добра до бирюлев p...  \n",
       "4     в центр появ тощ прыщав мужичонк с красн повяз...  \n",
       "5     как пишет товарищ в смс на площад революц черн...  \n",
       "...                                                 ...  \n",
       "1886     наш корр dmitryhorse ведет трансляц из бирюлев  \n",
       "1887  gazetaru мид ответ на заявлен герман о беспоря...  \n",
       "1888  rt_russian азербайджанск радикал пригроз приня...  \n",
       "1889  rt_russian эксклюз нов кадр задержан подозрева...  \n",
       "1890  предполага убийц егор щербаков в бирюлев орха ...  \n",
       "\n",
       "[1890 rows x 3 columns]"
      ]
     },
     "execution_count": 41,
     "metadata": {},
     "output_type": "execute_result"
    }
   ],
   "source": [
    "for i in range(len(df_B)):\n",
    "    ast = str(df_B.iloc[i,4])\n",
    "    bst = [' '.join([Snowball.stem(j) for j in ast.split()])]\n",
    "    df_B.loc[df_B.index==(i+1), 'tweet_stem_Snow'] = bst\n",
    "    #df_B.loc[df_B.index==(i+1), 'tweet_stem_Snow'] = [' '.join([Snowball.stem(j) for j in str(df_B.iloc[i,4]).split()])]  \n",
    "df_B[['tweet_bz', 'tweet_stem_Porter', 'tweet_stem_Snow']]"
   ]
  },
  {
   "cell_type": "markdown",
   "id": "b466f352-e8d4-4b42-a6ba-8682a850a986",
   "metadata": {},
   "source": [
    "со Снежком результат интересней"
   ]
  },
  {
   "cell_type": "markdown",
   "id": "c4d04c4b-c07f-42f7-94ec-6efb2c3fa9a0",
   "metadata": {},
   "source": [
    "**удаление стоп-слов, стеммер Портера для русского языка**"
   ]
  },
  {
   "cell_type": "code",
   "execution_count": 42,
   "id": "02402151-6314-409d-b516-b5903c4f348c",
   "metadata": {},
   "outputs": [],
   "source": [
    "class Porter:\n",
    "    PERFECTIVEGROUND =  re.compile(u\"((ив|ивши|ившись|ыв|ывши|ывшись)|((?<=[ая])(в|вши|вшись)))$\")\n",
    "    REFLEXIVE = re.compile(u\"(с[яь])$\")\n",
    "    ADJECTIVE = re.compile(u\"(ее|ие|ые|ое|ими|ыми|ей|ий|ый|ой|ем|им|ым|ом|его|ого|ему|ому|их|ых|ую|юю|ая|яя|ою|ею)$\")\n",
    "    PARTICIPLE = re.compile(u\"((ивш|ывш|ующ)|((?<=[ая])(ем|нн|вш|ющ|щ)))$\")\n",
    "    VERB = re.compile(u\"((ила|ыла|ена|ейте|уйте|ите|или|ыли|ей|уй|ил|ыл|им|ым|ен|ило|ыло|ено|ят|ует|уют|ит|ыт|ены|ить|ыть|ишь|ую|ю)|((?<=[ая])(ла|на|ете|йте|ли|й|л|ем|н|ло|но|ет|ют|ны|ть|ешь|нно)))$\")\n",
    "    NOUN = re.compile(u\"(а|ев|ов|ие|ье|е|иями|ями|ами|еи|ии|и|ией|ей|ой|ий|й|иям|ям|ием|ем|ам|ом|о|у|ах|иях|ях|ы|ь|ию|ью|ю|ия|ья|я)$\")\n",
    "    RVRE = re.compile(u\"^(.*?[аеиоуыэюя])(.*)$\")\n",
    "    DERIVATIONAL = re.compile(u\".*[^аеиоуыэюя]+[аеиоуыэюя].*ость?$\")\n",
    "    DER = re.compile(u\"ость?$\")\n",
    "    SUPERLATIVE = re.compile(u\"(ейше|ейш)$\")\n",
    "    I = re.compile(u\"и$\")\n",
    "    P = re.compile(u\"ь$\")\n",
    "    NN = re.compile(u\"нн$\")\n",
    "\n",
    "    def stem(word):\n",
    "        word = word.lower()\n",
    "        word = word.replace(u'ё', u'е')\n",
    "        m = re.match(Porter.RVRE, word)\n",
    "        if m and m.groups():\n",
    "            pre = m.group(1)\n",
    "            rv = m.group(2)\n",
    "            temp = Porter.PERFECTIVEGROUND.sub('', rv, 1)\n",
    "            if temp == rv:\n",
    "                rv = Porter.REFLEXIVE.sub('', rv, 1)\n",
    "                temp = Porter.ADJECTIVE.sub('', rv, 1)\n",
    "                if temp != rv:\n",
    "                    rv = temp\n",
    "                    rv = Porter.PARTICIPLE.sub('', rv, 1)\n",
    "                else:\n",
    "                    temp = Porter.VERB.sub('', rv, 1)\n",
    "                    if temp == rv:\n",
    "                        rv = Porter.NOUN.sub('', rv, 1)\n",
    "                    else:\n",
    "                        rv = temp\n",
    "            else:\n",
    "                rv = temp\n",
    "\n",
    "            rv = Porter.I.sub('', rv, 1)\n",
    "\n",
    "            if re.match(Porter.DERIVATIONAL, rv):\n",
    "                rv = Porter.DER.sub('', rv, 1)\n",
    "\n",
    "            temp = Porter.P.sub('', rv, 1)\n",
    "            if temp == rv:\n",
    "                rv = Porter.SUPERLATIVE.sub('', rv, 1)\n",
    "                rv = Porter.NN.sub(u'н', rv, 1)\n",
    "            else:\n",
    "                rv = temp\n",
    "            word = pre+rv\n",
    "        return word\n",
    "    stem=staticmethod(stem)"
   ]
  },
  {
   "cell_type": "code",
   "execution_count": 43,
   "id": "6e8f8da9-0557-437a-8131-807a44f3fb4e",
   "metadata": {},
   "outputs": [
    {
     "data": {
      "text/html": [
       "<div>\n",
       "<style scoped>\n",
       "    .dataframe tbody tr th:only-of-type {\n",
       "        vertical-align: middle;\n",
       "    }\n",
       "\n",
       "    .dataframe tbody tr th {\n",
       "        vertical-align: top;\n",
       "    }\n",
       "\n",
       "    .dataframe thead th {\n",
       "        text-align: right;\n",
       "    }\n",
       "</style>\n",
       "<table border=\"1\" class=\"dataframe\">\n",
       "  <thead>\n",
       "    <tr style=\"text-align: right;\">\n",
       "      <th></th>\n",
       "      <th>tweet_bz</th>\n",
       "      <th>tweet_stem_Porter</th>\n",
       "      <th>tweet_stem_Snow</th>\n",
       "      <th>tweet_stem_Porter_rus</th>\n",
       "    </tr>\n",
       "  </thead>\n",
       "  <tbody>\n",
       "    <tr>\n",
       "      <th>1</th>\n",
       "      <td>в вост бирюлево на одну палатку с кошатиной ст...</td>\n",
       "      <td>в вост бирюлево на одну палатку с кошатиной ст...</td>\n",
       "      <td>в вост бирюлев на одн палатк с кошатин стал ме...</td>\n",
       "      <td>в вост бирюлев на одн палатк с кошатин стал ме...</td>\n",
       "    </tr>\n",
       "    <tr>\n",
       "      <th>2</th>\n",
       "      <td>у районной управы собираются местные жители би...</td>\n",
       "      <td>у районной управы собираются местные жители би...</td>\n",
       "      <td>у район управ собира местн жител бирюлев live ...</td>\n",
       "      <td>у район управ собира местн жител бирюлев live ...</td>\n",
       "    </tr>\n",
       "    <tr>\n",
       "      <th>3</th>\n",
       "      <td>tvrain тем временем конная полиция добралась д...</td>\n",
       "      <td>tvrain тем временем конная полиция добралась д...</td>\n",
       "      <td>tvrain тем времен кон полиц добра до бирюлев p...</td>\n",
       "      <td>tvrain тем времен кон полиц добра до бирюлев p...</td>\n",
       "    </tr>\n",
       "    <tr>\n",
       "      <th>4</th>\n",
       "      <td>в центре появились тощие прыщавые мужичонки с ...</td>\n",
       "      <td>в центре появились тощие прыщавые мужичонки с ...</td>\n",
       "      <td>в центр появ тощ прыщав мужичонк с красн повяз...</td>\n",
       "      <td>в центр появ тощ прыщав мужичонк с красн повяз...</td>\n",
       "    </tr>\n",
       "    <tr>\n",
       "      <th>5</th>\n",
       "      <td>как пишет товарищ в смс на площади революции ч...</td>\n",
       "      <td>как пишет товарищ в смс на площади революции ч...</td>\n",
       "      <td>как пишет товарищ в смс на площад революц черн...</td>\n",
       "      <td>как пишет товарищ в смс на площад революц черн...</td>\n",
       "    </tr>\n",
       "    <tr>\n",
       "      <th>...</th>\n",
       "      <td>...</td>\n",
       "      <td>...</td>\n",
       "      <td>...</td>\n",
       "      <td>...</td>\n",
       "    </tr>\n",
       "    <tr>\n",
       "      <th>1886</th>\n",
       "      <td>наш корр dmitryhorse ведет трансляцию из бирюлево</td>\n",
       "      <td>наш корр dmitryhors ведет трансляцию из бирюлево</td>\n",
       "      <td>наш корр dmitryhorse ведет трансляц из бирюлев</td>\n",
       "      <td>наш корр dmitryhorse ведет трансляц из бирюлев</td>\n",
       "    </tr>\n",
       "    <tr>\n",
       "      <th>1887</th>\n",
       "      <td>gazetaru мид ответил на заявление германии о б...</td>\n",
       "      <td>gazetaru мид ответил на заявление германии о б...</td>\n",
       "      <td>gazetaru мид ответ на заявлен герман о беспоря...</td>\n",
       "      <td>gazetaru мид ответ на заявлен герман о беспоря...</td>\n",
       "    </tr>\n",
       "    <tr>\n",
       "      <th>1888</th>\n",
       "      <td>rt_russian азербайджанские радикалы пригрозили...</td>\n",
       "      <td>rt_russian азербайджанские радикалы пригрозили...</td>\n",
       "      <td>rt_russian азербайджанск радикал пригроз приня...</td>\n",
       "      <td>rt_russian азербайджанск радикал пригроз приня...</td>\n",
       "    </tr>\n",
       "    <tr>\n",
       "      <th>1889</th>\n",
       "      <td>rt_russian эксклюзив новые кадры задержания по...</td>\n",
       "      <td>rt_russian эксклюзив новые кадры задержания по...</td>\n",
       "      <td>rt_russian эксклюз нов кадр задержан подозрева...</td>\n",
       "      <td>rt_russian эксклюз нов кадр задержан подозрева...</td>\n",
       "    </tr>\n",
       "    <tr>\n",
       "      <th>1890</th>\n",
       "      <td>предполагаемый убийца егора щербакова в бирюле...</td>\n",
       "      <td>предполагаемый убийца егора щербакова в бирюле...</td>\n",
       "      <td>предполага убийц егор щербаков в бирюлев орха ...</td>\n",
       "      <td>предполага убийц егор щербаков в бирюлев орха ...</td>\n",
       "    </tr>\n",
       "  </tbody>\n",
       "</table>\n",
       "<p>1890 rows × 4 columns</p>\n",
       "</div>"
      ],
      "text/plain": [
       "                                               tweet_bz  \\\n",
       "1     в вост бирюлево на одну палатку с кошатиной ст...   \n",
       "2     у районной управы собираются местные жители би...   \n",
       "3     tvrain тем временем конная полиция добралась д...   \n",
       "4     в центре появились тощие прыщавые мужичонки с ...   \n",
       "5     как пишет товарищ в смс на площади революции ч...   \n",
       "...                                                 ...   \n",
       "1886  наш корр dmitryhorse ведет трансляцию из бирюлево   \n",
       "1887  gazetaru мид ответил на заявление германии о б...   \n",
       "1888  rt_russian азербайджанские радикалы пригрозили...   \n",
       "1889  rt_russian эксклюзив новые кадры задержания по...   \n",
       "1890  предполагаемый убийца егора щербакова в бирюле...   \n",
       "\n",
       "                                      tweet_stem_Porter  \\\n",
       "1     в вост бирюлево на одну палатку с кошатиной ст...   \n",
       "2     у районной управы собираются местные жители би...   \n",
       "3     tvrain тем временем конная полиция добралась д...   \n",
       "4     в центре появились тощие прыщавые мужичонки с ...   \n",
       "5     как пишет товарищ в смс на площади революции ч...   \n",
       "...                                                 ...   \n",
       "1886   наш корр dmitryhors ведет трансляцию из бирюлево   \n",
       "1887  gazetaru мид ответил на заявление германии о б...   \n",
       "1888  rt_russian азербайджанские радикалы пригрозили...   \n",
       "1889  rt_russian эксклюзив новые кадры задержания по...   \n",
       "1890  предполагаемый убийца егора щербакова в бирюле...   \n",
       "\n",
       "                                        tweet_stem_Snow  \\\n",
       "1     в вост бирюлев на одн палатк с кошатин стал ме...   \n",
       "2     у район управ собира местн жител бирюлев live ...   \n",
       "3     tvrain тем времен кон полиц добра до бирюлев p...   \n",
       "4     в центр появ тощ прыщав мужичонк с красн повяз...   \n",
       "5     как пишет товарищ в смс на площад революц черн...   \n",
       "...                                                 ...   \n",
       "1886     наш корр dmitryhorse ведет трансляц из бирюлев   \n",
       "1887  gazetaru мид ответ на заявлен герман о беспоря...   \n",
       "1888  rt_russian азербайджанск радикал пригроз приня...   \n",
       "1889  rt_russian эксклюз нов кадр задержан подозрева...   \n",
       "1890  предполага убийц егор щербаков в бирюлев орха ...   \n",
       "\n",
       "                                  tweet_stem_Porter_rus  \n",
       "1     в вост бирюлев на одн палатк с кошатин стал ме...  \n",
       "2     у район управ собира местн жител бирюлев live ...  \n",
       "3     tvrain тем времен кон полиц добра до бирюлев p...  \n",
       "4     в центр появ тощ прыщав мужичонк с красн повяз...  \n",
       "5     как пишет товарищ в смс на площад революц черн...  \n",
       "...                                                 ...  \n",
       "1886     наш корр dmitryhorse ведет трансляц из бирюлев  \n",
       "1887  gazetaru мид ответ на заявлен герман о беспоря...  \n",
       "1888  rt_russian азербайджанск радикал пригроз приня...  \n",
       "1889  rt_russian эксклюз нов кадр задержан подозрева...  \n",
       "1890  предполага убийц егор щербаков в бирюлев орха ...  \n",
       "\n",
       "[1890 rows x 4 columns]"
      ]
     },
     "execution_count": 43,
     "metadata": {},
     "output_type": "execute_result"
    }
   ],
   "source": [
    "for i in range(len(df_B)):\n",
    "    ast = str(df_B.iloc[i,4])\n",
    "    bst = [' '.join([Porter.stem(j) for j in ast.split()])]\n",
    "    df_B.loc[df_B.index==(i+1), 'tweet_stem_Porter_rus'] = bst\n",
    "    #df_B.loc[df_B.index==(i+1), 'tweet_stem_Porter_rus'] = [' '.join([Porter.stem(j) for j in str(df_B.iloc[i,4]).split()])]\n",
    "df_B[['tweet_bz', 'tweet_stem_Porter', 'tweet_stem_Snow','tweet_stem_Porter_rus']]"
   ]
  },
  {
   "cell_type": "markdown",
   "id": "22ec14c2-ce7f-497a-80ce-e3b6f4b86b3d",
   "metadata": {},
   "source": [
    "кажется, у Снежка и Портера для русского языка результаты одинаковые"
   ]
  },
  {
   "cell_type": "markdown",
   "id": "ddf83631-559d-4605-9aa6-95627317335a",
   "metadata": {},
   "source": [
    "**пайплайн для TF-IDF и модели машинного обучения**"
   ]
  },
  {
   "cell_type": "code",
   "execution_count": 44,
   "id": "b752aa8f-179f-4dbc-8be0-de69b8ffb09c",
   "metadata": {},
   "outputs": [],
   "source": [
    "from sklearn.pipeline import Pipeline\n",
    "from sklearn.feature_extraction.text import CountVectorizer\n",
    "from sklearn.feature_extraction.text import TfidfTransformer"
   ]
  },
  {
   "cell_type": "code",
   "execution_count": 45,
   "id": "ebc5e8b2-f34c-4d1f-9ce8-dcae0bb4ff4d",
   "metadata": {},
   "outputs": [],
   "source": [
    "x_train, x_test, y_train, y_test = train_test_split(df_B.tweet_stem_Snow, df_B.sent_code, train_size=0.8)"
   ]
  },
  {
   "cell_type": "code",
   "execution_count": 46,
   "id": "519cb97d-36c0-4357-b54b-5f329867a780",
   "metadata": {},
   "outputs": [],
   "source": [
    "pipeline = Pipeline(\n",
    "    [\n",
    "        (\"vect\", CountVectorizer()),\n",
    "        (\"tfidf\", TfidfTransformer()),\n",
    "        (\"clf\", LogisticRegression()),\n",
    "    ]\n",
    ")"
   ]
  },
  {
   "cell_type": "code",
   "execution_count": 47,
   "id": "5aff66a3-eb07-4215-b96a-dfd505d1835f",
   "metadata": {},
   "outputs": [
    {
     "data": {
      "text/plain": [
       "Pipeline(steps=[('vect', CountVectorizer()), ('tfidf', TfidfTransformer()),\n",
       "                ('clf', LogisticRegression())])"
      ]
     },
     "execution_count": 47,
     "metadata": {},
     "output_type": "execute_result"
    }
   ],
   "source": [
    "pipeline.fit(x_train, y_train)"
   ]
  },
  {
   "cell_type": "code",
   "execution_count": 48,
   "id": "cd42f6b5-92da-4358-aa74-35c89468b60b",
   "metadata": {},
   "outputs": [
    {
     "data": {
      "text/plain": [
       "251    скор в эфир магомед толбо почетн президент за ...\n",
       "252    в бирюлев продолжа задержан lifenews pictwitte...\n",
       "253    полиц провод масштабн проверк в район бирюлев ...\n",
       "254    посл погром в бирюлев под страж оста 72 участн...\n",
       "255    срочн 1200 человек задержа в западн бирюлев на...\n",
       "Name: tweet_stem_Snow, dtype: object"
      ]
     },
     "execution_count": 48,
     "metadata": {},
     "output_type": "execute_result"
    }
   ],
   "source": [
    "df_B['tweet_stem_Snow'].iloc[250:255]"
   ]
  },
  {
   "cell_type": "code",
   "execution_count": 49,
   "id": "270ba14f-4b54-4a25-80b2-7504a499837f",
   "metadata": {},
   "outputs": [
    {
     "data": {
      "text/plain": [
       "251    1\n",
       "252    0\n",
       "253    1\n",
       "254    1\n",
       "255    0\n",
       "Name: sent_code, dtype: int8"
      ]
     },
     "execution_count": 49,
     "metadata": {},
     "output_type": "execute_result"
    }
   ],
   "source": [
    "df_B['sent_code'].iloc[250:255]"
   ]
  },
  {
   "cell_type": "code",
   "execution_count": 50,
   "id": "8829b594-c54c-4480-96c4-0ab198284387",
   "metadata": {},
   "outputs": [
    {
     "data": {
      "text/plain": [
       "array([1, 0, 1, 1, 1], dtype=int8)"
      ]
     },
     "execution_count": 50,
     "metadata": {},
     "output_type": "execute_result"
    }
   ],
   "source": [
    "pipeline.predict(df_B['tweet_stem_Snow'].iloc[250:255])"
   ]
  },
  {
   "cell_type": "markdown",
   "id": "a64a669d-4010-4dd9-9f4a-5efd9b20e106",
   "metadata": {},
   "source": [
    "на этой маленькой выборке попадание 4 из 5"
   ]
  },
  {
   "cell_type": "code",
   "execution_count": 51,
   "id": "77d5f012-ad44-412d-a662-528bcc7d5a93",
   "metadata": {},
   "outputs": [
    {
     "name": "stdout",
     "output_type": "stream",
     "text": [
      "accuracy:  0.696\n",
      "f1_score:  0.718\n"
     ]
    }
   ],
   "source": [
    "y_pred = pipeline.predict(x_test)\n",
    "accuracy_score(y_pred,y_test)\n",
    "f1_score(y_pred, y_test, average='weighted')\n",
    "print('accuracy: ', round(accuracy_score(y_pred, y_test),3))\n",
    "print('f1_score: ', round(f1_score(y_pred, y_test, average='weighted'),3))"
   ]
  },
  {
   "cell_type": "markdown",
   "id": "445190bd-1055-46b1-b281-148be92920d2",
   "metadata": {},
   "source": [
    "**подбор параметров**"
   ]
  },
  {
   "cell_type": "code",
   "execution_count": 52,
   "id": "a9d22b2f-f72b-4831-8251-698a71b68d94",
   "metadata": {},
   "outputs": [],
   "source": [
    "from sklearn.model_selection import cross_val_score\n",
    "from sklearn.model_selection import RandomizedSearchCV"
   ]
  },
  {
   "cell_type": "code",
   "execution_count": 53,
   "id": "74a48d28-af28-4cde-9b41-6bf3b6da9229",
   "metadata": {
    "tags": []
   },
   "outputs": [
    {
     "data": {
      "text/plain": [
       "RandomizedSearchCV(estimator=Pipeline(steps=[('vect', CountVectorizer()),\n",
       "                                             ('tfidf', TfidfTransformer()),\n",
       "                                             ('clf', LogisticRegression())]),\n",
       "                   param_distributions={'clf__max_iter': [50, 100, 150],\n",
       "                                        'clf__penalty': ['none', 'l2'],\n",
       "                                        'tfidf__norm': ['l1', 'l2'],\n",
       "                                        'tfidf__sublinear_tf': ['True',\n",
       "                                                                'False'],\n",
       "                                        'vect__max_df': [0.3, 0.5, 1],\n",
       "                                        'vect__max_features': [2, 3, 5],\n",
       "                                        'vect__min_df': [0.1, 0.3, 0.7]},\n",
       "                   scoring='accuracy')"
      ]
     },
     "execution_count": 53,
     "metadata": {},
     "output_type": "execute_result"
    }
   ],
   "source": [
    "params = {\n",
    "    'vect__max_df' : [0.3, 0.5, 1],\n",
    "    'vect__min_df' : [0.1, 0.3, 0.7],\n",
    "    'vect__max_features': [2, 3, 5],\n",
    "    'tfidf__norm': ['l1', 'l2'],\n",
    "    'tfidf__sublinear_tf': ['True', 'False'],\n",
    "    'clf__penalty': ['none', 'l2'],\n",
    "    'clf__max_iter': [50, 100, 150]\n",
    "}\n",
    "\n",
    "pip_search = RandomizedSearchCV(pipeline, params, scoring='accuracy')\n",
    "pip_search.fit(x_train, y_train)"
   ]
  },
  {
   "cell_type": "code",
   "execution_count": 54,
   "id": "d4b77034-8b5c-4867-8beb-1e71027e16e8",
   "metadata": {},
   "outputs": [
    {
     "data": {
      "text/plain": [
       "Pipeline(steps=[('vect',\n",
       "                 CountVectorizer(max_df=0.3, max_features=2, min_df=0.1)),\n",
       "                ('tfidf', TfidfTransformer(norm='l1', sublinear_tf='True')),\n",
       "                ('clf', LogisticRegression(max_iter=50))])"
      ]
     },
     "execution_count": 54,
     "metadata": {},
     "output_type": "execute_result"
    }
   ],
   "source": [
    "#если прогонять несколько раз, результаты получаются разные\n",
    "pip_search.best_estimator_"
   ]
  },
  {
   "cell_type": "code",
   "execution_count": 55,
   "id": "1e9249e3-dcca-4318-a5f2-a8571d350fb7",
   "metadata": {},
   "outputs": [],
   "source": [
    "pipeline = Pipeline(\n",
    "    [\n",
    "        (\"vect\", CountVectorizer(max_df=0.3, max_features=2, min_df=0.1)),\n",
    "        (\"tfidf\", TfidfTransformer(norm='l1', sublinear_tf='True')),\n",
    "        (\"clf\", LogisticRegression(max_iter=50, penalty='none')),\n",
    "    ]\n",
    ")"
   ]
  },
  {
   "cell_type": "code",
   "execution_count": 56,
   "id": "372bd600-6238-46d6-bcf5-7b43550fbdf2",
   "metadata": {},
   "outputs": [
    {
     "data": {
      "text/plain": [
       "Pipeline(steps=[('vect',\n",
       "                 CountVectorizer(max_df=0.3, max_features=2, min_df=0.1)),\n",
       "                ('tfidf', TfidfTransformer(norm='l1', sublinear_tf='True')),\n",
       "                ('clf', LogisticRegression(max_iter=50, penalty='none'))])"
      ]
     },
     "execution_count": 56,
     "metadata": {},
     "output_type": "execute_result"
    }
   ],
   "source": [
    "pipeline.fit(x_train, y_train)"
   ]
  },
  {
   "cell_type": "code",
   "execution_count": 57,
   "id": "43b0b193-0fc0-4ebb-b2b8-972a173172c6",
   "metadata": {},
   "outputs": [
    {
     "data": {
      "text/plain": [
       "251    скор в эфир магомед толбо почетн президент за ...\n",
       "252    в бирюлев продолжа задержан lifenews pictwitte...\n",
       "253    полиц провод масштабн проверк в район бирюлев ...\n",
       "254    посл погром в бирюлев под страж оста 72 участн...\n",
       "255    срочн 1200 человек задержа в западн бирюлев на...\n",
       "Name: tweet_stem_Snow, dtype: object"
      ]
     },
     "execution_count": 57,
     "metadata": {},
     "output_type": "execute_result"
    }
   ],
   "source": [
    "df_B['tweet_stem_Snow'].iloc[250:255]"
   ]
  },
  {
   "cell_type": "code",
   "execution_count": 58,
   "id": "b503b0b0-ea79-4b80-a4e9-5fe8584fd69a",
   "metadata": {},
   "outputs": [
    {
     "data": {
      "text/plain": [
       "251    1\n",
       "252    0\n",
       "253    1\n",
       "254    1\n",
       "255    0\n",
       "Name: sent_code, dtype: int8"
      ]
     },
     "execution_count": 58,
     "metadata": {},
     "output_type": "execute_result"
    }
   ],
   "source": [
    "df_B['sent_code'].iloc[250:255]"
   ]
  },
  {
   "cell_type": "code",
   "execution_count": 59,
   "id": "b5bdbdc8-04c1-4fd2-9afd-523cf2e0cff6",
   "metadata": {},
   "outputs": [
    {
     "data": {
      "text/plain": [
       "array([0, 0, 0, 0, 0], dtype=int8)"
      ]
     },
     "execution_count": 59,
     "metadata": {},
     "output_type": "execute_result"
    }
   ],
   "source": [
    "pipeline.predict(df_B['tweet_stem_Snow'].iloc[250:255])"
   ]
  },
  {
   "cell_type": "code",
   "execution_count": 60,
   "id": "26d3da4f-d8c6-46eb-8051-fa8bf6fb5551",
   "metadata": {},
   "outputs": [
    {
     "name": "stdout",
     "output_type": "stream",
     "text": [
      "accuracy:  0.582\n",
      "f1_score:  0.659\n"
     ]
    }
   ],
   "source": [
    "y_pred = pipeline.predict(x_test)\n",
    "accuracy_score(y_pred,y_test)\n",
    "f1_score(y_pred, y_test, average='weighted')\n",
    "print('accuracy: ', round(accuracy_score(y_pred, y_test),3))\n",
    "print('f1_score: ', round(f1_score(y_pred, y_test, average='weighted'),3))"
   ]
  },
  {
   "cell_type": "markdown",
   "id": "f48b3fc9-2c72-486e-b9fa-a2af7da01026",
   "metadata": {},
   "source": [
    "после подбора параметров качество стало хуже"
   ]
  },
  {
   "cell_type": "markdown",
   "id": "de68cdb0-937b-422d-b7e7-c3a26e033922",
   "metadata": {},
   "source": [
    "**сравнение с другой моделью**"
   ]
  },
  {
   "cell_type": "code",
   "execution_count": 61,
   "id": "d1077167-4171-4e38-9eb6-ae39bc3471c8",
   "metadata": {},
   "outputs": [],
   "source": [
    "pipeline2 = Pipeline(\n",
    "    [\n",
    "        (\"vect\", CountVectorizer()),\n",
    "        (\"tfidf\", TfidfTransformer()),\n",
    "        (\"clf2\", RandomForestClassifier()),\n",
    "    ]\n",
    ")"
   ]
  },
  {
   "cell_type": "code",
   "execution_count": 62,
   "id": "69ae4417-ad01-49cf-9475-1c21cdc2834b",
   "metadata": {},
   "outputs": [
    {
     "data": {
      "text/plain": [
       "Pipeline(steps=[('vect', CountVectorizer()), ('tfidf', TfidfTransformer()),\n",
       "                ('clf2', RandomForestClassifier())])"
      ]
     },
     "execution_count": 62,
     "metadata": {},
     "output_type": "execute_result"
    }
   ],
   "source": [
    "pipeline2.fit(x_train, y_train)"
   ]
  },
  {
   "cell_type": "code",
   "execution_count": 63,
   "id": "0a54d068-42c1-4cc1-9660-19c4ea41e4ad",
   "metadata": {},
   "outputs": [
    {
     "data": {
      "text/plain": [
       "array([1, 0, 1, 1, 0], dtype=int8)"
      ]
     },
     "execution_count": 63,
     "metadata": {},
     "output_type": "execute_result"
    }
   ],
   "source": [
    "pipeline2.predict(df_B['tweet_stem_Snow'].iloc[250:255])"
   ]
  },
  {
   "cell_type": "markdown",
   "id": "2e2e0ac3-9a8a-4cc6-9892-8406f6e68b82",
   "metadata": {},
   "source": [
    "у RandomForestClassifier на этой маленькой выборке попадание 5/5"
   ]
  },
  {
   "cell_type": "code",
   "execution_count": 64,
   "id": "c0a7064f-aa33-4227-baef-62dc36b93b25",
   "metadata": {},
   "outputs": [
    {
     "name": "stdout",
     "output_type": "stream",
     "text": [
      "accuracy:  0.698\n",
      "f1_score:  0.713\n"
     ]
    }
   ],
   "source": [
    "y_pred = pipeline2.predict(x_test)\n",
    "accuracy_score(y_pred,y_test)\n",
    "f1_score(y_pred, y_test, average='weighted')\n",
    "print('accuracy: ', round(accuracy_score(y_pred, y_test),3))\n",
    "print('f1_score: ', round(f1_score(y_pred, y_test, average='weighted'),3))"
   ]
  },
  {
   "cell_type": "markdown",
   "id": "12ba80dd-3433-4377-8a0c-ea498e7d28c8",
   "metadata": {},
   "source": [
    "**у модели LogisticRegression и у RandomForestClassifier качество почти одинаковое ( 0,696/0,718 - 0,698/0,713)**"
   ]
  },
  {
   "cell_type": "markdown",
   "id": "e2b4b108-d4c5-45a3-9788-deb161afeb03",
   "metadata": {},
   "source": [
    "### hard  \n",
    "##### использовать лемматизатор pymorphy вместо стемминга  \n",
    "##### в качестве модели использовать градиентный бустинг не из sklearn  \n",
    "##### подобрать параметры, оценить качество на кросс-валидации"
   ]
  },
  {
   "cell_type": "markdown",
   "id": "1df966b6-4354-49b0-95ba-37538e9d2cf1",
   "metadata": {},
   "source": [
    "**лемматизатор pymorphy**"
   ]
  },
  {
   "cell_type": "code",
   "execution_count": 65,
   "id": "30add4c1-6a93-4f4f-968c-a65ea280f517",
   "metadata": {},
   "outputs": [],
   "source": [
    "import pymorphy2"
   ]
  },
  {
   "cell_type": "code",
   "execution_count": 66,
   "id": "dbef5a32-75c5-4062-9ad0-10c8ed3ac0e5",
   "metadata": {},
   "outputs": [],
   "source": [
    "morph = pymorphy2.MorphAnalyzer()"
   ]
  },
  {
   "cell_type": "code",
   "execution_count": 67,
   "id": "25ba790e-c54b-4d33-b7f0-e34901cd24da",
   "metadata": {},
   "outputs": [],
   "source": [
    "def lemmatize_word(word):\n",
    "    return morph.parse(word)[0].normal_form\n",
    "\n",
    "def preprocess_corpus_lem(corpus):\n",
    "    return [' '.join(map(lemmatize_word, text.split())) for text in corpus]"
   ]
  },
  {
   "cell_type": "code",
   "execution_count": 68,
   "id": "eb0e1410-2844-42f4-b563-a42c35d7203d",
   "metadata": {},
   "outputs": [
    {
     "data": {
      "text/html": [
       "<div>\n",
       "<style scoped>\n",
       "    .dataframe tbody tr th:only-of-type {\n",
       "        vertical-align: middle;\n",
       "    }\n",
       "\n",
       "    .dataframe tbody tr th {\n",
       "        vertical-align: top;\n",
       "    }\n",
       "\n",
       "    .dataframe thead th {\n",
       "        text-align: right;\n",
       "    }\n",
       "</style>\n",
       "<table border=\"1\" class=\"dataframe\">\n",
       "  <thead>\n",
       "    <tr style=\"text-align: right;\">\n",
       "      <th></th>\n",
       "      <th>tweet_bz</th>\n",
       "      <th>tweet_stem_Snow</th>\n",
       "      <th>tweet_lem</th>\n",
       "    </tr>\n",
       "  </thead>\n",
       "  <tbody>\n",
       "    <tr>\n",
       "      <th>1</th>\n",
       "      <td>в вост бирюлево на одну палатку с кошатиной ст...</td>\n",
       "      <td>в вост бирюлев на одн палатк с кошатин стал ме...</td>\n",
       "      <td>в вост бирюлёво на один палатка с кошатина ста...</td>\n",
       "    </tr>\n",
       "    <tr>\n",
       "      <th>2</th>\n",
       "      <td>у районной управы собираются местные жители би...</td>\n",
       "      <td>у район управ собира местн жител бирюлев live ...</td>\n",
       "      <td>у районный управа собираться местный житель би...</td>\n",
       "    </tr>\n",
       "    <tr>\n",
       "      <th>3</th>\n",
       "      <td>tvrain тем временем конная полиция добралась д...</td>\n",
       "      <td>tvrain тем времен кон полиц добра до бирюлев p...</td>\n",
       "      <td>tvrain тем время конный полиция добраться до б...</td>\n",
       "    </tr>\n",
       "    <tr>\n",
       "      <th>4</th>\n",
       "      <td>в центре появились тощие прыщавые мужичонки с ...</td>\n",
       "      <td>в центр появ тощ прыщав мужичонк с красн повяз...</td>\n",
       "      <td>в центр появиться тощий прыщавый мужичонка с к...</td>\n",
       "    </tr>\n",
       "    <tr>\n",
       "      <th>5</th>\n",
       "      <td>как пишет товарищ в смс на площади революции ч...</td>\n",
       "      <td>как пишет товарищ в смс на площад революц черн...</td>\n",
       "      <td>как писать товарищ в смс на площадь революция ...</td>\n",
       "    </tr>\n",
       "    <tr>\n",
       "      <th>...</th>\n",
       "      <td>...</td>\n",
       "      <td>...</td>\n",
       "      <td>...</td>\n",
       "    </tr>\n",
       "    <tr>\n",
       "      <th>1886</th>\n",
       "      <td>наш корр dmitryhorse ведет трансляцию из бирюлево</td>\n",
       "      <td>наш корр dmitryhorse ведет трансляц из бирюлев</td>\n",
       "      <td>наш корра dmitryhorse вести трансляция из бирю...</td>\n",
       "    </tr>\n",
       "    <tr>\n",
       "      <th>1887</th>\n",
       "      <td>gazetaru мид ответил на заявление германии о б...</td>\n",
       "      <td>gazetaru мид ответ на заявлен герман о беспоря...</td>\n",
       "      <td>gazetaru мид ответить на заявление германия о ...</td>\n",
       "    </tr>\n",
       "    <tr>\n",
       "      <th>1888</th>\n",
       "      <td>rt_russian азербайджанские радикалы пригрозили...</td>\n",
       "      <td>rt_russian азербайджанск радикал пригроз приня...</td>\n",
       "      <td>rt_russian азербайджанский радикал пригрозить ...</td>\n",
       "    </tr>\n",
       "    <tr>\n",
       "      <th>1889</th>\n",
       "      <td>rt_russian эксклюзив новые кадры задержания по...</td>\n",
       "      <td>rt_russian эксклюз нов кадр задержан подозрева...</td>\n",
       "      <td>rt_russian эксклюзив новый кадр задержание под...</td>\n",
       "    </tr>\n",
       "    <tr>\n",
       "      <th>1890</th>\n",
       "      <td>предполагаемый убийца егора щербакова в бирюле...</td>\n",
       "      <td>предполага убийц егор щербаков в бирюлев орха ...</td>\n",
       "      <td>предполагать убийца егор щербаков в бирюлёво о...</td>\n",
       "    </tr>\n",
       "  </tbody>\n",
       "</table>\n",
       "<p>1890 rows × 3 columns</p>\n",
       "</div>"
      ],
      "text/plain": [
       "                                               tweet_bz  \\\n",
       "1     в вост бирюлево на одну палатку с кошатиной ст...   \n",
       "2     у районной управы собираются местные жители би...   \n",
       "3     tvrain тем временем конная полиция добралась д...   \n",
       "4     в центре появились тощие прыщавые мужичонки с ...   \n",
       "5     как пишет товарищ в смс на площади революции ч...   \n",
       "...                                                 ...   \n",
       "1886  наш корр dmitryhorse ведет трансляцию из бирюлево   \n",
       "1887  gazetaru мид ответил на заявление германии о б...   \n",
       "1888  rt_russian азербайджанские радикалы пригрозили...   \n",
       "1889  rt_russian эксклюзив новые кадры задержания по...   \n",
       "1890  предполагаемый убийца егора щербакова в бирюле...   \n",
       "\n",
       "                                        tweet_stem_Snow  \\\n",
       "1     в вост бирюлев на одн палатк с кошатин стал ме...   \n",
       "2     у район управ собира местн жител бирюлев live ...   \n",
       "3     tvrain тем времен кон полиц добра до бирюлев p...   \n",
       "4     в центр появ тощ прыщав мужичонк с красн повяз...   \n",
       "5     как пишет товарищ в смс на площад революц черн...   \n",
       "...                                                 ...   \n",
       "1886     наш корр dmitryhorse ведет трансляц из бирюлев   \n",
       "1887  gazetaru мид ответ на заявлен герман о беспоря...   \n",
       "1888  rt_russian азербайджанск радикал пригроз приня...   \n",
       "1889  rt_russian эксклюз нов кадр задержан подозрева...   \n",
       "1890  предполага убийц егор щербаков в бирюлев орха ...   \n",
       "\n",
       "                                              tweet_lem  \n",
       "1     в вост бирюлёво на один палатка с кошатина ста...  \n",
       "2     у районный управа собираться местный житель би...  \n",
       "3     tvrain тем время конный полиция добраться до б...  \n",
       "4     в центр появиться тощий прыщавый мужичонка с к...  \n",
       "5     как писать товарищ в смс на площадь революция ...  \n",
       "...                                                 ...  \n",
       "1886  наш корра dmitryhorse вести трансляция из бирю...  \n",
       "1887  gazetaru мид ответить на заявление германия о ...  \n",
       "1888  rt_russian азербайджанский радикал пригрозить ...  \n",
       "1889  rt_russian эксклюзив новый кадр задержание под...  \n",
       "1890  предполагать убийца егор щербаков в бирюлёво о...  \n",
       "\n",
       "[1890 rows x 3 columns]"
      ]
     },
     "execution_count": 68,
     "metadata": {},
     "output_type": "execute_result"
    }
   ],
   "source": [
    "df_B['tweet_lem'] = preprocess_corpus_lem(df_B['tweet_bz'])\n",
    "df_B[['tweet_bz', 'tweet_stem_Snow','tweet_lem']]"
   ]
  },
  {
   "cell_type": "markdown",
   "id": "2908ddbf-dd6a-4139-bb8f-44108e9e0422",
   "metadata": {},
   "source": [
    "**градиентный бустинг**"
   ]
  },
  {
   "cell_type": "code",
   "execution_count": 69,
   "id": "675533ac-60a0-4573-a3d2-0eeb43c06a4f",
   "metadata": {},
   "outputs": [],
   "source": [
    "import xgboost as xgb"
   ]
  },
  {
   "cell_type": "code",
   "execution_count": 70,
   "id": "b071f12b-06b5-4abd-bc88-324ab2477263",
   "metadata": {},
   "outputs": [],
   "source": [
    "from xgboost import XGBClassifier"
   ]
  },
  {
   "cell_type": "code",
   "execution_count": 71,
   "id": "53d237d8-c617-400e-affc-7476c0887b50",
   "metadata": {},
   "outputs": [],
   "source": [
    "x = tfidf.fit_transform(df_B.tweet_lem)\n",
    "y = df_B.sent_code\n",
    "x_train, x_test, y_train, y_test = train_test_split(x, y, train_size=0.8)"
   ]
  },
  {
   "cell_type": "code",
   "execution_count": 73,
   "id": "3adb997a-6ea2-4e50-86e2-e8799a289d05",
   "metadata": {},
   "outputs": [
    {
     "name": "stdout",
     "output_type": "stream",
     "text": [
      "[19:09:30] WARNING: ..\\src\\learner.cc:1061: Starting in XGBoost 1.3.0, the default evaluation metric used with the objective 'multi:softprob' was changed from 'merror' to 'mlogloss'. Explicitly set eval_metric if you'd like to restore the old behavior.\n",
      "accuracy:  0.672\n",
      "f1_score:  0.685\n"
     ]
    }
   ],
   "source": [
    "#здесь warnings отключить не получилось\n",
    "import warnings\n",
    "warnings.filterwarnings(\"ignore\")\n",
    "\n",
    "model = XGBClassifier()\n",
    "model.fit(x_train, y_train)\n",
    "y_pred = model.predict(x_test)\n",
    "accuracy_score(y_pred, y_test)\n",
    "f1_score(y_pred, y_test, average='weighted')\n",
    "print('accuracy: ', round(accuracy_score(y_pred, y_test),3))\n",
    "print('f1_score: ', round(f1_score(y_pred, y_test, average='weighted'),3))"
   ]
  },
  {
   "cell_type": "markdown",
   "id": "324b4267-8f45-448c-8fec-b1ba607546e1",
   "metadata": {},
   "source": [
    "**подбор параметров**"
   ]
  },
  {
   "cell_type": "code",
   "execution_count": 74,
   "id": "839e65eb-4958-44f7-b1f7-062f46cacaf5",
   "metadata": {
    "collapsed": true,
    "jupyter": {
     "outputs_hidden": true
    },
    "tags": []
   },
   "outputs": [
    {
     "name": "stdout",
     "output_type": "stream",
     "text": [
      "[19:09:42] WARNING: ..\\src\\learner.cc:541: \n",
      "Parameters: { max_depth } might not be used.\n",
      "\n",
      "  This may not be accurate due to some parameters are only used in language bindings but\n",
      "  passed down to XGBoost core.  Or some parameters are not used but slip through this\n",
      "  verification. Please open an issue if you find above cases.\n",
      "\n",
      "\n",
      "[19:09:42] WARNING: ..\\src\\learner.cc:1061: Starting in XGBoost 1.3.0, the default evaluation metric used with the objective 'multi:softprob' was changed from 'merror' to 'mlogloss'. Explicitly set eval_metric if you'd like to restore the old behavior.\n",
      "[19:09:43] WARNING: ..\\src\\learner.cc:541: \n",
      "Parameters: { max_depth } might not be used.\n",
      "\n",
      "  This may not be accurate due to some parameters are only used in language bindings but\n",
      "  passed down to XGBoost core.  Or some parameters are not used but slip through this\n",
      "  verification. Please open an issue if you find above cases.\n",
      "\n",
      "\n",
      "[19:09:43] WARNING: ..\\src\\learner.cc:1061: Starting in XGBoost 1.3.0, the default evaluation metric used with the objective 'multi:softprob' was changed from 'merror' to 'mlogloss'. Explicitly set eval_metric if you'd like to restore the old behavior.\n",
      "[19:09:43] WARNING: ..\\src\\learner.cc:541: \n",
      "Parameters: { max_depth } might not be used.\n",
      "\n",
      "  This may not be accurate due to some parameters are only used in language bindings but\n",
      "  passed down to XGBoost core.  Or some parameters are not used but slip through this\n",
      "  verification. Please open an issue if you find above cases.\n",
      "\n",
      "\n",
      "[19:09:43] WARNING: ..\\src\\learner.cc:1061: Starting in XGBoost 1.3.0, the default evaluation metric used with the objective 'multi:softprob' was changed from 'merror' to 'mlogloss'. Explicitly set eval_metric if you'd like to restore the old behavior.\n",
      "[19:09:43] WARNING: ..\\src\\learner.cc:541: \n",
      "Parameters: { max_depth } might not be used.\n",
      "\n",
      "  This may not be accurate due to some parameters are only used in language bindings but\n",
      "  passed down to XGBoost core.  Or some parameters are not used but slip through this\n",
      "  verification. Please open an issue if you find above cases.\n",
      "\n",
      "\n",
      "[19:09:43] WARNING: ..\\src\\learner.cc:1061: Starting in XGBoost 1.3.0, the default evaluation metric used with the objective 'multi:softprob' was changed from 'merror' to 'mlogloss'. Explicitly set eval_metric if you'd like to restore the old behavior.\n",
      "[19:09:44] WARNING: ..\\src\\learner.cc:541: \n",
      "Parameters: { max_depth } might not be used.\n",
      "\n",
      "  This may not be accurate due to some parameters are only used in language bindings but\n",
      "  passed down to XGBoost core.  Or some parameters are not used but slip through this\n",
      "  verification. Please open an issue if you find above cases.\n",
      "\n",
      "\n",
      "[19:09:44] WARNING: ..\\src\\learner.cc:1061: Starting in XGBoost 1.3.0, the default evaluation metric used with the objective 'multi:softprob' was changed from 'merror' to 'mlogloss'. Explicitly set eval_metric if you'd like to restore the old behavior.\n",
      "[19:09:44] WARNING: ..\\src\\learner.cc:541: \n",
      "Parameters: { max_depth } might not be used.\n",
      "\n",
      "  This may not be accurate due to some parameters are only used in language bindings but\n",
      "  passed down to XGBoost core.  Or some parameters are not used but slip through this\n",
      "  verification. Please open an issue if you find above cases.\n",
      "\n",
      "\n",
      "[19:09:44] WARNING: ..\\src\\learner.cc:1061: Starting in XGBoost 1.3.0, the default evaluation metric used with the objective 'multi:softprob' was changed from 'merror' to 'mlogloss'. Explicitly set eval_metric if you'd like to restore the old behavior.\n",
      "[19:09:44] WARNING: ..\\src\\learner.cc:541: \n",
      "Parameters: { max_depth } might not be used.\n",
      "\n",
      "  This may not be accurate due to some parameters are only used in language bindings but\n",
      "  passed down to XGBoost core.  Or some parameters are not used but slip through this\n",
      "  verification. Please open an issue if you find above cases.\n",
      "\n",
      "\n",
      "[19:09:44] WARNING: ..\\src\\learner.cc:1061: Starting in XGBoost 1.3.0, the default evaluation metric used with the objective 'multi:softprob' was changed from 'merror' to 'mlogloss'. Explicitly set eval_metric if you'd like to restore the old behavior.\n",
      "[19:09:45] WARNING: ..\\src\\learner.cc:541: \n",
      "Parameters: { max_depth } might not be used.\n",
      "\n",
      "  This may not be accurate due to some parameters are only used in language bindings but\n",
      "  passed down to XGBoost core.  Or some parameters are not used but slip through this\n",
      "  verification. Please open an issue if you find above cases.\n",
      "\n",
      "\n",
      "[19:09:45] WARNING: ..\\src\\learner.cc:1061: Starting in XGBoost 1.3.0, the default evaluation metric used with the objective 'multi:softprob' was changed from 'merror' to 'mlogloss'. Explicitly set eval_metric if you'd like to restore the old behavior.\n",
      "[19:09:45] WARNING: ..\\src\\learner.cc:541: \n",
      "Parameters: { max_depth } might not be used.\n",
      "\n",
      "  This may not be accurate due to some parameters are only used in language bindings but\n",
      "  passed down to XGBoost core.  Or some parameters are not used but slip through this\n",
      "  verification. Please open an issue if you find above cases.\n",
      "\n",
      "\n",
      "[19:09:45] WARNING: ..\\src\\learner.cc:1061: Starting in XGBoost 1.3.0, the default evaluation metric used with the objective 'multi:softprob' was changed from 'merror' to 'mlogloss'. Explicitly set eval_metric if you'd like to restore the old behavior.\n",
      "[19:09:46] WARNING: ..\\src\\learner.cc:541: \n",
      "Parameters: { max_depth } might not be used.\n",
      "\n",
      "  This may not be accurate due to some parameters are only used in language bindings but\n",
      "  passed down to XGBoost core.  Or some parameters are not used but slip through this\n",
      "  verification. Please open an issue if you find above cases.\n",
      "\n",
      "\n",
      "[19:09:46] WARNING: ..\\src\\learner.cc:1061: Starting in XGBoost 1.3.0, the default evaluation metric used with the objective 'multi:softprob' was changed from 'merror' to 'mlogloss'. Explicitly set eval_metric if you'd like to restore the old behavior.\n",
      "[19:09:46] WARNING: ..\\src\\learner.cc:541: \n",
      "Parameters: { max_depth } might not be used.\n",
      "\n",
      "  This may not be accurate due to some parameters are only used in language bindings but\n",
      "  passed down to XGBoost core.  Or some parameters are not used but slip through this\n",
      "  verification. Please open an issue if you find above cases.\n",
      "\n",
      "\n",
      "[19:09:46] WARNING: ..\\src\\learner.cc:1061: Starting in XGBoost 1.3.0, the default evaluation metric used with the objective 'multi:softprob' was changed from 'merror' to 'mlogloss'. Explicitly set eval_metric if you'd like to restore the old behavior.\n",
      "[19:09:47] WARNING: ..\\src\\learner.cc:541: \n",
      "Parameters: { max_depth } might not be used.\n",
      "\n",
      "  This may not be accurate due to some parameters are only used in language bindings but\n",
      "  passed down to XGBoost core.  Or some parameters are not used but slip through this\n",
      "  verification. Please open an issue if you find above cases.\n",
      "\n",
      "\n",
      "[19:09:47] WARNING: ..\\src\\learner.cc:1061: Starting in XGBoost 1.3.0, the default evaluation metric used with the objective 'multi:softprob' was changed from 'merror' to 'mlogloss'. Explicitly set eval_metric if you'd like to restore the old behavior.\n",
      "[19:09:48] WARNING: ..\\src\\learner.cc:541: \n",
      "Parameters: { max_depth } might not be used.\n",
      "\n",
      "  This may not be accurate due to some parameters are only used in language bindings but\n",
      "  passed down to XGBoost core.  Or some parameters are not used but slip through this\n",
      "  verification. Please open an issue if you find above cases.\n",
      "\n",
      "\n",
      "[19:09:48] WARNING: ..\\src\\learner.cc:1061: Starting in XGBoost 1.3.0, the default evaluation metric used with the objective 'multi:softprob' was changed from 'merror' to 'mlogloss'. Explicitly set eval_metric if you'd like to restore the old behavior.\n",
      "[19:09:49] WARNING: ..\\src\\learner.cc:541: \n",
      "Parameters: { max_depth } might not be used.\n",
      "\n",
      "  This may not be accurate due to some parameters are only used in language bindings but\n",
      "  passed down to XGBoost core.  Or some parameters are not used but slip through this\n",
      "  verification. Please open an issue if you find above cases.\n",
      "\n",
      "\n",
      "[19:09:49] WARNING: ..\\src\\learner.cc:1061: Starting in XGBoost 1.3.0, the default evaluation metric used with the objective 'multi:softprob' was changed from 'merror' to 'mlogloss'. Explicitly set eval_metric if you'd like to restore the old behavior.\n",
      "[19:09:50] WARNING: ..\\src\\learner.cc:541: \n",
      "Parameters: { max_depth } might not be used.\n",
      "\n",
      "  This may not be accurate due to some parameters are only used in language bindings but\n",
      "  passed down to XGBoost core.  Or some parameters are not used but slip through this\n",
      "  verification. Please open an issue if you find above cases.\n",
      "\n",
      "\n",
      "[19:09:50] WARNING: ..\\src\\learner.cc:1061: Starting in XGBoost 1.3.0, the default evaluation metric used with the objective 'multi:softprob' was changed from 'merror' to 'mlogloss'. Explicitly set eval_metric if you'd like to restore the old behavior.\n",
      "[19:09:51] WARNING: ..\\src\\learner.cc:1061: Starting in XGBoost 1.3.0, the default evaluation metric used with the objective 'multi:softprob' was changed from 'merror' to 'mlogloss'. Explicitly set eval_metric if you'd like to restore the old behavior.\n",
      "[19:09:53] WARNING: ..\\src\\learner.cc:1061: Starting in XGBoost 1.3.0, the default evaluation metric used with the objective 'multi:softprob' was changed from 'merror' to 'mlogloss'. Explicitly set eval_metric if you'd like to restore the old behavior.\n",
      "[19:09:54] WARNING: ..\\src\\learner.cc:1061: Starting in XGBoost 1.3.0, the default evaluation metric used with the objective 'multi:softprob' was changed from 'merror' to 'mlogloss'. Explicitly set eval_metric if you'd like to restore the old behavior.\n",
      "[19:09:55] WARNING: ..\\src\\learner.cc:1061: Starting in XGBoost 1.3.0, the default evaluation metric used with the objective 'multi:softprob' was changed from 'merror' to 'mlogloss'. Explicitly set eval_metric if you'd like to restore the old behavior.\n",
      "[19:09:56] WARNING: ..\\src\\learner.cc:1061: Starting in XGBoost 1.3.0, the default evaluation metric used with the objective 'multi:softprob' was changed from 'merror' to 'mlogloss'. Explicitly set eval_metric if you'd like to restore the old behavior.\n",
      "[19:09:57] WARNING: ..\\src\\learner.cc:1061: Starting in XGBoost 1.3.0, the default evaluation metric used with the objective 'multi:softprob' was changed from 'merror' to 'mlogloss'. Explicitly set eval_metric if you'd like to restore the old behavior.\n",
      "[19:10:00] WARNING: ..\\src\\learner.cc:1061: Starting in XGBoost 1.3.0, the default evaluation metric used with the objective 'multi:softprob' was changed from 'merror' to 'mlogloss'. Explicitly set eval_metric if you'd like to restore the old behavior.\n",
      "[19:10:03] WARNING: ..\\src\\learner.cc:1061: Starting in XGBoost 1.3.0, the default evaluation metric used with the objective 'multi:softprob' was changed from 'merror' to 'mlogloss'. Explicitly set eval_metric if you'd like to restore the old behavior.\n",
      "[19:10:06] WARNING: ..\\src\\learner.cc:1061: Starting in XGBoost 1.3.0, the default evaluation metric used with the objective 'multi:softprob' was changed from 'merror' to 'mlogloss'. Explicitly set eval_metric if you'd like to restore the old behavior.\n",
      "[19:10:08] WARNING: ..\\src\\learner.cc:1061: Starting in XGBoost 1.3.0, the default evaluation metric used with the objective 'multi:softprob' was changed from 'merror' to 'mlogloss'. Explicitly set eval_metric if you'd like to restore the old behavior.\n",
      "[19:10:11] WARNING: ..\\src\\learner.cc:541: \n",
      "Parameters: { max_depth } might not be used.\n",
      "\n",
      "  This may not be accurate due to some parameters are only used in language bindings but\n",
      "  passed down to XGBoost core.  Or some parameters are not used but slip through this\n",
      "  verification. Please open an issue if you find above cases.\n",
      "\n",
      "\n",
      "[19:10:11] WARNING: ..\\src\\learner.cc:1061: Starting in XGBoost 1.3.0, the default evaluation metric used with the objective 'multi:softprob' was changed from 'merror' to 'mlogloss'. Explicitly set eval_metric if you'd like to restore the old behavior.\n",
      "[19:10:12] WARNING: ..\\src\\learner.cc:541: \n",
      "Parameters: { max_depth } might not be used.\n",
      "\n",
      "  This may not be accurate due to some parameters are only used in language bindings but\n",
      "  passed down to XGBoost core.  Or some parameters are not used but slip through this\n",
      "  verification. Please open an issue if you find above cases.\n",
      "\n",
      "\n",
      "[19:10:12] WARNING: ..\\src\\learner.cc:1061: Starting in XGBoost 1.3.0, the default evaluation metric used with the objective 'multi:softprob' was changed from 'merror' to 'mlogloss'. Explicitly set eval_metric if you'd like to restore the old behavior.\n",
      "[19:10:13] WARNING: ..\\src\\learner.cc:541: \n",
      "Parameters: { max_depth } might not be used.\n",
      "\n",
      "  This may not be accurate due to some parameters are only used in language bindings but\n",
      "  passed down to XGBoost core.  Or some parameters are not used but slip through this\n",
      "  verification. Please open an issue if you find above cases.\n",
      "\n",
      "\n",
      "[19:10:13] WARNING: ..\\src\\learner.cc:1061: Starting in XGBoost 1.3.0, the default evaluation metric used with the objective 'multi:softprob' was changed from 'merror' to 'mlogloss'. Explicitly set eval_metric if you'd like to restore the old behavior.\n",
      "[19:10:14] WARNING: ..\\src\\learner.cc:541: \n",
      "Parameters: { max_depth } might not be used.\n",
      "\n",
      "  This may not be accurate due to some parameters are only used in language bindings but\n",
      "  passed down to XGBoost core.  Or some parameters are not used but slip through this\n",
      "  verification. Please open an issue if you find above cases.\n",
      "\n",
      "\n",
      "[19:10:14] WARNING: ..\\src\\learner.cc:1061: Starting in XGBoost 1.3.0, the default evaluation metric used with the objective 'multi:softprob' was changed from 'merror' to 'mlogloss'. Explicitly set eval_metric if you'd like to restore the old behavior.\n",
      "[19:10:15] WARNING: ..\\src\\learner.cc:541: \n",
      "Parameters: { max_depth } might not be used.\n",
      "\n",
      "  This may not be accurate due to some parameters are only used in language bindings but\n",
      "  passed down to XGBoost core.  Or some parameters are not used but slip through this\n",
      "  verification. Please open an issue if you find above cases.\n",
      "\n",
      "\n",
      "[19:10:15] WARNING: ..\\src\\learner.cc:1061: Starting in XGBoost 1.3.0, the default evaluation metric used with the objective 'multi:softprob' was changed from 'merror' to 'mlogloss'. Explicitly set eval_metric if you'd like to restore the old behavior.\n",
      "[19:10:16] WARNING: ..\\src\\learner.cc:541: \n",
      "Parameters: { max_depth } might not be used.\n",
      "\n",
      "  This may not be accurate due to some parameters are only used in language bindings but\n",
      "  passed down to XGBoost core.  Or some parameters are not used but slip through this\n",
      "  verification. Please open an issue if you find above cases.\n",
      "\n",
      "\n",
      "[19:10:16] WARNING: ..\\src\\learner.cc:1061: Starting in XGBoost 1.3.0, the default evaluation metric used with the objective 'multi:softprob' was changed from 'merror' to 'mlogloss'. Explicitly set eval_metric if you'd like to restore the old behavior.\n",
      "[19:10:16] WARNING: ..\\src\\learner.cc:541: \n",
      "Parameters: { max_depth } might not be used.\n",
      "\n",
      "  This may not be accurate due to some parameters are only used in language bindings but\n",
      "  passed down to XGBoost core.  Or some parameters are not used but slip through this\n",
      "  verification. Please open an issue if you find above cases.\n",
      "\n",
      "\n",
      "[19:10:16] WARNING: ..\\src\\learner.cc:1061: Starting in XGBoost 1.3.0, the default evaluation metric used with the objective 'multi:softprob' was changed from 'merror' to 'mlogloss'. Explicitly set eval_metric if you'd like to restore the old behavior.\n",
      "[19:10:16] WARNING: ..\\src\\learner.cc:541: \n",
      "Parameters: { max_depth } might not be used.\n",
      "\n",
      "  This may not be accurate due to some parameters are only used in language bindings but\n",
      "  passed down to XGBoost core.  Or some parameters are not used but slip through this\n",
      "  verification. Please open an issue if you find above cases.\n",
      "\n",
      "\n",
      "[19:10:16] WARNING: ..\\src\\learner.cc:1061: Starting in XGBoost 1.3.0, the default evaluation metric used with the objective 'multi:softprob' was changed from 'merror' to 'mlogloss'. Explicitly set eval_metric if you'd like to restore the old behavior.\n",
      "[19:10:17] WARNING: ..\\src\\learner.cc:541: \n",
      "Parameters: { max_depth } might not be used.\n",
      "\n",
      "  This may not be accurate due to some parameters are only used in language bindings but\n",
      "  passed down to XGBoost core.  Or some parameters are not used but slip through this\n",
      "  verification. Please open an issue if you find above cases.\n",
      "\n",
      "\n",
      "[19:10:17] WARNING: ..\\src\\learner.cc:1061: Starting in XGBoost 1.3.0, the default evaluation metric used with the objective 'multi:softprob' was changed from 'merror' to 'mlogloss'. Explicitly set eval_metric if you'd like to restore the old behavior.\n",
      "[19:10:17] WARNING: ..\\src\\learner.cc:541: \n",
      "Parameters: { max_depth } might not be used.\n",
      "\n",
      "  This may not be accurate due to some parameters are only used in language bindings but\n",
      "  passed down to XGBoost core.  Or some parameters are not used but slip through this\n",
      "  verification. Please open an issue if you find above cases.\n",
      "\n",
      "\n",
      "[19:10:17] WARNING: ..\\src\\learner.cc:1061: Starting in XGBoost 1.3.0, the default evaluation metric used with the objective 'multi:softprob' was changed from 'merror' to 'mlogloss'. Explicitly set eval_metric if you'd like to restore the old behavior.\n",
      "[19:10:17] WARNING: ..\\src\\learner.cc:1061: Starting in XGBoost 1.3.0, the default evaluation metric used with the objective 'multi:softprob' was changed from 'merror' to 'mlogloss'. Explicitly set eval_metric if you'd like to restore the old behavior.\n",
      "[19:10:20] WARNING: ..\\src\\learner.cc:1061: Starting in XGBoost 1.3.0, the default evaluation metric used with the objective 'multi:softprob' was changed from 'merror' to 'mlogloss'. Explicitly set eval_metric if you'd like to restore the old behavior.\n",
      "[19:10:24] WARNING: ..\\src\\learner.cc:1061: Starting in XGBoost 1.3.0, the default evaluation metric used with the objective 'multi:softprob' was changed from 'merror' to 'mlogloss'. Explicitly set eval_metric if you'd like to restore the old behavior.\n",
      "[19:10:27] WARNING: ..\\src\\learner.cc:1061: Starting in XGBoost 1.3.0, the default evaluation metric used with the objective 'multi:softprob' was changed from 'merror' to 'mlogloss'. Explicitly set eval_metric if you'd like to restore the old behavior.\n",
      "[19:10:31] WARNING: ..\\src\\learner.cc:1061: Starting in XGBoost 1.3.0, the default evaluation metric used with the objective 'multi:softprob' was changed from 'merror' to 'mlogloss'. Explicitly set eval_metric if you'd like to restore the old behavior.\n",
      "[19:10:35] WARNING: ..\\src\\learner.cc:1061: Starting in XGBoost 1.3.0, the default evaluation metric used with the objective 'multi:softprob' was changed from 'merror' to 'mlogloss'. Explicitly set eval_metric if you'd like to restore the old behavior.\n",
      "[19:10:35] WARNING: ..\\src\\learner.cc:1061: Starting in XGBoost 1.3.0, the default evaluation metric used with the objective 'multi:softprob' was changed from 'merror' to 'mlogloss'. Explicitly set eval_metric if you'd like to restore the old behavior.\n",
      "[19:10:36] WARNING: ..\\src\\learner.cc:1061: Starting in XGBoost 1.3.0, the default evaluation metric used with the objective 'multi:softprob' was changed from 'merror' to 'mlogloss'. Explicitly set eval_metric if you'd like to restore the old behavior.\n",
      "[19:10:37] WARNING: ..\\src\\learner.cc:1061: Starting in XGBoost 1.3.0, the default evaluation metric used with the objective 'multi:softprob' was changed from 'merror' to 'mlogloss'. Explicitly set eval_metric if you'd like to restore the old behavior.\n",
      "[19:10:39] WARNING: ..\\src\\learner.cc:1061: Starting in XGBoost 1.3.0, the default evaluation metric used with the objective 'multi:softprob' was changed from 'merror' to 'mlogloss'. Explicitly set eval_metric if you'd like to restore the old behavior.\n",
      "[19:10:40] WARNING: ..\\src\\learner.cc:1061: Starting in XGBoost 1.3.0, the default evaluation metric used with the objective 'multi:softprob' was changed from 'merror' to 'mlogloss'. Explicitly set eval_metric if you'd like to restore the old behavior.\n",
      "[19:10:45] WARNING: ..\\src\\learner.cc:1061: Starting in XGBoost 1.3.0, the default evaluation metric used with the objective 'multi:softprob' was changed from 'merror' to 'mlogloss'. Explicitly set eval_metric if you'd like to restore the old behavior.\n",
      "[19:10:51] WARNING: ..\\src\\learner.cc:1061: Starting in XGBoost 1.3.0, the default evaluation metric used with the objective 'multi:softprob' was changed from 'merror' to 'mlogloss'. Explicitly set eval_metric if you'd like to restore the old behavior.\n",
      "[19:10:56] WARNING: ..\\src\\learner.cc:1061: Starting in XGBoost 1.3.0, the default evaluation metric used with the objective 'multi:softprob' was changed from 'merror' to 'mlogloss'. Explicitly set eval_metric if you'd like to restore the old behavior.\n",
      "[19:11:01] WARNING: ..\\src\\learner.cc:1061: Starting in XGBoost 1.3.0, the default evaluation metric used with the objective 'multi:softprob' was changed from 'merror' to 'mlogloss'. Explicitly set eval_metric if you'd like to restore the old behavior.\n",
      "[19:11:07] WARNING: ..\\src\\learner.cc:541: \n",
      "Parameters: { max_depth } might not be used.\n",
      "\n",
      "  This may not be accurate due to some parameters are only used in language bindings but\n",
      "  passed down to XGBoost core.  Or some parameters are not used but slip through this\n",
      "  verification. Please open an issue if you find above cases.\n",
      "\n",
      "\n",
      "[19:11:07] WARNING: ..\\src\\learner.cc:1061: Starting in XGBoost 1.3.0, the default evaluation metric used with the objective 'multi:softprob' was changed from 'merror' to 'mlogloss'. Explicitly set eval_metric if you'd like to restore the old behavior.\n"
     ]
    },
    {
     "data": {
      "text/plain": [
       "RandomizedSearchCV(estimator=XGBClassifier(base_score=None, booster=None,\n",
       "                                           colsample_bylevel=None,\n",
       "                                           colsample_bynode=None,\n",
       "                                           colsample_bytree=None, gamma=None,\n",
       "                                           gpu_id=None, importance_type='gain',\n",
       "                                           interaction_constraints=None,\n",
       "                                           learning_rate=None,\n",
       "                                           max_delta_step=None, max_depth=None,\n",
       "                                           min_child_weight=None, missing=nan,\n",
       "                                           monotone_constraints=None,\n",
       "                                           n_estimators=100, n_jobs=None,\n",
       "                                           num_parallel_tree=None,\n",
       "                                           random_state=None, reg_alpha=None,\n",
       "                                           reg_lambda=None,\n",
       "                                           scale_pos_weight=None,\n",
       "                                           subsample=None, tree_method=None,\n",
       "                                           validate_parameters=None,\n",
       "                                           verbosity=None),\n",
       "                   param_distributions={'booster': ['gbtree', 'gblinear',\n",
       "                                                    'dart'],\n",
       "                                        'max_depth': [4, 5, 6],\n",
       "                                        'n_estimators': [50, 100, 200]},\n",
       "                   scoring='accuracy')"
      ]
     },
     "execution_count": 74,
     "metadata": {},
     "output_type": "execute_result"
    }
   ],
   "source": [
    "#здесь warnings отключить не получилось\n",
    "import warnings\n",
    "warnings.filterwarnings(\"ignore\")\n",
    "\n",
    "params = {\n",
    "    'n_estimators': [50, 100, 200],\n",
    "    'max_depth': [4, 5, 6],\n",
    "    'booster': ['gbtree', 'gblinear', 'dart']\n",
    "}\n",
    "\n",
    "xgb_search = RandomizedSearchCV(XGBClassifier(), params, scoring='accuracy')\n",
    "xgb_search.fit(x_train, y_train)"
   ]
  },
  {
   "cell_type": "code",
   "execution_count": 75,
   "id": "426e7f03-6763-4a52-af3b-3acd09df8ae3",
   "metadata": {},
   "outputs": [
    {
     "data": {
      "text/plain": [
       "XGBClassifier(base_score=0.5, booster='gblinear', colsample_bylevel=None,\n",
       "              colsample_bynode=None, colsample_bytree=None, gamma=None,\n",
       "              gpu_id=-1, importance_type='gain', interaction_constraints=None,\n",
       "              learning_rate=0.5, max_delta_step=None, max_depth=4,\n",
       "              min_child_weight=None, missing=nan, monotone_constraints=None,\n",
       "              n_estimators=200, n_jobs=4, num_parallel_tree=None,\n",
       "              objective='multi:softprob', random_state=0, reg_alpha=0,\n",
       "              reg_lambda=0, scale_pos_weight=None, subsample=None,\n",
       "              tree_method=None, validate_parameters=1, verbosity=None)"
      ]
     },
     "execution_count": 75,
     "metadata": {},
     "output_type": "execute_result"
    }
   ],
   "source": [
    "xgb_search.best_estimator_"
   ]
  },
  {
   "cell_type": "code",
   "execution_count": 77,
   "id": "60a3def4-1894-4d50-a0c6-4955829d7812",
   "metadata": {},
   "outputs": [
    {
     "name": "stdout",
     "output_type": "stream",
     "text": [
      "[20:22:40] WARNING: ..\\src\\learner.cc:541: \n",
      "Parameters: { max_depth } might not be used.\n",
      "\n",
      "  This may not be accurate due to some parameters are only used in language bindings but\n",
      "  passed down to XGBoost core.  Or some parameters are not used but slip through this\n",
      "  verification. Please open an issue if you find above cases.\n",
      "\n",
      "\n",
      "[20:22:40] WARNING: ..\\src\\learner.cc:1061: Starting in XGBoost 1.3.0, the default evaluation metric used with the objective 'multi:softprob' was changed from 'merror' to 'mlogloss'. Explicitly set eval_metric if you'd like to restore the old behavior.\n",
      "accuracy:  0.672\n",
      "f1_score:  0.687\n"
     ]
    }
   ],
   "source": [
    "import warnings\n",
    "warnings.filterwarnings(\"ignore\")\n",
    "\n",
    "model3 = XGBClassifier(base_score=0.5, booster='gblinear', colsample_bylevel=None, сolsample_bynode=None, colsample_bytree=None, gamma=None,gpu_id=-1, importance_type='gain', interaction_constraints=None,learning_rate=0.5, max_delta_step=None, max_depth=4,min_child_weight=None, monotone_constraints=None,n_estimators=200, n_jobs=4, num_parallel_tree=None,objective='multi:softprob', random_state=0, reg_alpha=0,reg_lambda=0, scale_pos_weight=None, subsample=None,tree_method=None, validate_parameters=1, verbosity=None)\n",
    "model3.fit(x_train, y_train)\n",
    "y_pred = model3.predict(x_test)\n",
    "accuracy_score(y_pred, y_test)\n",
    "f1_score(y_pred, y_test, average='weighted')\n",
    "print('accuracy: ', round(accuracy_score(y_pred, y_test),3))\n",
    "print('f1_score: ', round(f1_score(y_pred, y_test, average='weighted'),3))"
   ]
  },
  {
   "cell_type": "markdown",
   "id": "6c8c5cbb-bf9a-42f2-a99b-c59ec8d62041",
   "metadata": {},
   "source": [
    "качество возросло, но совсем немного"
   ]
  },
  {
   "cell_type": "markdown",
   "id": "db2c303c-818e-4708-a7c8-ccdffcec1470",
   "metadata": {},
   "source": [
    "**кросс-валидация**"
   ]
  },
  {
   "cell_type": "code",
   "execution_count": 90,
   "id": "592dad85-b3f5-4b69-b507-8a6e9172ac2c",
   "metadata": {
    "collapsed": true,
    "jupyter": {
     "outputs_hidden": true
    },
    "tags": []
   },
   "outputs": [
    {
     "name": "stdout",
     "output_type": "stream",
     "text": [
      "[20:30:29] WARNING: ..\\src\\learner.cc:541: \n",
      "Parameters: { max_depth } might not be used.\n",
      "\n",
      "  This may not be accurate due to some parameters are only used in language bindings but\n",
      "  passed down to XGBoost core.  Or some parameters are not used but slip through this\n",
      "  verification. Please open an issue if you find above cases.\n",
      "\n",
      "\n",
      "[20:30:29] WARNING: ..\\src\\learner.cc:1061: Starting in XGBoost 1.3.0, the default evaluation metric used with the objective 'multi:softprob' was changed from 'merror' to 'mlogloss'. Explicitly set eval_metric if you'd like to restore the old behavior.\n",
      "[20:30:30] WARNING: ..\\src\\learner.cc:541: \n",
      "Parameters: { max_depth } might not be used.\n",
      "\n",
      "  This may not be accurate due to some parameters are only used in language bindings but\n",
      "  passed down to XGBoost core.  Or some parameters are not used but slip through this\n",
      "  verification. Please open an issue if you find above cases.\n",
      "\n",
      "\n",
      "[20:30:30] WARNING: ..\\src\\learner.cc:1061: Starting in XGBoost 1.3.0, the default evaluation metric used with the objective 'multi:softprob' was changed from 'merror' to 'mlogloss'. Explicitly set eval_metric if you'd like to restore the old behavior.\n",
      "[20:30:31] WARNING: ..\\src\\learner.cc:541: \n",
      "Parameters: { max_depth } might not be used.\n",
      "\n",
      "  This may not be accurate due to some parameters are only used in language bindings but\n",
      "  passed down to XGBoost core.  Or some parameters are not used but slip through this\n",
      "  verification. Please open an issue if you find above cases.\n",
      "\n",
      "\n",
      "[20:30:31] WARNING: ..\\src\\learner.cc:1061: Starting in XGBoost 1.3.0, the default evaluation metric used with the objective 'multi:softprob' was changed from 'merror' to 'mlogloss'. Explicitly set eval_metric if you'd like to restore the old behavior.\n",
      "[20:30:31] WARNING: ..\\src\\learner.cc:541: \n",
      "Parameters: { max_depth } might not be used.\n",
      "\n",
      "  This may not be accurate due to some parameters are only used in language bindings but\n",
      "  passed down to XGBoost core.  Or some parameters are not used but slip through this\n",
      "  verification. Please open an issue if you find above cases.\n",
      "\n",
      "\n",
      "[20:30:31] WARNING: ..\\src\\learner.cc:1061: Starting in XGBoost 1.3.0, the default evaluation metric used with the objective 'multi:softprob' was changed from 'merror' to 'mlogloss'. Explicitly set eval_metric if you'd like to restore the old behavior.\n",
      "[20:30:32] WARNING: ..\\src\\learner.cc:541: \n",
      "Parameters: { max_depth } might not be used.\n",
      "\n",
      "  This may not be accurate due to some parameters are only used in language bindings but\n",
      "  passed down to XGBoost core.  Or some parameters are not used but slip through this\n",
      "  verification. Please open an issue if you find above cases.\n",
      "\n",
      "\n",
      "[20:30:32] WARNING: ..\\src\\learner.cc:1061: Starting in XGBoost 1.3.0, the default evaluation metric used with the objective 'multi:softprob' was changed from 'merror' to 'mlogloss'. Explicitly set eval_metric if you'd like to restore the old behavior.\n"
     ]
    }
   ],
   "source": [
    "f1 = f1_score(y_pred, y_test, average='weighted')\n",
    "cr_val_xgb = cross_val_score(model3, x_train, y_train, error_score=f1)"
   ]
  },
  {
   "cell_type": "code",
   "execution_count": 91,
   "id": "0f26eec3-04f1-4ed6-a536-b814766c1f71",
   "metadata": {},
   "outputs": [
    {
     "name": "stdout",
     "output_type": "stream",
     "text": [
      "кросс-валидация на train выборке: [0.70627063 0.63366337 0.68874172 0.62913907 0.64569536]\n",
      "cреднее по кросс-валидации: 0.661\n"
     ]
    }
   ],
   "source": [
    "print('кросс-валидация на train выборке:',cr_val_xgb)\n",
    "print('cреднее по кросс-валидации:', round(cr_val_xgb.mean(),3))"
   ]
  },
  {
   "cell_type": "markdown",
   "id": "c2aaedac-de4b-4ea3-ad95-9661bf42a5cf",
   "metadata": {},
   "source": [
    "на кросс-валидации улучшения нет"
   ]
  }
 ],
 "metadata": {
  "kernelspec": {
   "display_name": "Python 3 (ipykernel)",
   "language": "python",
   "name": "python3"
  },
  "language_info": {
   "codemirror_mode": {
    "name": "ipython",
    "version": 3
   },
   "file_extension": ".py",
   "mimetype": "text/x-python",
   "name": "python",
   "nbconvert_exporter": "python",
   "pygments_lexer": "ipython3",
   "version": "3.8.12"
  }
 },
 "nbformat": 4,
 "nbformat_minor": 5
}
