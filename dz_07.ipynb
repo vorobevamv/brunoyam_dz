{
 "cells": [
  {
   "cell_type": "code",
   "execution_count": 1,
   "id": "1c685655-4e79-4691-aafd-dad83c837dcd",
   "metadata": {},
   "outputs": [],
   "source": [
    "import pandas as pd\n",
    "import numpy as np\n",
    "from sklearn.model_selection import train_test_split\n",
    "from sklearn.linear_model import LinearRegression\n",
    "from sklearn.metrics import accuracy_score, r2_score\n",
    "from sklearn.ensemble import RandomForestClassifier\n",
    "from sklearn.model_selection import cross_val_score\n",
    "from sklearn.linear_model import SGDRegressor\n",
    "from sklearn.model_selection import GridSearchCV, RandomizedSearchCV"
   ]
  },
  {
   "cell_type": "markdown",
   "id": "b5bea086-8ceb-4c9b-af1c-5a1b446f05db",
   "metadata": {
    "tags": []
   },
   "source": [
    "### easy  \n",
    "##### взять один файл с маркой машины\n",
    "##### Построить прогноз, используя модели линейной регрессии и случайного леса. Сравнить результаты, используя кросс-валидацию. Подобрать гиперпараметры моделей (для линейной регрессии можно использовать реализацию с градиентным спуском SGDRegressor). Оценить качество, используя метрику r2_score. Оценить важность признаков (параметр feature_importance_ у случайного леса)."
   ]
  },
  {
   "cell_type": "markdown",
   "id": "eeb491b4-6578-4fbf-82e5-b75c9390258e",
   "metadata": {},
   "source": [
    "открытие файла с данными Ford"
   ]
  },
  {
   "cell_type": "code",
   "execution_count": 2,
   "id": "ffaec325-7a96-45c9-8977-fc10f0f616a8",
   "metadata": {},
   "outputs": [
    {
     "data": {
      "text/html": [
       "<div>\n",
       "<style scoped>\n",
       "    .dataframe tbody tr th:only-of-type {\n",
       "        vertical-align: middle;\n",
       "    }\n",
       "\n",
       "    .dataframe tbody tr th {\n",
       "        vertical-align: top;\n",
       "    }\n",
       "\n",
       "    .dataframe thead th {\n",
       "        text-align: right;\n",
       "    }\n",
       "</style>\n",
       "<table border=\"1\" class=\"dataframe\">\n",
       "  <thead>\n",
       "    <tr style=\"text-align: right;\">\n",
       "      <th></th>\n",
       "      <th>model</th>\n",
       "      <th>year</th>\n",
       "      <th>price</th>\n",
       "      <th>transmission</th>\n",
       "      <th>mileage</th>\n",
       "      <th>fuelType</th>\n",
       "      <th>tax</th>\n",
       "      <th>mpg</th>\n",
       "      <th>engineSize</th>\n",
       "    </tr>\n",
       "  </thead>\n",
       "  <tbody>\n",
       "    <tr>\n",
       "      <th>0</th>\n",
       "      <td>Fiesta</td>\n",
       "      <td>2017</td>\n",
       "      <td>12000</td>\n",
       "      <td>Automatic</td>\n",
       "      <td>15944</td>\n",
       "      <td>Petrol</td>\n",
       "      <td>150</td>\n",
       "      <td>57.7</td>\n",
       "      <td>1.0</td>\n",
       "    </tr>\n",
       "    <tr>\n",
       "      <th>1</th>\n",
       "      <td>Focus</td>\n",
       "      <td>2018</td>\n",
       "      <td>14000</td>\n",
       "      <td>Manual</td>\n",
       "      <td>9083</td>\n",
       "      <td>Petrol</td>\n",
       "      <td>150</td>\n",
       "      <td>57.7</td>\n",
       "      <td>1.0</td>\n",
       "    </tr>\n",
       "    <tr>\n",
       "      <th>2</th>\n",
       "      <td>Focus</td>\n",
       "      <td>2017</td>\n",
       "      <td>13000</td>\n",
       "      <td>Manual</td>\n",
       "      <td>12456</td>\n",
       "      <td>Petrol</td>\n",
       "      <td>150</td>\n",
       "      <td>57.7</td>\n",
       "      <td>1.0</td>\n",
       "    </tr>\n",
       "    <tr>\n",
       "      <th>3</th>\n",
       "      <td>Fiesta</td>\n",
       "      <td>2019</td>\n",
       "      <td>17500</td>\n",
       "      <td>Manual</td>\n",
       "      <td>10460</td>\n",
       "      <td>Petrol</td>\n",
       "      <td>145</td>\n",
       "      <td>40.3</td>\n",
       "      <td>1.5</td>\n",
       "    </tr>\n",
       "    <tr>\n",
       "      <th>4</th>\n",
       "      <td>Fiesta</td>\n",
       "      <td>2019</td>\n",
       "      <td>16500</td>\n",
       "      <td>Automatic</td>\n",
       "      <td>1482</td>\n",
       "      <td>Petrol</td>\n",
       "      <td>145</td>\n",
       "      <td>48.7</td>\n",
       "      <td>1.0</td>\n",
       "    </tr>\n",
       "  </tbody>\n",
       "</table>\n",
       "</div>"
      ],
      "text/plain": [
       "     model  year  price transmission  mileage fuelType  tax   mpg  engineSize\n",
       "0   Fiesta  2017  12000    Automatic    15944   Petrol  150  57.7         1.0\n",
       "1    Focus  2018  14000       Manual     9083   Petrol  150  57.7         1.0\n",
       "2    Focus  2017  13000       Manual    12456   Petrol  150  57.7         1.0\n",
       "3   Fiesta  2019  17500       Manual    10460   Petrol  145  40.3         1.5\n",
       "4   Fiesta  2019  16500    Automatic     1482   Petrol  145  48.7         1.0"
      ]
     },
     "execution_count": 2,
     "metadata": {},
     "output_type": "execute_result"
    }
   ],
   "source": [
    "df_ford = pd.read_csv('avto/ford.csv').dropna()\n",
    "df_ford.head()"
   ]
  },
  {
   "cell_type": "markdown",
   "id": "cb6818f1-9e12-44db-94f3-1d5b994b0de1",
   "metadata": {},
   "source": [
    "определение x и y, обработка категориальных данных"
   ]
  },
  {
   "cell_type": "code",
   "execution_count": 3,
   "id": "6f74040e-920f-4dbd-a915-34d094516401",
   "metadata": {},
   "outputs": [
    {
     "data": {
      "text/html": [
       "<div>\n",
       "<style scoped>\n",
       "    .dataframe tbody tr th:only-of-type {\n",
       "        vertical-align: middle;\n",
       "    }\n",
       "\n",
       "    .dataframe tbody tr th {\n",
       "        vertical-align: top;\n",
       "    }\n",
       "\n",
       "    .dataframe thead th {\n",
       "        text-align: right;\n",
       "    }\n",
       "</style>\n",
       "<table border=\"1\" class=\"dataframe\">\n",
       "  <thead>\n",
       "    <tr style=\"text-align: right;\">\n",
       "      <th></th>\n",
       "      <th>B-MAX</th>\n",
       "      <th>C-MAX</th>\n",
       "      <th>EcoSport</th>\n",
       "      <th>Edge</th>\n",
       "      <th>Escort</th>\n",
       "      <th>Fiesta</th>\n",
       "      <th>Focus</th>\n",
       "      <th>Fusion</th>\n",
       "      <th>Galaxy</th>\n",
       "      <th>Grand C-MAX</th>\n",
       "      <th>...</th>\n",
       "      <th>Semi-Auto</th>\n",
       "      <th>mileage</th>\n",
       "      <th>Diesel</th>\n",
       "      <th>Electric</th>\n",
       "      <th>Hybrid</th>\n",
       "      <th>Other</th>\n",
       "      <th>Petrol</th>\n",
       "      <th>tax</th>\n",
       "      <th>mpg</th>\n",
       "      <th>engineSize</th>\n",
       "    </tr>\n",
       "  </thead>\n",
       "  <tbody>\n",
       "    <tr>\n",
       "      <th>0</th>\n",
       "      <td>0</td>\n",
       "      <td>0</td>\n",
       "      <td>0</td>\n",
       "      <td>0</td>\n",
       "      <td>0</td>\n",
       "      <td>1</td>\n",
       "      <td>0</td>\n",
       "      <td>0</td>\n",
       "      <td>0</td>\n",
       "      <td>0</td>\n",
       "      <td>...</td>\n",
       "      <td>0</td>\n",
       "      <td>15944</td>\n",
       "      <td>0</td>\n",
       "      <td>0</td>\n",
       "      <td>0</td>\n",
       "      <td>0</td>\n",
       "      <td>1</td>\n",
       "      <td>150</td>\n",
       "      <td>57.7</td>\n",
       "      <td>1.0</td>\n",
       "    </tr>\n",
       "    <tr>\n",
       "      <th>1</th>\n",
       "      <td>0</td>\n",
       "      <td>0</td>\n",
       "      <td>0</td>\n",
       "      <td>0</td>\n",
       "      <td>0</td>\n",
       "      <td>0</td>\n",
       "      <td>1</td>\n",
       "      <td>0</td>\n",
       "      <td>0</td>\n",
       "      <td>0</td>\n",
       "      <td>...</td>\n",
       "      <td>0</td>\n",
       "      <td>9083</td>\n",
       "      <td>0</td>\n",
       "      <td>0</td>\n",
       "      <td>0</td>\n",
       "      <td>0</td>\n",
       "      <td>1</td>\n",
       "      <td>150</td>\n",
       "      <td>57.7</td>\n",
       "      <td>1.0</td>\n",
       "    </tr>\n",
       "    <tr>\n",
       "      <th>2</th>\n",
       "      <td>0</td>\n",
       "      <td>0</td>\n",
       "      <td>0</td>\n",
       "      <td>0</td>\n",
       "      <td>0</td>\n",
       "      <td>0</td>\n",
       "      <td>1</td>\n",
       "      <td>0</td>\n",
       "      <td>0</td>\n",
       "      <td>0</td>\n",
       "      <td>...</td>\n",
       "      <td>0</td>\n",
       "      <td>12456</td>\n",
       "      <td>0</td>\n",
       "      <td>0</td>\n",
       "      <td>0</td>\n",
       "      <td>0</td>\n",
       "      <td>1</td>\n",
       "      <td>150</td>\n",
       "      <td>57.7</td>\n",
       "      <td>1.0</td>\n",
       "    </tr>\n",
       "    <tr>\n",
       "      <th>3</th>\n",
       "      <td>0</td>\n",
       "      <td>0</td>\n",
       "      <td>0</td>\n",
       "      <td>0</td>\n",
       "      <td>0</td>\n",
       "      <td>1</td>\n",
       "      <td>0</td>\n",
       "      <td>0</td>\n",
       "      <td>0</td>\n",
       "      <td>0</td>\n",
       "      <td>...</td>\n",
       "      <td>0</td>\n",
       "      <td>10460</td>\n",
       "      <td>0</td>\n",
       "      <td>0</td>\n",
       "      <td>0</td>\n",
       "      <td>0</td>\n",
       "      <td>1</td>\n",
       "      <td>145</td>\n",
       "      <td>40.3</td>\n",
       "      <td>1.5</td>\n",
       "    </tr>\n",
       "    <tr>\n",
       "      <th>4</th>\n",
       "      <td>0</td>\n",
       "      <td>0</td>\n",
       "      <td>0</td>\n",
       "      <td>0</td>\n",
       "      <td>0</td>\n",
       "      <td>1</td>\n",
       "      <td>0</td>\n",
       "      <td>0</td>\n",
       "      <td>0</td>\n",
       "      <td>0</td>\n",
       "      <td>...</td>\n",
       "      <td>0</td>\n",
       "      <td>1482</td>\n",
       "      <td>0</td>\n",
       "      <td>0</td>\n",
       "      <td>0</td>\n",
       "      <td>0</td>\n",
       "      <td>1</td>\n",
       "      <td>145</td>\n",
       "      <td>48.7</td>\n",
       "      <td>1.0</td>\n",
       "    </tr>\n",
       "  </tbody>\n",
       "</table>\n",
       "<p>5 rows × 36 columns</p>\n",
       "</div>"
      ],
      "text/plain": [
       "    B-MAX   C-MAX   EcoSport   Edge   Escort   Fiesta   Focus   Fusion  \\\n",
       "0       0       0          0      0        0        1       0        0   \n",
       "1       0       0          0      0        0        0       1        0   \n",
       "2       0       0          0      0        0        0       1        0   \n",
       "3       0       0          0      0        0        1       0        0   \n",
       "4       0       0          0      0        0        1       0        0   \n",
       "\n",
       "    Galaxy   Grand C-MAX  ...  Semi-Auto  mileage  Diesel  Electric  Hybrid  \\\n",
       "0        0             0  ...          0    15944       0         0       0   \n",
       "1        0             0  ...          0     9083       0         0       0   \n",
       "2        0             0  ...          0    12456       0         0       0   \n",
       "3        0             0  ...          0    10460       0         0       0   \n",
       "4        0             0  ...          0     1482       0         0       0   \n",
       "\n",
       "   Other  Petrol  tax   mpg  engineSize  \n",
       "0      0       1  150  57.7         1.0  \n",
       "1      0       1  150  57.7         1.0  \n",
       "2      0       1  150  57.7         1.0  \n",
       "3      0       1  145  40.3         1.5  \n",
       "4      0       1  145  48.7         1.0  \n",
       "\n",
       "[5 rows x 36 columns]"
      ]
     },
     "execution_count": 3,
     "metadata": {},
     "output_type": "execute_result"
    }
   ],
   "source": [
    "x_ford = pd.concat([\n",
    "    pd.get_dummies(df_ford['model']),\n",
    "    df_ford['year'],\n",
    "    pd.get_dummies(df_ford['transmission']), \n",
    "    df_ford['mileage'], \n",
    "    pd.get_dummies(df_ford['fuelType']), \n",
    "    df_ford['tax'], \n",
    "    df_ford['mpg'], \n",
    "    df_ford['engineSize'] ], axis=1)\n",
    "\n",
    "x_ford.head()"
   ]
  },
  {
   "cell_type": "code",
   "execution_count": 4,
   "id": "75649887-b8cb-4012-8653-ec8d67cf0280",
   "metadata": {},
   "outputs": [
    {
     "data": {
      "text/html": [
       "<div>\n",
       "<style scoped>\n",
       "    .dataframe tbody tr th:only-of-type {\n",
       "        vertical-align: middle;\n",
       "    }\n",
       "\n",
       "    .dataframe tbody tr th {\n",
       "        vertical-align: top;\n",
       "    }\n",
       "\n",
       "    .dataframe thead th {\n",
       "        text-align: right;\n",
       "    }\n",
       "</style>\n",
       "<table border=\"1\" class=\"dataframe\">\n",
       "  <thead>\n",
       "    <tr style=\"text-align: right;\">\n",
       "      <th></th>\n",
       "      <th>price</th>\n",
       "    </tr>\n",
       "  </thead>\n",
       "  <tbody>\n",
       "    <tr>\n",
       "      <th>0</th>\n",
       "      <td>12000</td>\n",
       "    </tr>\n",
       "    <tr>\n",
       "      <th>1</th>\n",
       "      <td>14000</td>\n",
       "    </tr>\n",
       "    <tr>\n",
       "      <th>2</th>\n",
       "      <td>13000</td>\n",
       "    </tr>\n",
       "    <tr>\n",
       "      <th>3</th>\n",
       "      <td>17500</td>\n",
       "    </tr>\n",
       "    <tr>\n",
       "      <th>4</th>\n",
       "      <td>16500</td>\n",
       "    </tr>\n",
       "  </tbody>\n",
       "</table>\n",
       "</div>"
      ],
      "text/plain": [
       "   price\n",
       "0  12000\n",
       "1  14000\n",
       "2  13000\n",
       "3  17500\n",
       "4  16500"
      ]
     },
     "execution_count": 4,
     "metadata": {},
     "output_type": "execute_result"
    }
   ],
   "source": [
    "y_ford = df_ford[['price']]\n",
    "y_ford.head()"
   ]
  },
  {
   "cell_type": "markdown",
   "id": "758a05f5-64f2-4219-aaa6-e849d74e16cb",
   "metadata": {},
   "source": [
    "при определении y_ford = y_ford.values нормально работает LinearRegression(), а RandomForestClassifier() и SGDRegressor() выдают бесконечное количество предупреждений: \"DataConversionWarning: A column-vector y was passed when a 1d array was expected. Please change the shape of y to (n_samples,), for example using ravel().\"  \n",
    "при определении y_ford = y_ford.values.ravel() кривые результаты начинает выдавать LinearRegression()  \n",
    "поэтому будет две части: одна с y_ford = y_ford.values для LinearRegression() и вторая с y_ford = y_ford.values.ravel()"
   ]
  },
  {
   "cell_type": "markdown",
   "id": "29defb48-109d-4e8c-afe5-07d4042e3acc",
   "metadata": {},
   "source": [
    "модель линейной регрессии"
   ]
  },
  {
   "cell_type": "code",
   "execution_count": 5,
   "id": "981f7488-3970-46d3-a757-4f5c0f0a8d83",
   "metadata": {},
   "outputs": [],
   "source": [
    "y_ford = df_ford[['price']].values"
   ]
  },
  {
   "cell_type": "markdown",
   "id": "b1befa95-ab06-4500-96ac-199e52c04c06",
   "metadata": {},
   "source": [
    "разбивка на train и test (80% - 20%)"
   ]
  },
  {
   "cell_type": "code",
   "execution_count": 6,
   "id": "b82c2fcf-ea5d-44c2-a45c-bf831f7a6d32",
   "metadata": {},
   "outputs": [],
   "source": [
    "x_train_ford, x_test_ford, y_train_ford, y_test_ford = train_test_split(x_ford, y_ford, train_size=0.8)"
   ]
  },
  {
   "cell_type": "code",
   "execution_count": 7,
   "id": "1a974952-fefb-4b1c-9020-ebb580101618",
   "metadata": {},
   "outputs": [
    {
     "data": {
      "text/plain": [
       "-0.00027805465603503166"
      ]
     },
     "execution_count": 7,
     "metadata": {},
     "output_type": "execute_result"
    }
   ],
   "source": [
    "model_lr = LinearRegression()\n",
    "model_lr.fit(x_train_ford, y_train_ford)\n",
    "y_pred_lr = model_lr.predict(x_test_ford)\n",
    "r2_score(y_pred_lr, y_test_ford)"
   ]
  },
  {
   "cell_type": "code",
   "execution_count": 8,
   "id": "b0feb2d0-a62c-41f1-bf13-745e99659a0c",
   "metadata": {},
   "outputs": [
    {
     "name": "stdout",
     "output_type": "stream",
     "text": [
      "ЛИНЕЙНАЯ РЕГРЕССИЯ\n",
      "кросс-валидация на train выборке: [-6.29009642e+11  7.93963251e-01  8.57533525e-01 -4.42695718e+11\n",
      "  8.46260571e-01]\n",
      "cреднее по кросс-валидации: -214341072031.53525\n",
      "качество на тестовой выборке: -0.00027805465603503166\n"
     ]
    }
   ],
   "source": [
    "cr_val_lr = cross_val_score(model_lr, x_train_ford, y_train_ford)\n",
    "print('ЛИНЕЙНАЯ РЕГРЕССИЯ')\n",
    "print('кросс-валидация на train выборке:',cr_val_lr)\n",
    "print('cреднее по кросс-валидации:', cr_val_lr.mean())\n",
    "print('качество на тестовой выборке:', r2_score(y_pred_lr, y_test_ford))"
   ]
  },
  {
   "cell_type": "markdown",
   "id": "cc925a60-f36d-47fc-8872-e0d94511a275",
   "metadata": {},
   "source": [
    "модель случайного леса (без указания max_depth вылетает - не хватает памяти)"
   ]
  },
  {
   "cell_type": "code",
   "execution_count": 9,
   "id": "c392c377-28b3-4795-9cc4-667829562160",
   "metadata": {},
   "outputs": [],
   "source": [
    "y_ford = df_ford[['price']].values.ravel()"
   ]
  },
  {
   "cell_type": "code",
   "execution_count": 10,
   "id": "c30a52dd-0e11-467d-b9e4-bf6f242f41e2",
   "metadata": {},
   "outputs": [],
   "source": [
    "x_train_ford, x_test_ford, y_train_ford, y_test_ford = train_test_split(x_ford, y_ford, train_size=0.8)"
   ]
  },
  {
   "cell_type": "code",
   "execution_count": 11,
   "id": "b9795e10-cc38-4a0b-84a2-a20b5d6a0296",
   "metadata": {},
   "outputs": [
    {
     "data": {
      "text/plain": [
       "0.6834828924271061"
      ]
     },
     "execution_count": 11,
     "metadata": {},
     "output_type": "execute_result"
    }
   ],
   "source": [
    "model_rfc = RandomForestClassifier(max_depth=5)\n",
    "model_rfc.fit(x_train_ford, y_train_ford)\n",
    "y_pred_rfc = model_rfc.predict(x_test_ford)\n",
    "r2_score(y_pred_rfc, y_test_ford)"
   ]
  },
  {
   "cell_type": "code",
   "execution_count": 12,
   "id": "20189d60-5bbe-4a21-b59c-cc9d55fdaf6c",
   "metadata": {},
   "outputs": [
    {
     "name": "stderr",
     "output_type": "stream",
     "text": [
      "C:\\Users\\79216\\anaconda3\\envs\\py38\\lib\\site-packages\\sklearn\\model_selection\\_split.py:676: UserWarning: The least populated class in y has only 1 members, which is less than n_splits=5.\n",
      "  warnings.warn(\n"
     ]
    },
    {
     "name": "stdout",
     "output_type": "stream",
     "text": [
      "СЛУЧАЙНЫЙ ЛЕС\n",
      "кросс-валидация на train выборке: [0.02191304 0.02991304 0.02540014 0.0302714  0.02574809]\n",
      "cреднее по кросс-валидации: 0.02664914223472815\n",
      "качество на тестовой выборке: 0.6834828924271061\n"
     ]
    }
   ],
   "source": [
    "r2=r2_score(y_pred_rfc, y_test_ford)\n",
    "cr_val_rfc = cross_val_score(model_rfc, x_train_ford, y_train_ford, error_score=r2)\n",
    "print('СЛУЧАЙНЫЙ ЛЕС')\n",
    "print('кросс-валидация на train выборке:',cr_val_rfc)\n",
    "print('cреднее по кросс-валидации:', cr_val_rfc.mean())\n",
    "print('качество на тестовой выборке:', r2_score(y_pred_rfc, y_test_ford))"
   ]
  },
  {
   "cell_type": "markdown",
   "id": "09cdc504-7987-475a-9600-a6cfe65001b3",
   "metadata": {},
   "source": [
    "SGDRegressor"
   ]
  },
  {
   "cell_type": "code",
   "execution_count": 13,
   "id": "8f7672dd-f6c9-491f-aeb4-e7d239384714",
   "metadata": {},
   "outputs": [
    {
     "data": {
      "text/plain": [
       "-1.1955888327866329"
      ]
     },
     "execution_count": 13,
     "metadata": {},
     "output_type": "execute_result"
    }
   ],
   "source": [
    "model_sgdr = SGDRegressor()\n",
    "model_sgdr.fit(x_train_ford, y_train_ford)\n",
    "y_pred_sgdr = model_sgdr.predict(x_test_ford)\n",
    "r2_score(y_pred_sgdr, y_test_ford)"
   ]
  },
  {
   "cell_type": "markdown",
   "id": "a7055e74-d158-4e13-957c-63ad2a6f56ec",
   "metadata": {},
   "source": [
    "подбор гиперпараметров"
   ]
  },
  {
   "cell_type": "code",
   "execution_count": 14,
   "id": "3854d8b5-8a58-4b79-89c0-afe4eeb00e0c",
   "metadata": {},
   "outputs": [
    {
     "name": "stderr",
     "output_type": "stream",
     "text": [
      "C:\\Users\\79216\\anaconda3\\envs\\py38\\lib\\site-packages\\sklearn\\linear_model\\_stochastic_gradient.py:1503: ConvergenceWarning: Maximum number of iteration reached before convergence. Consider increasing max_iter to improve the fit.\n",
      "  warnings.warn(\n",
      "C:\\Users\\79216\\anaconda3\\envs\\py38\\lib\\site-packages\\sklearn\\linear_model\\_stochastic_gradient.py:1503: ConvergenceWarning: Maximum number of iteration reached before convergence. Consider increasing max_iter to improve the fit.\n",
      "  warnings.warn(\n",
      "C:\\Users\\79216\\anaconda3\\envs\\py38\\lib\\site-packages\\sklearn\\linear_model\\_stochastic_gradient.py:1503: ConvergenceWarning: Maximum number of iteration reached before convergence. Consider increasing max_iter to improve the fit.\n",
      "  warnings.warn(\n"
     ]
    },
    {
     "data": {
      "text/plain": [
       "SGDRegressor(alpha=0.1, max_iter=100, penalty='l1')"
      ]
     },
     "execution_count": 14,
     "metadata": {},
     "output_type": "execute_result"
    }
   ],
   "source": [
    "params = {\n",
    "    'penalty': ['l1', 'l2', 'elasticnet'],\n",
    "    'alpha': [0.0001, 0.0005, 0.1],\n",
    "    'max_iter': [100, 500, 1000]\n",
    "}\n",
    "\n",
    "sgdr_search = RandomizedSearchCV(SGDRegressor(), params)\n",
    "sgdr_search.fit(x_train_ford, y_train_ford)\n",
    "sgdr_search.best_estimator_"
   ]
  },
  {
   "cell_type": "code",
   "execution_count": 15,
   "id": "732a31dd-9ac5-4daf-b788-bad7ac687642",
   "metadata": {},
   "outputs": [
    {
     "name": "stderr",
     "output_type": "stream",
     "text": [
      "C:\\Users\\79216\\anaconda3\\envs\\py38\\lib\\site-packages\\sklearn\\model_selection\\_search.py:292: UserWarning: The total space of parameters 9 is smaller than n_iter=10. Running 9 iterations. For exhaustive searches, use GridSearchCV.\n",
      "  warnings.warn(\n",
      "C:\\Users\\79216\\anaconda3\\envs\\py38\\lib\\site-packages\\sklearn\\model_selection\\_split.py:676: UserWarning: The least populated class in y has only 1 members, which is less than n_splits=5.\n",
      "  warnings.warn(\n"
     ]
    },
    {
     "data": {
      "text/plain": [
       "RandomForestClassifier(max_depth=5)"
      ]
     },
     "execution_count": 15,
     "metadata": {},
     "output_type": "execute_result"
    }
   ],
   "source": [
    "#!!!!!\n",
    "params = {\n",
    "    'max_depth': [3, 4, 5],\n",
    "    'n_estimators': [50, 100, 200],\n",
    "}\n",
    "\n",
    "rfc_search = RandomizedSearchCV(RandomForestClassifier(), params)\n",
    "rfc_search.fit(x_train_ford, y_train_ford)\n",
    "rfc_search.best_estimator_"
   ]
  },
  {
   "cell_type": "markdown",
   "id": "4bdf7726-d290-469e-b640-5ed0a96ca924",
   "metadata": {},
   "source": [
    "оценка важности признаков"
   ]
  },
  {
   "cell_type": "code",
   "execution_count": 16,
   "id": "f6f2b142-bc01-4635-a449-f50b298a8ebe",
   "metadata": {},
   "outputs": [
    {
     "data": {
      "text/plain": [
       "array([0.00407354, 0.00874137, 0.00797129, 0.0036452 , 0.00066525,\n",
       "       0.03348074, 0.01814589, 0.00142533, 0.00638403, 0.00607111,\n",
       "       0.00479408, 0.00646057, 0.02029018, 0.03046129, 0.02447486,\n",
       "       0.00181632, 0.00584318, 0.00035153, 0.0057274 , 0.00032693,\n",
       "       0.00296698, 0.00414156, 0.        , 0.17241115, 0.02122525,\n",
       "       0.02434794, 0.01628875, 0.18533113, 0.02898467, 0.00137282,\n",
       "       0.00458447, 0.00151808, 0.02949934, 0.1032947 , 0.11371314,\n",
       "       0.09916995])"
      ]
     },
     "execution_count": 16,
     "metadata": {},
     "output_type": "execute_result"
    }
   ],
   "source": [
    "model_rfc.feature_importances_"
   ]
  },
  {
   "cell_type": "code",
   "execution_count": 17,
   "id": "b03d9af1-b138-4f16-85e2-8b4e65cb3703",
   "metadata": {},
   "outputs": [
    {
     "name": "stdout",
     "output_type": "stream",
     "text": [
      "наибольшая значимость признака:  0.18533112592016085\n",
      "номер столбца с наиболее значимым признаком 27\n"
     ]
    }
   ],
   "source": [
    "print('наибольшая значимость признака: ', model_rfc.feature_importances_.max())\n",
    "print('номер столбца с наиболее значимым признаком', np.argmax(model_rfc.feature_importances_))"
   ]
  },
  {
   "cell_type": "code",
   "execution_count": 18,
   "id": "90ffcd7b-431c-461b-ad41-ef11e61e79c8",
   "metadata": {},
   "outputs": [
    {
     "data": {
      "text/plain": [
       "Series([], Name: year, dtype: int64)"
      ]
     },
     "execution_count": 18,
     "metadata": {},
     "output_type": "execute_result"
    }
   ],
   "source": [
    "x_ford = pd.concat([\n",
    "    pd.get_dummies(df_ford['model']),\n",
    "    df_ford['year'],\n",
    "    pd.get_dummies(df_ford['transmission']), \n",
    "    df_ford['mileage'], \n",
    "    pd.get_dummies(df_ford['fuelType']), \n",
    "    df_ford['tax'], \n",
    "    df_ford['mpg'], \n",
    "    df_ford['engineSize'] ], axis=1)\n",
    "\n",
    "x_ford.iloc[:0,23]"
   ]
  },
  {
   "cell_type": "markdown",
   "id": "88675e05-1a49-4fad-8982-901519a1a6f2",
   "metadata": {},
   "source": [
    "получается, самый важный признак - **год выпуска**"
   ]
  },
  {
   "cell_type": "markdown",
   "id": "937751f4-038b-4ffc-a296-c35fc096e912",
   "metadata": {},
   "source": [
    "### normal  \n",
    "##### объединить в один датафрейм данные по всем маркам машин; преобразовать категориальные признаки\n",
    "##### построить еще несколько моделей, используя подбор гиперпараметров; сравнить между собой все построенные модели"
   ]
  },
  {
   "cell_type": "markdown",
   "id": "3bb8f3cf-4c55-472c-8864-854276e7749f",
   "metadata": {},
   "source": [
    "объединение в один датафрейм данных по всем маркам машин (кроме unclean cclass и unclean focus - насколько понимаю, это предварительные версии уже существующих файлов)"
   ]
  },
  {
   "cell_type": "code",
   "execution_count": 19,
   "id": "cfa196fb-e2ae-48b9-a7ae-83a2ac50693d",
   "metadata": {},
   "outputs": [],
   "source": [
    "import glob\n",
    "import os"
   ]
  },
  {
   "cell_type": "code",
   "execution_count": 20,
   "id": "80e5d284-24ed-4726-88af-398ca481cad8",
   "metadata": {},
   "outputs": [
    {
     "data": {
      "text/html": [
       "<div>\n",
       "<style scoped>\n",
       "    .dataframe tbody tr th:only-of-type {\n",
       "        vertical-align: middle;\n",
       "    }\n",
       "\n",
       "    .dataframe tbody tr th {\n",
       "        vertical-align: top;\n",
       "    }\n",
       "\n",
       "    .dataframe thead th {\n",
       "        text-align: right;\n",
       "    }\n",
       "</style>\n",
       "<table border=\"1\" class=\"dataframe\">\n",
       "  <thead>\n",
       "    <tr style=\"text-align: right;\">\n",
       "      <th></th>\n",
       "      <th>model</th>\n",
       "      <th>year</th>\n",
       "      <th>price</th>\n",
       "      <th>transmission</th>\n",
       "      <th>mileage</th>\n",
       "      <th>fuelType</th>\n",
       "      <th>tax</th>\n",
       "      <th>mpg</th>\n",
       "      <th>engineSize</th>\n",
       "      <th>tax(£)</th>\n",
       "    </tr>\n",
       "  </thead>\n",
       "  <tbody>\n",
       "    <tr>\n",
       "      <th>0</th>\n",
       "      <td>A1</td>\n",
       "      <td>2017</td>\n",
       "      <td>12500</td>\n",
       "      <td>Manual</td>\n",
       "      <td>15735</td>\n",
       "      <td>Petrol</td>\n",
       "      <td>150.0</td>\n",
       "      <td>55.4</td>\n",
       "      <td>1.4</td>\n",
       "      <td>NaN</td>\n",
       "    </tr>\n",
       "    <tr>\n",
       "      <th>1</th>\n",
       "      <td>A6</td>\n",
       "      <td>2016</td>\n",
       "      <td>16500</td>\n",
       "      <td>Automatic</td>\n",
       "      <td>36203</td>\n",
       "      <td>Diesel</td>\n",
       "      <td>20.0</td>\n",
       "      <td>64.2</td>\n",
       "      <td>2.0</td>\n",
       "      <td>NaN</td>\n",
       "    </tr>\n",
       "    <tr>\n",
       "      <th>2</th>\n",
       "      <td>A1</td>\n",
       "      <td>2016</td>\n",
       "      <td>11000</td>\n",
       "      <td>Manual</td>\n",
       "      <td>29946</td>\n",
       "      <td>Petrol</td>\n",
       "      <td>30.0</td>\n",
       "      <td>55.4</td>\n",
       "      <td>1.4</td>\n",
       "      <td>NaN</td>\n",
       "    </tr>\n",
       "    <tr>\n",
       "      <th>3</th>\n",
       "      <td>A4</td>\n",
       "      <td>2017</td>\n",
       "      <td>16800</td>\n",
       "      <td>Automatic</td>\n",
       "      <td>25952</td>\n",
       "      <td>Diesel</td>\n",
       "      <td>145.0</td>\n",
       "      <td>67.3</td>\n",
       "      <td>2.0</td>\n",
       "      <td>NaN</td>\n",
       "    </tr>\n",
       "    <tr>\n",
       "      <th>4</th>\n",
       "      <td>A3</td>\n",
       "      <td>2019</td>\n",
       "      <td>17300</td>\n",
       "      <td>Manual</td>\n",
       "      <td>1998</td>\n",
       "      <td>Petrol</td>\n",
       "      <td>145.0</td>\n",
       "      <td>49.6</td>\n",
       "      <td>1.0</td>\n",
       "      <td>NaN</td>\n",
       "    </tr>\n",
       "    <tr>\n",
       "      <th>...</th>\n",
       "      <td>...</td>\n",
       "      <td>...</td>\n",
       "      <td>...</td>\n",
       "      <td>...</td>\n",
       "      <td>...</td>\n",
       "      <td>...</td>\n",
       "      <td>...</td>\n",
       "      <td>...</td>\n",
       "      <td>...</td>\n",
       "      <td>...</td>\n",
       "    </tr>\n",
       "    <tr>\n",
       "      <th>108535</th>\n",
       "      <td>Eos</td>\n",
       "      <td>2012</td>\n",
       "      <td>5990</td>\n",
       "      <td>Manual</td>\n",
       "      <td>74000</td>\n",
       "      <td>Diesel</td>\n",
       "      <td>125.0</td>\n",
       "      <td>58.9</td>\n",
       "      <td>2.0</td>\n",
       "      <td>NaN</td>\n",
       "    </tr>\n",
       "    <tr>\n",
       "      <th>108536</th>\n",
       "      <td>Fox</td>\n",
       "      <td>2008</td>\n",
       "      <td>1799</td>\n",
       "      <td>Manual</td>\n",
       "      <td>88102</td>\n",
       "      <td>Petrol</td>\n",
       "      <td>145.0</td>\n",
       "      <td>46.3</td>\n",
       "      <td>1.2</td>\n",
       "      <td>NaN</td>\n",
       "    </tr>\n",
       "    <tr>\n",
       "      <th>108537</th>\n",
       "      <td>Fox</td>\n",
       "      <td>2009</td>\n",
       "      <td>1590</td>\n",
       "      <td>Manual</td>\n",
       "      <td>70000</td>\n",
       "      <td>Petrol</td>\n",
       "      <td>200.0</td>\n",
       "      <td>42.0</td>\n",
       "      <td>1.4</td>\n",
       "      <td>NaN</td>\n",
       "    </tr>\n",
       "    <tr>\n",
       "      <th>108538</th>\n",
       "      <td>Fox</td>\n",
       "      <td>2006</td>\n",
       "      <td>1250</td>\n",
       "      <td>Manual</td>\n",
       "      <td>82704</td>\n",
       "      <td>Petrol</td>\n",
       "      <td>150.0</td>\n",
       "      <td>46.3</td>\n",
       "      <td>1.2</td>\n",
       "      <td>NaN</td>\n",
       "    </tr>\n",
       "    <tr>\n",
       "      <th>108539</th>\n",
       "      <td>Fox</td>\n",
       "      <td>2007</td>\n",
       "      <td>2295</td>\n",
       "      <td>Manual</td>\n",
       "      <td>74000</td>\n",
       "      <td>Petrol</td>\n",
       "      <td>145.0</td>\n",
       "      <td>46.3</td>\n",
       "      <td>1.2</td>\n",
       "      <td>NaN</td>\n",
       "    </tr>\n",
       "  </tbody>\n",
       "</table>\n",
       "<p>108540 rows × 10 columns</p>\n",
       "</div>"
      ],
      "text/plain": [
       "       model  year  price transmission  mileage fuelType    tax   mpg  \\\n",
       "0         A1  2017  12500       Manual    15735   Petrol  150.0  55.4   \n",
       "1         A6  2016  16500    Automatic    36203   Diesel   20.0  64.2   \n",
       "2         A1  2016  11000       Manual    29946   Petrol   30.0  55.4   \n",
       "3         A4  2017  16800    Automatic    25952   Diesel  145.0  67.3   \n",
       "4         A3  2019  17300       Manual     1998   Petrol  145.0  49.6   \n",
       "...      ...   ...    ...          ...      ...      ...    ...   ...   \n",
       "108535   Eos  2012   5990       Manual    74000   Diesel  125.0  58.9   \n",
       "108536   Fox  2008   1799       Manual    88102   Petrol  145.0  46.3   \n",
       "108537   Fox  2009   1590       Manual    70000   Petrol  200.0  42.0   \n",
       "108538   Fox  2006   1250       Manual    82704   Petrol  150.0  46.3   \n",
       "108539   Fox  2007   2295       Manual    74000   Petrol  145.0  46.3   \n",
       "\n",
       "        engineSize  tax(£)  \n",
       "0              1.4     NaN  \n",
       "1              2.0     NaN  \n",
       "2              1.4     NaN  \n",
       "3              2.0     NaN  \n",
       "4              1.0     NaN  \n",
       "...            ...     ...  \n",
       "108535         2.0     NaN  \n",
       "108536         1.2     NaN  \n",
       "108537         1.4     NaN  \n",
       "108538         1.2     NaN  \n",
       "108539         1.2     NaN  \n",
       "\n",
       "[108540 rows x 10 columns]"
      ]
     },
     "execution_count": 20,
     "metadata": {},
     "output_type": "execute_result"
    }
   ],
   "source": [
    "mycsvdir = 'avto'\n",
    "csvfiles = glob.glob(os.path.join(mycsvdir, '*.csv'))\n",
    "\n",
    "dataframes = []\n",
    "for csvfile in csvfiles:\n",
    "    df = pd.read_csv(csvfile)\n",
    "    dataframes.append(df)\n",
    "\n",
    "df_all = pd.concat(dataframes, ignore_index=True)\n",
    "df_all"
   ]
  },
  {
   "cell_type": "markdown",
   "id": "aff76562-0478-4574-baa4-8b5d9aec0ca7",
   "metadata": {},
   "source": [
    "удаление строк с пропущенными данными, преобразование категориальных признаков; столбец \"tax(£)\" пустой, можно удалить; определение x и y"
   ]
  },
  {
   "cell_type": "code",
   "execution_count": 21,
   "id": "12884883-2209-4de7-8489-5b31fa08ddd3",
   "metadata": {},
   "outputs": [
    {
     "data": {
      "text/html": [
       "<div>\n",
       "<style scoped>\n",
       "    .dataframe tbody tr th:only-of-type {\n",
       "        vertical-align: middle;\n",
       "    }\n",
       "\n",
       "    .dataframe tbody tr th {\n",
       "        vertical-align: top;\n",
       "    }\n",
       "\n",
       "    .dataframe thead th {\n",
       "        text-align: right;\n",
       "    }\n",
       "</style>\n",
       "<table border=\"1\" class=\"dataframe\">\n",
       "  <thead>\n",
       "    <tr style=\"text-align: right;\">\n",
       "      <th></th>\n",
       "      <th>model</th>\n",
       "      <th>year</th>\n",
       "      <th>price</th>\n",
       "      <th>transmission</th>\n",
       "      <th>mileage</th>\n",
       "      <th>fuelType</th>\n",
       "      <th>tax</th>\n",
       "      <th>mpg</th>\n",
       "      <th>engineSize</th>\n",
       "    </tr>\n",
       "  </thead>\n",
       "  <tbody>\n",
       "    <tr>\n",
       "      <th>0</th>\n",
       "      <td>A1</td>\n",
       "      <td>2017</td>\n",
       "      <td>12500</td>\n",
       "      <td>Manual</td>\n",
       "      <td>15735</td>\n",
       "      <td>Petrol</td>\n",
       "      <td>150.0</td>\n",
       "      <td>55.4</td>\n",
       "      <td>1.4</td>\n",
       "    </tr>\n",
       "    <tr>\n",
       "      <th>1</th>\n",
       "      <td>A6</td>\n",
       "      <td>2016</td>\n",
       "      <td>16500</td>\n",
       "      <td>Automatic</td>\n",
       "      <td>36203</td>\n",
       "      <td>Diesel</td>\n",
       "      <td>20.0</td>\n",
       "      <td>64.2</td>\n",
       "      <td>2.0</td>\n",
       "    </tr>\n",
       "    <tr>\n",
       "      <th>2</th>\n",
       "      <td>A1</td>\n",
       "      <td>2016</td>\n",
       "      <td>11000</td>\n",
       "      <td>Manual</td>\n",
       "      <td>29946</td>\n",
       "      <td>Petrol</td>\n",
       "      <td>30.0</td>\n",
       "      <td>55.4</td>\n",
       "      <td>1.4</td>\n",
       "    </tr>\n",
       "    <tr>\n",
       "      <th>3</th>\n",
       "      <td>A4</td>\n",
       "      <td>2017</td>\n",
       "      <td>16800</td>\n",
       "      <td>Automatic</td>\n",
       "      <td>25952</td>\n",
       "      <td>Diesel</td>\n",
       "      <td>145.0</td>\n",
       "      <td>67.3</td>\n",
       "      <td>2.0</td>\n",
       "    </tr>\n",
       "    <tr>\n",
       "      <th>4</th>\n",
       "      <td>A3</td>\n",
       "      <td>2019</td>\n",
       "      <td>17300</td>\n",
       "      <td>Manual</td>\n",
       "      <td>1998</td>\n",
       "      <td>Petrol</td>\n",
       "      <td>145.0</td>\n",
       "      <td>49.6</td>\n",
       "      <td>1.0</td>\n",
       "    </tr>\n",
       "    <tr>\n",
       "      <th>...</th>\n",
       "      <td>...</td>\n",
       "      <td>...</td>\n",
       "      <td>...</td>\n",
       "      <td>...</td>\n",
       "      <td>...</td>\n",
       "      <td>...</td>\n",
       "      <td>...</td>\n",
       "      <td>...</td>\n",
       "      <td>...</td>\n",
       "    </tr>\n",
       "    <tr>\n",
       "      <th>108535</th>\n",
       "      <td>Eos</td>\n",
       "      <td>2012</td>\n",
       "      <td>5990</td>\n",
       "      <td>Manual</td>\n",
       "      <td>74000</td>\n",
       "      <td>Diesel</td>\n",
       "      <td>125.0</td>\n",
       "      <td>58.9</td>\n",
       "      <td>2.0</td>\n",
       "    </tr>\n",
       "    <tr>\n",
       "      <th>108536</th>\n",
       "      <td>Fox</td>\n",
       "      <td>2008</td>\n",
       "      <td>1799</td>\n",
       "      <td>Manual</td>\n",
       "      <td>88102</td>\n",
       "      <td>Petrol</td>\n",
       "      <td>145.0</td>\n",
       "      <td>46.3</td>\n",
       "      <td>1.2</td>\n",
       "    </tr>\n",
       "    <tr>\n",
       "      <th>108537</th>\n",
       "      <td>Fox</td>\n",
       "      <td>2009</td>\n",
       "      <td>1590</td>\n",
       "      <td>Manual</td>\n",
       "      <td>70000</td>\n",
       "      <td>Petrol</td>\n",
       "      <td>200.0</td>\n",
       "      <td>42.0</td>\n",
       "      <td>1.4</td>\n",
       "    </tr>\n",
       "    <tr>\n",
       "      <th>108538</th>\n",
       "      <td>Fox</td>\n",
       "      <td>2006</td>\n",
       "      <td>1250</td>\n",
       "      <td>Manual</td>\n",
       "      <td>82704</td>\n",
       "      <td>Petrol</td>\n",
       "      <td>150.0</td>\n",
       "      <td>46.3</td>\n",
       "      <td>1.2</td>\n",
       "    </tr>\n",
       "    <tr>\n",
       "      <th>108539</th>\n",
       "      <td>Fox</td>\n",
       "      <td>2007</td>\n",
       "      <td>2295</td>\n",
       "      <td>Manual</td>\n",
       "      <td>74000</td>\n",
       "      <td>Petrol</td>\n",
       "      <td>145.0</td>\n",
       "      <td>46.3</td>\n",
       "      <td>1.2</td>\n",
       "    </tr>\n",
       "  </tbody>\n",
       "</table>\n",
       "<p>94327 rows × 9 columns</p>\n",
       "</div>"
      ],
      "text/plain": [
       "       model  year  price transmission  mileage fuelType    tax   mpg  \\\n",
       "0         A1  2017  12500       Manual    15735   Petrol  150.0  55.4   \n",
       "1         A6  2016  16500    Automatic    36203   Diesel   20.0  64.2   \n",
       "2         A1  2016  11000       Manual    29946   Petrol   30.0  55.4   \n",
       "3         A4  2017  16800    Automatic    25952   Diesel  145.0  67.3   \n",
       "4         A3  2019  17300       Manual     1998   Petrol  145.0  49.6   \n",
       "...      ...   ...    ...          ...      ...      ...    ...   ...   \n",
       "108535   Eos  2012   5990       Manual    74000   Diesel  125.0  58.9   \n",
       "108536   Fox  2008   1799       Manual    88102   Petrol  145.0  46.3   \n",
       "108537   Fox  2009   1590       Manual    70000   Petrol  200.0  42.0   \n",
       "108538   Fox  2006   1250       Manual    82704   Petrol  150.0  46.3   \n",
       "108539   Fox  2007   2295       Manual    74000   Petrol  145.0  46.3   \n",
       "\n",
       "        engineSize  \n",
       "0              1.4  \n",
       "1              2.0  \n",
       "2              1.4  \n",
       "3              2.0  \n",
       "4              1.0  \n",
       "...            ...  \n",
       "108535         2.0  \n",
       "108536         1.2  \n",
       "108537         1.4  \n",
       "108538         1.2  \n",
       "108539         1.2  \n",
       "\n",
       "[94327 rows x 9 columns]"
      ]
     },
     "execution_count": 21,
     "metadata": {},
     "output_type": "execute_result"
    }
   ],
   "source": [
    "df_all = df_all.drop(columns=['tax(£)']).dropna()\n",
    "df_all"
   ]
  },
  {
   "cell_type": "code",
   "execution_count": 22,
   "id": "2024b36b-6262-4f27-85c0-edf8bbd1168d",
   "metadata": {},
   "outputs": [
    {
     "data": {
      "text/html": [
       "<div>\n",
       "<style scoped>\n",
       "    .dataframe tbody tr th:only-of-type {\n",
       "        vertical-align: middle;\n",
       "    }\n",
       "\n",
       "    .dataframe tbody tr th {\n",
       "        vertical-align: top;\n",
       "    }\n",
       "\n",
       "    .dataframe thead th {\n",
       "        text-align: right;\n",
       "    }\n",
       "</style>\n",
       "<table border=\"1\" class=\"dataframe\">\n",
       "  <thead>\n",
       "    <tr style=\"text-align: right;\">\n",
       "      <th></th>\n",
       "      <th>1 Series</th>\n",
       "      <th>2 Series</th>\n",
       "      <th>3 Series</th>\n",
       "      <th>4 Series</th>\n",
       "      <th>5 Series</th>\n",
       "      <th>6 Series</th>\n",
       "      <th>7 Series</th>\n",
       "      <th>8 Series</th>\n",
       "      <th>A Class</th>\n",
       "      <th>A1</th>\n",
       "      <th>...</th>\n",
       "      <th>Semi-Auto</th>\n",
       "      <th>mileage</th>\n",
       "      <th>Diesel</th>\n",
       "      <th>Electric</th>\n",
       "      <th>Hybrid</th>\n",
       "      <th>Other</th>\n",
       "      <th>Petrol</th>\n",
       "      <th>tax</th>\n",
       "      <th>mpg</th>\n",
       "      <th>engineSize</th>\n",
       "    </tr>\n",
       "  </thead>\n",
       "  <tbody>\n",
       "    <tr>\n",
       "      <th>0</th>\n",
       "      <td>0</td>\n",
       "      <td>0</td>\n",
       "      <td>0</td>\n",
       "      <td>0</td>\n",
       "      <td>0</td>\n",
       "      <td>0</td>\n",
       "      <td>0</td>\n",
       "      <td>0</td>\n",
       "      <td>0</td>\n",
       "      <td>1</td>\n",
       "      <td>...</td>\n",
       "      <td>0</td>\n",
       "      <td>15735</td>\n",
       "      <td>0</td>\n",
       "      <td>0</td>\n",
       "      <td>0</td>\n",
       "      <td>0</td>\n",
       "      <td>1</td>\n",
       "      <td>150.0</td>\n",
       "      <td>55.4</td>\n",
       "      <td>1.4</td>\n",
       "    </tr>\n",
       "    <tr>\n",
       "      <th>1</th>\n",
       "      <td>0</td>\n",
       "      <td>0</td>\n",
       "      <td>0</td>\n",
       "      <td>0</td>\n",
       "      <td>0</td>\n",
       "      <td>0</td>\n",
       "      <td>0</td>\n",
       "      <td>0</td>\n",
       "      <td>0</td>\n",
       "      <td>0</td>\n",
       "      <td>...</td>\n",
       "      <td>0</td>\n",
       "      <td>36203</td>\n",
       "      <td>1</td>\n",
       "      <td>0</td>\n",
       "      <td>0</td>\n",
       "      <td>0</td>\n",
       "      <td>0</td>\n",
       "      <td>20.0</td>\n",
       "      <td>64.2</td>\n",
       "      <td>2.0</td>\n",
       "    </tr>\n",
       "    <tr>\n",
       "      <th>2</th>\n",
       "      <td>0</td>\n",
       "      <td>0</td>\n",
       "      <td>0</td>\n",
       "      <td>0</td>\n",
       "      <td>0</td>\n",
       "      <td>0</td>\n",
       "      <td>0</td>\n",
       "      <td>0</td>\n",
       "      <td>0</td>\n",
       "      <td>1</td>\n",
       "      <td>...</td>\n",
       "      <td>0</td>\n",
       "      <td>29946</td>\n",
       "      <td>0</td>\n",
       "      <td>0</td>\n",
       "      <td>0</td>\n",
       "      <td>0</td>\n",
       "      <td>1</td>\n",
       "      <td>30.0</td>\n",
       "      <td>55.4</td>\n",
       "      <td>1.4</td>\n",
       "    </tr>\n",
       "    <tr>\n",
       "      <th>3</th>\n",
       "      <td>0</td>\n",
       "      <td>0</td>\n",
       "      <td>0</td>\n",
       "      <td>0</td>\n",
       "      <td>0</td>\n",
       "      <td>0</td>\n",
       "      <td>0</td>\n",
       "      <td>0</td>\n",
       "      <td>0</td>\n",
       "      <td>0</td>\n",
       "      <td>...</td>\n",
       "      <td>0</td>\n",
       "      <td>25952</td>\n",
       "      <td>1</td>\n",
       "      <td>0</td>\n",
       "      <td>0</td>\n",
       "      <td>0</td>\n",
       "      <td>0</td>\n",
       "      <td>145.0</td>\n",
       "      <td>67.3</td>\n",
       "      <td>2.0</td>\n",
       "    </tr>\n",
       "    <tr>\n",
       "      <th>4</th>\n",
       "      <td>0</td>\n",
       "      <td>0</td>\n",
       "      <td>0</td>\n",
       "      <td>0</td>\n",
       "      <td>0</td>\n",
       "      <td>0</td>\n",
       "      <td>0</td>\n",
       "      <td>0</td>\n",
       "      <td>0</td>\n",
       "      <td>0</td>\n",
       "      <td>...</td>\n",
       "      <td>0</td>\n",
       "      <td>1998</td>\n",
       "      <td>0</td>\n",
       "      <td>0</td>\n",
       "      <td>0</td>\n",
       "      <td>0</td>\n",
       "      <td>1</td>\n",
       "      <td>145.0</td>\n",
       "      <td>49.6</td>\n",
       "      <td>1.0</td>\n",
       "    </tr>\n",
       "  </tbody>\n",
       "</table>\n",
       "<p>5 rows × 193 columns</p>\n",
       "</div>"
      ],
      "text/plain": [
       "    1 Series   2 Series   3 Series   4 Series   5 Series   6 Series  \\\n",
       "0          0          0          0          0          0          0   \n",
       "1          0          0          0          0          0          0   \n",
       "2          0          0          0          0          0          0   \n",
       "3          0          0          0          0          0          0   \n",
       "4          0          0          0          0          0          0   \n",
       "\n",
       "    7 Series   8 Series   A Class   A1  ...  Semi-Auto  mileage  Diesel  \\\n",
       "0          0          0         0    1  ...          0    15735       0   \n",
       "1          0          0         0    0  ...          0    36203       1   \n",
       "2          0          0         0    1  ...          0    29946       0   \n",
       "3          0          0         0    0  ...          0    25952       1   \n",
       "4          0          0         0    0  ...          0     1998       0   \n",
       "\n",
       "   Electric  Hybrid  Other  Petrol    tax   mpg  engineSize  \n",
       "0         0       0      0       1  150.0  55.4         1.4  \n",
       "1         0       0      0       0   20.0  64.2         2.0  \n",
       "2         0       0      0       1   30.0  55.4         1.4  \n",
       "3         0       0      0       0  145.0  67.3         2.0  \n",
       "4         0       0      0       1  145.0  49.6         1.0  \n",
       "\n",
       "[5 rows x 193 columns]"
      ]
     },
     "execution_count": 22,
     "metadata": {},
     "output_type": "execute_result"
    }
   ],
   "source": [
    "x_all = pd.concat([\n",
    "    pd.get_dummies(df_all['model']),\n",
    "    df_all['year'],\n",
    "    pd.get_dummies(df_all['transmission']), \n",
    "    df_all['mileage'], \n",
    "    pd.get_dummies(df_all['fuelType']), \n",
    "    df_all['tax'], \n",
    "    df_all['mpg'], \n",
    "    df_all['engineSize'] ], axis=1)\n",
    "x_all.head()"
   ]
  },
  {
   "cell_type": "code",
   "execution_count": 23,
   "id": "d74a5aae-3532-481e-8b87-22277cbc6e1f",
   "metadata": {},
   "outputs": [],
   "source": [
    "x_all = x_all.values\n",
    "y_all = df_all[['price']].values"
   ]
  },
  {
   "cell_type": "code",
   "execution_count": 24,
   "id": "64bbb08b-b245-4110-a1c3-f9a649aa5772",
   "metadata": {},
   "outputs": [],
   "source": [
    "x_train_all, x_test_all, y_train_all, y_test_all = train_test_split(x_all, y_all, train_size=0.8)"
   ]
  },
  {
   "cell_type": "markdown",
   "id": "b14cb461-b8b4-4409-938f-6d43b4b68ec0",
   "metadata": {},
   "source": [
    "**модель случайного леса**"
   ]
  },
  {
   "cell_type": "code",
   "execution_count": 25,
   "id": "fd959cdc-3ec2-4cc7-b0d6-9c94e108ffc7",
   "metadata": {},
   "outputs": [
    {
     "name": "stderr",
     "output_type": "stream",
     "text": [
      "C:\\Users\\79216\\AppData\\Local\\Temp/ipykernel_16060/3213653613.py:2: DataConversionWarning: A column-vector y was passed when a 1d array was expected. Please change the shape of y to (n_samples,), for example using ravel().\n",
      "  model_rfc_a.fit(x_train_all, y_train_all)\n"
     ]
    },
    {
     "data": {
      "text/plain": [
       "-0.0922143874532928"
      ]
     },
     "execution_count": 25,
     "metadata": {},
     "output_type": "execute_result"
    }
   ],
   "source": [
    "model_rfc_a = RandomForestClassifier(max_depth=5)\n",
    "model_rfc_a.fit(x_train_all, y_train_all)\n",
    "y_pred_rfc_a = model_rfc_a.predict(x_test_all)\n",
    "r2_score(y_pred_rfc_a, y_test_all)"
   ]
  },
  {
   "cell_type": "markdown",
   "id": "b2984699-94b6-4b50-b29f-0bc10505513a",
   "metadata": {},
   "source": [
    "кросс-валидация"
   ]
  },
  {
   "cell_type": "code",
   "execution_count": 33,
   "id": "abdeaf68-5c80-4e28-a074-e45b7deae0cd",
   "metadata": {},
   "outputs": [
    {
     "name": "stderr",
     "output_type": "stream",
     "text": [
      "C:\\Users\\79216\\anaconda3\\envs\\py38\\lib\\site-packages\\sklearn\\model_selection\\_split.py:676: UserWarning: The least populated class in y has only 1 members, which is less than n_splits=5.\n",
      "  warnings.warn(\n",
      "C:\\Users\\79216\\anaconda3\\envs\\py38\\lib\\site-packages\\sklearn\\model_selection\\_validation.py:681: DataConversionWarning: A column-vector y was passed when a 1d array was expected. Please change the shape of y to (n_samples,), for example using ravel().\n",
      "  estimator.fit(X_train, y_train, **fit_params)\n",
      "C:\\Users\\79216\\anaconda3\\envs\\py38\\lib\\site-packages\\sklearn\\model_selection\\_validation.py:681: DataConversionWarning: A column-vector y was passed when a 1d array was expected. Please change the shape of y to (n_samples,), for example using ravel().\n",
      "  estimator.fit(X_train, y_train, **fit_params)\n",
      "C:\\Users\\79216\\anaconda3\\envs\\py38\\lib\\site-packages\\sklearn\\model_selection\\_validation.py:681: DataConversionWarning: A column-vector y was passed when a 1d array was expected. Please change the shape of y to (n_samples,), for example using ravel().\n",
      "  estimator.fit(X_train, y_train, **fit_params)\n",
      "C:\\Users\\79216\\anaconda3\\envs\\py38\\lib\\site-packages\\sklearn\\model_selection\\_validation.py:681: DataConversionWarning: A column-vector y was passed when a 1d array was expected. Please change the shape of y to (n_samples,), for example using ravel().\n",
      "  estimator.fit(X_train, y_train, **fit_params)\n",
      "C:\\Users\\79216\\anaconda3\\envs\\py38\\lib\\site-packages\\sklearn\\model_selection\\_validation.py:681: DataConversionWarning: A column-vector y was passed when a 1d array was expected. Please change the shape of y to (n_samples,), for example using ravel().\n",
      "  estimator.fit(X_train, y_train, **fit_params)\n"
     ]
    },
    {
     "name": "stdout",
     "output_type": "stream",
     "text": [
      "кросс-валидация на train выборке: [0.01749155 0.01510734 0.01676385 0.01557116 0.01749271]\n",
      "cреднее по кросс-валидации: 0.016485323462067648\n"
     ]
    }
   ],
   "source": [
    "#!!!!!!!\n",
    "r2=r2_score(y_pred_rfc_a, y_test_all)\n",
    "cr_val_rfc_a = cross_val_score(model_rfc_a, x_train_all, y_train_all, error_score=r2)\n",
    "print('кросс-валидация на train выборке:',cr_val_rfc_a)\n",
    "print('cреднее по кросс-валидации:', cr_val_rfc_a.mean())"
   ]
  },
  {
   "cell_type": "markdown",
   "id": "c1f45326-4cce-469d-840c-4df34f045807",
   "metadata": {},
   "source": [
    "подбор гиперпараметров"
   ]
  },
  {
   "cell_type": "code",
   "execution_count": 34,
   "id": "88a5e848-226f-4aca-a371-fc50950fbbe3",
   "metadata": {},
   "outputs": [
    {
     "name": "stderr",
     "output_type": "stream",
     "text": [
      "C:\\Users\\79216\\anaconda3\\envs\\py38\\lib\\site-packages\\sklearn\\model_selection\\_split.py:676: UserWarning: The least populated class in y has only 1 members, which is less than n_splits=5.\n",
      "  warnings.warn(\n"
     ]
    },
    {
     "data": {
      "text/plain": [
       "RandomForestClassifier(criterion='entropy', max_depth=5)"
      ]
     },
     "execution_count": 34,
     "metadata": {},
     "output_type": "execute_result"
    }
   ],
   "source": [
    "#!!!!!!\n",
    "params = {\n",
    "    'max_depth': [3, 4, 5],\n",
    "    'n_estimators': [50, 100, 200],\n",
    "    'criterion': ['gini','entropy']\n",
    "}\n",
    "\n",
    "rfc_search = RandomizedSearchCV(RandomForestClassifier(), params)\n",
    "rfc_search.fit(x_train_ford, y_train_ford)\n",
    "rfc_search.best_estimator_"
   ]
  },
  {
   "cell_type": "code",
   "execution_count": 35,
   "id": "9c13c233-631b-45f4-bf9d-8616cdd64f41",
   "metadata": {},
   "outputs": [
    {
     "name": "stderr",
     "output_type": "stream",
     "text": [
      "C:\\Users\\79216\\AppData\\Local\\Temp/ipykernel_16060/425115558.py:2: DataConversionWarning: A column-vector y was passed when a 1d array was expected. Please change the shape of y to (n_samples,), for example using ravel().\n",
      "  model_rfc_a.fit(x_train_all, y_train_all)\n"
     ]
    },
    {
     "data": {
      "text/plain": [
       "-0.08794211278045272"
      ]
     },
     "execution_count": 35,
     "metadata": {},
     "output_type": "execute_result"
    }
   ],
   "source": [
    "model_rfc_a = RandomForestClassifier(criterion='entropy', max_depth=5, n_estimators=50)\n",
    "model_rfc_a.fit(x_train_all, y_train_all)\n",
    "y_pred_rfc_a = model_rfc_a.predict(x_test_all)\n",
    "r2_score(y_pred_rfc_a, y_test_all)"
   ]
  },
  {
   "cell_type": "markdown",
   "id": "5f9df64e-5bb1-4347-8d2d-104500df43ab",
   "metadata": {},
   "source": [
    "**модель SGDRegressor**"
   ]
  },
  {
   "cell_type": "code",
   "execution_count": 36,
   "id": "f2ef869d-d80c-4a6d-af15-a2cefb3ea3c3",
   "metadata": {},
   "outputs": [
    {
     "name": "stderr",
     "output_type": "stream",
     "text": [
      "C:\\Users\\79216\\anaconda3\\envs\\py38\\lib\\site-packages\\sklearn\\utils\\validation.py:985: DataConversionWarning: A column-vector y was passed when a 1d array was expected. Please change the shape of y to (n_samples, ), for example using ravel().\n",
      "  y = column_or_1d(y, warn=True)\n"
     ]
    },
    {
     "data": {
      "text/plain": [
       "-1.245233988623926"
      ]
     },
     "execution_count": 36,
     "metadata": {},
     "output_type": "execute_result"
    }
   ],
   "source": [
    "model_sgdr_a = SGDRegressor()\n",
    "model_sgdr_a.fit(x_train_all, y_train_all)\n",
    "y_pred_sgdr_a = model_sgdr_a.predict(x_test_all)\n",
    "r2_score(y_pred_sgdr_a, y_test_all)"
   ]
  },
  {
   "cell_type": "markdown",
   "id": "5b336414-963a-487a-9d5b-778d4d00c309",
   "metadata": {},
   "source": [
    "кросс-валидация"
   ]
  },
  {
   "cell_type": "code",
   "execution_count": 37,
   "id": "8072b07d-27ca-4c0c-bdc5-28eab1ec14f2",
   "metadata": {},
   "outputs": [
    {
     "name": "stderr",
     "output_type": "stream",
     "text": [
      "C:\\Users\\79216\\anaconda3\\envs\\py38\\lib\\site-packages\\sklearn\\utils\\validation.py:985: DataConversionWarning: A column-vector y was passed when a 1d array was expected. Please change the shape of y to (n_samples, ), for example using ravel().\n",
      "  y = column_or_1d(y, warn=True)\n",
      "C:\\Users\\79216\\anaconda3\\envs\\py38\\lib\\site-packages\\sklearn\\utils\\validation.py:985: DataConversionWarning: A column-vector y was passed when a 1d array was expected. Please change the shape of y to (n_samples, ), for example using ravel().\n",
      "  y = column_or_1d(y, warn=True)\n",
      "C:\\Users\\79216\\anaconda3\\envs\\py38\\lib\\site-packages\\sklearn\\utils\\validation.py:985: DataConversionWarning: A column-vector y was passed when a 1d array was expected. Please change the shape of y to (n_samples, ), for example using ravel().\n",
      "  y = column_or_1d(y, warn=True)\n",
      "C:\\Users\\79216\\anaconda3\\envs\\py38\\lib\\site-packages\\sklearn\\utils\\validation.py:985: DataConversionWarning: A column-vector y was passed when a 1d array was expected. Please change the shape of y to (n_samples, ), for example using ravel().\n",
      "  y = column_or_1d(y, warn=True)\n",
      "C:\\Users\\79216\\anaconda3\\envs\\py38\\lib\\site-packages\\sklearn\\utils\\validation.py:985: DataConversionWarning: A column-vector y was passed when a 1d array was expected. Please change the shape of y to (n_samples, ), for example using ravel().\n",
      "  y = column_or_1d(y, warn=True)\n"
     ]
    },
    {
     "name": "stdout",
     "output_type": "stream",
     "text": [
      "кросс-валидация на train выборке: [-2.17703715e+25 -3.41989759e+26 -8.44153936e+25 -2.12052676e+26\n",
      " -3.03068341e+27]\n",
      "cреднее по кросс-валидации: -7.381823222377306e+26\n"
     ]
    }
   ],
   "source": [
    "r2=r2_score(y_pred_sgdr_a, y_test_all)\n",
    "cr_val_sgdr_a = cross_val_score(model_sgdr_a, x_train_all, y_train_all, error_score=r2)\n",
    "print('кросс-валидация на train выборке:',cr_val_sgdr_a)\n",
    "print('cреднее по кросс-валидации:', cr_val_sgdr_a.mean())"
   ]
  },
  {
   "cell_type": "markdown",
   "id": "f448d276-8921-4a69-89f0-d5eff4628c8b",
   "metadata": {},
   "source": [
    "подбор гиперпараметров"
   ]
  },
  {
   "cell_type": "code",
   "execution_count": 38,
   "id": "aab550d9-b889-4df3-8e7b-5d5f9f1f5133",
   "metadata": {},
   "outputs": [
    {
     "name": "stderr",
     "output_type": "stream",
     "text": [
      "C:\\Users\\79216\\anaconda3\\envs\\py38\\lib\\site-packages\\sklearn\\linear_model\\_stochastic_gradient.py:1503: ConvergenceWarning: Maximum number of iteration reached before convergence. Consider increasing max_iter to improve the fit.\n",
      "  warnings.warn(\n",
      "C:\\Users\\79216\\anaconda3\\envs\\py38\\lib\\site-packages\\sklearn\\linear_model\\_stochastic_gradient.py:1503: ConvergenceWarning: Maximum number of iteration reached before convergence. Consider increasing max_iter to improve the fit.\n",
      "  warnings.warn(\n",
      "C:\\Users\\79216\\anaconda3\\envs\\py38\\lib\\site-packages\\sklearn\\linear_model\\_stochastic_gradient.py:1503: ConvergenceWarning: Maximum number of iteration reached before convergence. Consider increasing max_iter to improve the fit.\n",
      "  warnings.warn(\n",
      "C:\\Users\\79216\\anaconda3\\envs\\py38\\lib\\site-packages\\sklearn\\linear_model\\_stochastic_gradient.py:1503: ConvergenceWarning: Maximum number of iteration reached before convergence. Consider increasing max_iter to improve the fit.\n",
      "  warnings.warn(\n",
      "C:\\Users\\79216\\anaconda3\\envs\\py38\\lib\\site-packages\\sklearn\\linear_model\\_stochastic_gradient.py:1503: ConvergenceWarning: Maximum number of iteration reached before convergence. Consider increasing max_iter to improve the fit.\n",
      "  warnings.warn(\n",
      "C:\\Users\\79216\\anaconda3\\envs\\py38\\lib\\site-packages\\sklearn\\linear_model\\_stochastic_gradient.py:1503: ConvergenceWarning: Maximum number of iteration reached before convergence. Consider increasing max_iter to improve the fit.\n",
      "  warnings.warn(\n",
      "C:\\Users\\79216\\anaconda3\\envs\\py38\\lib\\site-packages\\sklearn\\linear_model\\_stochastic_gradient.py:1503: ConvergenceWarning: Maximum number of iteration reached before convergence. Consider increasing max_iter to improve the fit.\n",
      "  warnings.warn(\n",
      "C:\\Users\\79216\\anaconda3\\envs\\py38\\lib\\site-packages\\sklearn\\linear_model\\_stochastic_gradient.py:1503: ConvergenceWarning: Maximum number of iteration reached before convergence. Consider increasing max_iter to improve the fit.\n",
      "  warnings.warn(\n",
      "C:\\Users\\79216\\anaconda3\\envs\\py38\\lib\\site-packages\\sklearn\\linear_model\\_stochastic_gradient.py:1503: ConvergenceWarning: Maximum number of iteration reached before convergence. Consider increasing max_iter to improve the fit.\n",
      "  warnings.warn(\n",
      "C:\\Users\\79216\\anaconda3\\envs\\py38\\lib\\site-packages\\sklearn\\linear_model\\_stochastic_gradient.py:1503: ConvergenceWarning: Maximum number of iteration reached before convergence. Consider increasing max_iter to improve the fit.\n",
      "  warnings.warn(\n",
      "C:\\Users\\79216\\anaconda3\\envs\\py38\\lib\\site-packages\\sklearn\\linear_model\\_stochastic_gradient.py:1503: ConvergenceWarning: Maximum number of iteration reached before convergence. Consider increasing max_iter to improve the fit.\n",
      "  warnings.warn(\n",
      "C:\\Users\\79216\\anaconda3\\envs\\py38\\lib\\site-packages\\sklearn\\linear_model\\_stochastic_gradient.py:1503: ConvergenceWarning: Maximum number of iteration reached before convergence. Consider increasing max_iter to improve the fit.\n",
      "  warnings.warn(\n",
      "C:\\Users\\79216\\anaconda3\\envs\\py38\\lib\\site-packages\\sklearn\\linear_model\\_stochastic_gradient.py:1503: ConvergenceWarning: Maximum number of iteration reached before convergence. Consider increasing max_iter to improve the fit.\n",
      "  warnings.warn(\n",
      "C:\\Users\\79216\\anaconda3\\envs\\py38\\lib\\site-packages\\sklearn\\linear_model\\_stochastic_gradient.py:1503: ConvergenceWarning: Maximum number of iteration reached before convergence. Consider increasing max_iter to improve the fit.\n",
      "  warnings.warn(\n",
      "C:\\Users\\79216\\anaconda3\\envs\\py38\\lib\\site-packages\\sklearn\\linear_model\\_stochastic_gradient.py:1503: ConvergenceWarning: Maximum number of iteration reached before convergence. Consider increasing max_iter to improve the fit.\n",
      "  warnings.warn(\n",
      "C:\\Users\\79216\\anaconda3\\envs\\py38\\lib\\site-packages\\sklearn\\linear_model\\_stochastic_gradient.py:1503: ConvergenceWarning: Maximum number of iteration reached before convergence. Consider increasing max_iter to improve the fit.\n",
      "  warnings.warn(\n",
      "C:\\Users\\79216\\anaconda3\\envs\\py38\\lib\\site-packages\\sklearn\\linear_model\\_stochastic_gradient.py:1503: ConvergenceWarning: Maximum number of iteration reached before convergence. Consider increasing max_iter to improve the fit.\n",
      "  warnings.warn(\n"
     ]
    },
    {
     "data": {
      "text/plain": [
       "SGDRegressor(alpha=0.1, max_iter=200)"
      ]
     },
     "execution_count": 38,
     "metadata": {},
     "output_type": "execute_result"
    }
   ],
   "source": [
    "params = {\n",
    "    'penalty': ['l1', 'l2', 'elasticnet'],\n",
    "    'alpha': [0.0001, 0.0005, 0.1],\n",
    "    'max_iter': [50, 100, 200]\n",
    "}\n",
    "\n",
    "sgdr_a_search = RandomizedSearchCV(SGDRegressor(), params)\n",
    "sgdr_a_search.fit(x_train_ford, y_train_ford)\n",
    "sgdr_a_search.best_estimator_"
   ]
  },
  {
   "cell_type": "code",
   "execution_count": 39,
   "id": "201f69a3-4c73-490b-b16f-3bbd13e8ead0",
   "metadata": {},
   "outputs": [
    {
     "name": "stderr",
     "output_type": "stream",
     "text": [
      "C:\\Users\\79216\\anaconda3\\envs\\py38\\lib\\site-packages\\sklearn\\utils\\validation.py:985: DataConversionWarning: A column-vector y was passed when a 1d array was expected. Please change the shape of y to (n_samples, ), for example using ravel().\n",
      "  y = column_or_1d(y, warn=True)\n"
     ]
    },
    {
     "data": {
      "text/plain": [
       "-0.785952886518696"
      ]
     },
     "execution_count": 39,
     "metadata": {},
     "output_type": "execute_result"
    }
   ],
   "source": [
    "model_sgdr_a = SGDRegressor(alpha=0.0005, max_iter=200, penalty='elasticnet')\n",
    "model_sgdr_a.fit(x_train_all, y_train_all)\n",
    "y_pred_sgdr_a = model_sgdr_a.predict(x_test_all)\n",
    "r2_score(y_pred_sgdr_a, y_test_all)"
   ]
  },
  {
   "cell_type": "markdown",
   "id": "3df51daa-6657-4f9c-976c-df6d81659739",
   "metadata": {},
   "source": [
    "**лучше результаты у SGDRegressor**"
   ]
  },
  {
   "cell_type": "code",
   "execution_count": null,
   "id": "bf15c313-ea0f-49e2-89bc-5ce30cc9a37c",
   "metadata": {},
   "outputs": [],
   "source": []
  }
 ],
 "metadata": {
  "kernelspec": {
   "display_name": "Python 3 (ipykernel)",
   "language": "python",
   "name": "python3"
  },
  "language_info": {
   "codemirror_mode": {
    "name": "ipython",
    "version": 3
   },
   "file_extension": ".py",
   "mimetype": "text/x-python",
   "name": "python",
   "nbconvert_exporter": "python",
   "pygments_lexer": "ipython3",
   "version": "3.8.12"
  }
 },
 "nbformat": 4,
 "nbformat_minor": 5
}
