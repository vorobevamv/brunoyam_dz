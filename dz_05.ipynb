{
 "cells": [
  {
   "cell_type": "code",
   "execution_count": 276,
   "id": "d5bbb4a2-b22e-4f90-a5d1-b6761598ba1a",
   "metadata": {},
   "outputs": [],
   "source": [
    "import pandas as pd\n",
    "import numpy as np\n",
    "import matplotlib.pyplot as plt"
   ]
  },
  {
   "cell_type": "markdown",
   "id": "e859f2bc-e475-4a07-9e84-e9c3587d9089",
   "metadata": {},
   "source": [
    "### easy  \n",
    "##### оценить с помощью доверительных интервалов:  \n",
    "- выживаемость всех пассажиров (оценить среднее по isSurvived)  \n",
    "- выживаемость женщин  \n",
    "- выживаемость людей с каютами первого класса"
   ]
  },
  {
   "cell_type": "code",
   "execution_count": 277,
   "id": "afa148a3-c261-4a04-8a34-4085abf90711",
   "metadata": {},
   "outputs": [],
   "source": [
    "from scipy.stats import norm"
   ]
  },
  {
   "cell_type": "code",
   "execution_count": 278,
   "id": "85aa6f3b-4e34-44f1-a3de-5067d5b8e048",
   "metadata": {},
   "outputs": [
    {
     "data": {
      "text/html": [
       "<div>\n",
       "<style scoped>\n",
       "    .dataframe tbody tr th:only-of-type {\n",
       "        vertical-align: middle;\n",
       "    }\n",
       "\n",
       "    .dataframe tbody tr th {\n",
       "        vertical-align: top;\n",
       "    }\n",
       "\n",
       "    .dataframe thead th {\n",
       "        text-align: right;\n",
       "    }\n",
       "</style>\n",
       "<table border=\"1\" class=\"dataframe\">\n",
       "  <thead>\n",
       "    <tr style=\"text-align: right;\">\n",
       "      <th></th>\n",
       "      <th>Survived</th>\n",
       "      <th>Pclass</th>\n",
       "      <th>Name</th>\n",
       "      <th>Sex</th>\n",
       "      <th>Age</th>\n",
       "      <th>SibSp</th>\n",
       "      <th>Parch</th>\n",
       "      <th>Ticket</th>\n",
       "      <th>Fare</th>\n",
       "      <th>Cabin</th>\n",
       "      <th>Embarked</th>\n",
       "    </tr>\n",
       "    <tr>\n",
       "      <th>PassengerId</th>\n",
       "      <th></th>\n",
       "      <th></th>\n",
       "      <th></th>\n",
       "      <th></th>\n",
       "      <th></th>\n",
       "      <th></th>\n",
       "      <th></th>\n",
       "      <th></th>\n",
       "      <th></th>\n",
       "      <th></th>\n",
       "      <th></th>\n",
       "    </tr>\n",
       "  </thead>\n",
       "  <tbody>\n",
       "    <tr>\n",
       "      <th>1</th>\n",
       "      <td>0</td>\n",
       "      <td>3</td>\n",
       "      <td>Braund, Mr. Owen Harris</td>\n",
       "      <td>male</td>\n",
       "      <td>22.0</td>\n",
       "      <td>1</td>\n",
       "      <td>0</td>\n",
       "      <td>A/5 21171</td>\n",
       "      <td>7.2500</td>\n",
       "      <td>NaN</td>\n",
       "      <td>S</td>\n",
       "    </tr>\n",
       "    <tr>\n",
       "      <th>2</th>\n",
       "      <td>1</td>\n",
       "      <td>1</td>\n",
       "      <td>Cumings, Mrs. John Bradley (Florence Briggs Th...</td>\n",
       "      <td>female</td>\n",
       "      <td>38.0</td>\n",
       "      <td>1</td>\n",
       "      <td>0</td>\n",
       "      <td>PC 17599</td>\n",
       "      <td>71.2833</td>\n",
       "      <td>C85</td>\n",
       "      <td>C</td>\n",
       "    </tr>\n",
       "    <tr>\n",
       "      <th>3</th>\n",
       "      <td>1</td>\n",
       "      <td>3</td>\n",
       "      <td>Heikkinen, Miss. Laina</td>\n",
       "      <td>female</td>\n",
       "      <td>26.0</td>\n",
       "      <td>0</td>\n",
       "      <td>0</td>\n",
       "      <td>STON/O2. 3101282</td>\n",
       "      <td>7.9250</td>\n",
       "      <td>NaN</td>\n",
       "      <td>S</td>\n",
       "    </tr>\n",
       "    <tr>\n",
       "      <th>4</th>\n",
       "      <td>1</td>\n",
       "      <td>1</td>\n",
       "      <td>Futrelle, Mrs. Jacques Heath (Lily May Peel)</td>\n",
       "      <td>female</td>\n",
       "      <td>35.0</td>\n",
       "      <td>1</td>\n",
       "      <td>0</td>\n",
       "      <td>113803</td>\n",
       "      <td>53.1000</td>\n",
       "      <td>C123</td>\n",
       "      <td>S</td>\n",
       "    </tr>\n",
       "    <tr>\n",
       "      <th>5</th>\n",
       "      <td>0</td>\n",
       "      <td>3</td>\n",
       "      <td>Allen, Mr. William Henry</td>\n",
       "      <td>male</td>\n",
       "      <td>35.0</td>\n",
       "      <td>0</td>\n",
       "      <td>0</td>\n",
       "      <td>373450</td>\n",
       "      <td>8.0500</td>\n",
       "      <td>NaN</td>\n",
       "      <td>S</td>\n",
       "    </tr>\n",
       "  </tbody>\n",
       "</table>\n",
       "</div>"
      ],
      "text/plain": [
       "             Survived  Pclass  \\\n",
       "PassengerId                     \n",
       "1                   0       3   \n",
       "2                   1       1   \n",
       "3                   1       3   \n",
       "4                   1       1   \n",
       "5                   0       3   \n",
       "\n",
       "                                                          Name     Sex   Age  \\\n",
       "PassengerId                                                                    \n",
       "1                                      Braund, Mr. Owen Harris    male  22.0   \n",
       "2            Cumings, Mrs. John Bradley (Florence Briggs Th...  female  38.0   \n",
       "3                                       Heikkinen, Miss. Laina  female  26.0   \n",
       "4                 Futrelle, Mrs. Jacques Heath (Lily May Peel)  female  35.0   \n",
       "5                                     Allen, Mr. William Henry    male  35.0   \n",
       "\n",
       "             SibSp  Parch            Ticket     Fare Cabin Embarked  \n",
       "PassengerId                                                          \n",
       "1                1      0         A/5 21171   7.2500   NaN        S  \n",
       "2                1      0          PC 17599  71.2833   C85        C  \n",
       "3                0      0  STON/O2. 3101282   7.9250   NaN        S  \n",
       "4                1      0            113803  53.1000  C123        S  \n",
       "5                0      0            373450   8.0500   NaN        S  "
      ]
     },
     "execution_count": 278,
     "metadata": {},
     "output_type": "execute_result"
    }
   ],
   "source": [
    "df = pd.read_csv('titanic/train.csv', index_col=0)\n",
    "df.head()"
   ]
  },
  {
   "cell_type": "markdown",
   "id": "f1be3778-ffaa-4216-b87c-3a8143e42398",
   "metadata": {},
   "source": [
    "Доверительный интервал вычисляется по формуле:  \n",
    "    h = Ф(1-u/2)х(std/n^0,5), где  \n",
    "u - уровень значимости, обозначим через alpha и примем alpha=0,5;  \n",
    "std - среднеквадратичное отклонение, вычислим с помощью numpy.std();  \n",
    "n - кол-во элементов.  \n",
    "\n",
    "Среднее значение /mean/ найдём с помощью numpy.mean()"
   ]
  },
  {
   "cell_type": "markdown",
   "id": "092c24bc-947a-4724-8683-846ac05c9399",
   "metadata": {},
   "source": [
    "**выживаемость всех пассажиров**"
   ]
  },
  {
   "cell_type": "code",
   "execution_count": 301,
   "id": "af420093-493a-4daa-8966-780cbf3e7d3d",
   "metadata": {},
   "outputs": [
    {
     "name": "stdout",
     "output_type": "stream",
     "text": [
      "с уровнем значимости 0.5 шанс выжить для всех пассажиров находится в промежутке от 0.37 до 0.39\n"
     ]
    }
   ],
   "source": [
    "#если дисперсия известна\n",
    "np_all = df['Survived'].to_numpy()\n",
    "alpha = 0.5\n",
    "std1 = np.std(np_all)\n",
    "n1 = len(np_all)\n",
    "mean1 = np.mean(np_all)\n",
    "h1 = norm.ppf(1 - alpha / 2) * std1 / np.sqrt(n1)\n",
    "\n",
    "print('с уровнем значимости', alpha, 'шанс выжить для всех пассажиров находится в промежутке от', round(mean1-h1,2), 'до', round(mean1+h1,2))"
   ]
  },
  {
   "cell_type": "code",
   "execution_count": 302,
   "id": "ba301302-0d14-4fa9-a86d-df684ca28d79",
   "metadata": {},
   "outputs": [
    {
     "name": "stdout",
     "output_type": "stream",
     "text": [
      "с уровнем значимости 0.5 шанс выжить для всех пассажиров находится в промежутке (0.0556868823830613, 0.7119898852937063)\n"
     ]
    }
   ],
   "source": [
    "#если дисперсия не известна\n",
    "np_all = df['Survived'].to_numpy()\n",
    "alpha = 0.5\n",
    "std1 = np.std(np_all)\n",
    "n1 = len(np_all)\n",
    "mean1 = np.mean(np_all)\n",
    "\n",
    "t.interval(1 - alpha, n1 - 1, loc=mean1, scale=std1)\n",
    "print('с уровнем значимости', alpha, 'шанс выжить для всех пассажиров находится в промежутке',t.interval(1 - alpha, n1 - 1, loc=mean1, scale=std1))"
   ]
  },
  {
   "cell_type": "markdown",
   "id": "44926b97-a0e4-4c14-b900-7b10c44b4fba",
   "metadata": {},
   "source": [
    "**выживаемость женщин**"
   ]
  },
  {
   "cell_type": "code",
   "execution_count": 303,
   "id": "38f23fbd-4b4c-4496-8b39-2f8f4eeabb1a",
   "metadata": {},
   "outputs": [
    {
     "name": "stdout",
     "output_type": "stream",
     "text": [
      "с уровнем значимости 0.5 шанс выжить для пассажиров-женщин находится в промежутке от 0.73 до 0.76\n"
     ]
    }
   ],
   "source": [
    "#если дисперсия известна\n",
    "np_fem = df[df['Sex']=='female']['Survived'].to_numpy()\n",
    "alpha = 0.5\n",
    "std2 = np.std(np_fem)\n",
    "n2 = len(np_fem)\n",
    "mean2 = np.mean(np_fem)\n",
    "h2 = norm.ppf(1 - alpha / 2) * std2 / np.sqrt(n2)\n",
    "\n",
    "print('с уровнем значимости', alpha, 'шанс выжить для пассажиров-женщин находится в промежутке от', round(mean2-h2,2), 'до', round(mean2+h2,2))"
   ]
  },
  {
   "cell_type": "code",
   "execution_count": 304,
   "id": "6be4f4c1-c744-4d36-98c2-33ea92c83fd3",
   "metadata": {},
   "outputs": [
    {
     "name": "stdout",
     "output_type": "stream",
     "text": [
      "с уровнем значимости 0.5 шанс выжить для пассажиров-женщин находится в промежутке (0.4465969924211885, 1.0374794406998304)\n"
     ]
    }
   ],
   "source": [
    "#если дисперсия не известна\n",
    "np_fem = df[df['Sex']=='female']['Survived'].to_numpy()\n",
    "alpha = 0.5\n",
    "std2 = np.std(np_fem)\n",
    "n2 = len(np_fem)\n",
    "mean2 = np.mean(np_fem)\n",
    "\n",
    "t.interval(1 - alpha, n2 - 1, loc=mean2, scale=std2)\n",
    "print('с уровнем значимости', alpha, 'шанс выжить для пассажиров-женщин находится в промежутке',t.interval(1 - alpha, n2 - 1, loc=mean2, scale=std2))"
   ]
  },
  {
   "cell_type": "markdown",
   "id": "5f263d88-c787-4f85-b6bc-ba9a0c4928a1",
   "metadata": {},
   "source": [
    "**выживаемость людей с каютами первого класса**"
   ]
  },
  {
   "cell_type": "code",
   "execution_count": 305,
   "id": "78927a3e-3e05-474b-87ea-1c58a2409c10",
   "metadata": {},
   "outputs": [
    {
     "name": "stdout",
     "output_type": "stream",
     "text": [
      "с уровнем значимости 0.5 шанс выжить для пассажиров первого класса находится в промежутке от 0.61 до 0.65\n"
     ]
    }
   ],
   "source": [
    "#если дисперсия известна\n",
    "np_fcl = df[df['Pclass']==1]['Survived'].to_numpy()\n",
    "alpha = 0.5\n",
    "std3 = np.std(np_fcl)\n",
    "n3 = len(np_fcl)\n",
    "mean3 = np.mean(np_fcl)\n",
    "h3 = norm.ppf(1 - alpha / 2) * std3 / np.sqrt(n3)\n",
    "\n",
    "print('с уровнем значимости', alpha, 'шанс выжить для пассажиров первого класса находится в промежутке от', round(mean3-h3,2), 'до', round(mean3+h3,2))"
   ]
  },
  {
   "cell_type": "code",
   "execution_count": 307,
   "id": "6dd6269c-bde4-4a46-9c23-74095722912a",
   "metadata": {},
   "outputs": [
    {
     "name": "stdout",
     "output_type": "stream",
     "text": [
      "с уровнем значимости 0.5 шанс выжить для пассажиров первого класса находится в промежутке (0.30336404274002815, 0.9558952165192312)\n"
     ]
    }
   ],
   "source": [
    "#если дисперсия не известна\n",
    "np_fcl = df[df['Pclass']==1]['Survived'].to_numpy()\n",
    "alpha = 0.5\n",
    "std3 = np.std(np_fcl)\n",
    "n3 = len(np_fcl)\n",
    "mean3 = np.mean(np_fcl)\n",
    "\n",
    "t.interval(1 - alpha, n3 - 1, loc=mean3, scale=std3)\n",
    "print('с уровнем значимости', alpha, 'шанс выжить для пассажиров первого класса находится в промежутке',t.interval(1 - alpha, n3 - 1, loc=mean3, scale=std3))"
   ]
  },
  {
   "cell_type": "markdown",
   "id": "80b90160-8fc4-4431-8c66-400e99a70072",
   "metadata": {},
   "source": [
    "##### ответить на вопросы:\n",
    "**какой вариант оценки доверительных интервалов нужно использовать в данной задаче и почему?**  \n",
    "Есть два варианта оценки: когда дисперсия известна и когда не известна.  \n",
    "Мне казалось, что дисперсия известна, так как в данном случае рассматривается уже призошедшее событие (а не делается прогноз на будущее), дисперсию можно вычислить. К тому же данные по выживаемости могут принимать только два значения (0 и 1), поэтому дисперсия (разброс данных) не может быть большой в принципе.  \n",
    "Но теперь понятно, что правильный ответ - дисперсия не известна.\n",
    "\n",
    "**какая из ошибок более критична для данной задачи - I или II рода?**  \n",
    "В данном случае ошибка первого рода - предположить, что пассажир выживет, а на самом деле он не выживет; ошибка второго рода - предположить, что пассажир не выживет, а он на самом деле выживет.  \n",
    "Какая ошибка более критична зависит от точки зрения: с точки зрения дара ложной надежды (для родственникиков, например) и последующего разочарования, критичней ошибка первого рода; с точки зрения необходимости найти/подобрать всех выживших пассажиров, критичней ошибка второго рода. Иначе говоря, при допущении ошибки первого рода погибший человек будет считаться выжившим, при допущении ошибки второго рода, выживший пассажир будет считаться погибшим."
   ]
  },
  {
   "cell_type": "markdown",
   "id": "8e9a9a8d-3856-4334-8e2e-992121ac3b85",
   "metadata": {},
   "source": [
    "### normal  \n",
    "##### проверить гипотезы:  \n",
    "- о том, что женщины выживают чаще мужчин с уровнем значимости 0.05;  \n",
    "- о том, что дети выживают чаще, чем взрослые.  \n",
    "\n",
    "алгоритм проверки статистических гипотез:\n",
    "1. формулируем гипотезы H0 и H1  \n",
    "2. выбираем уровень значимости  \n",
    "3. определяем статистический критерий  \n",
    "4. рассчитываем критерий  \n",
    "5. принимаем решение  "
   ]
  },
  {
   "cell_type": "markdown",
   "id": "afac9982-4248-4abb-b6ab-9b746ac26a49",
   "metadata": {},
   "source": [
    "**проверка гипотезы о том, что женщины выживают чаще мужчин** \n",
    "1. Н0 - женщины выживают чаще мужчин;  \n",
    "Н1 - женщины выживают реже мужчин;\n",
    "2. уровень значимости 0,05;\n",
    "3. т.к. по факту сравниваюся численные значения (вероятность выживания), следует применить критерий значимости;  \n",
    "для проверки равенства средних значений в двух выборках принято использовать t-критерий Стьюдента;\n",
    "4. рассчёт:"
   ]
  },
  {
   "cell_type": "code",
   "execution_count": 282,
   "id": "76144ff3-1f38-4baf-b502-2ccde01b6c13",
   "metadata": {},
   "outputs": [],
   "source": [
    "from scipy.stats import ttest_ind\n",
    "from scipy.stats import t"
   ]
  },
  {
   "cell_type": "code",
   "execution_count": 283,
   "id": "a8deffbb-0b5a-4d25-96ff-c1a2172c2fed",
   "metadata": {},
   "outputs": [
    {
     "name": "stdout",
     "output_type": "stream",
     "text": [
      "критерий Стьюдента =  22.367 ; p_value =  0.0\n"
     ]
    }
   ],
   "source": [
    "sample_fem = df[df['Sex']=='female']['Survived'].to_numpy()\n",
    "sample_male = df[df['Sex']=='male']['Survived'].to_numpy()\n",
    "\n",
    "mean = sample_fem.mean()\n",
    "a0 = sample_male.mean()\n",
    "std = np.std(sample_fem)\n",
    "n = len(sample_fem)\n",
    "alpha = 0.05\n",
    "\n",
    "t_St = (mean - a0) / (std / (n-1)**0.5)\n",
    "\n",
    "p0 = t.cdf(t_St, n - 1)\n",
    "p1 = 1 - t.cdf(t_St, n - 1)\n",
    "p_value = 2 * min(p0, p1)\n",
    "\n",
    "print('критерий Стьюдента = ', round(t_St,3), '; p_value = ', round(p_value,3))    "
   ]
  },
  {
   "cell_type": "markdown",
   "id": "4acdc42a-7f49-4d74-9428-d1dcb8352386",
   "metadata": {},
   "source": [
    "5. решение: так как p_value (0) ниже уровня значимости (0,05), верной является гипотеза Н0 - женщины выживают чаще мужчин"
   ]
  },
  {
   "cell_type": "markdown",
   "id": "6e540ccb-d6a6-4555-96fc-60dd2e4c8297",
   "metadata": {},
   "source": [
    "**проверка гипотезы о том, что дети выживают чаще, чем взрослые** \n",
    "1. Н0 - дети выживают чаще, чем взрослые;  \n",
    "Н1 - дети выживают не чаще, чем взрослые;\n",
    "2. уровень значимости 0,05;\n",
    "3. используем t-критерий Стьюдента;\n",
    "4. рассчёт:"
   ]
  },
  {
   "cell_type": "code",
   "execution_count": 284,
   "id": "7ab2b480-2a70-4dcf-9508-d6e4ecbe6021",
   "metadata": {},
   "outputs": [
    {
     "name": "stdout",
     "output_type": "stream",
     "text": [
      "критерий Стьюдента =  3.372 ; p_value =  0.001\n"
     ]
    }
   ],
   "source": [
    "sample_child = df[df['Age']<18]['Survived'].to_numpy()\n",
    "sample_adult = df[df['Age']>=18]['Survived'].to_numpy()\n",
    "\n",
    "mean = sample_child.mean()\n",
    "a0 = sample_adult.mean()\n",
    "std = np.std(sample_child)\n",
    "n = len(sample_child)\n",
    "alpha = 0.05\n",
    "\n",
    "t_St = (mean - a0) / (std / (n-1)**0.5)\n",
    "\n",
    "p0 = t.cdf(t_St, n - 1)\n",
    "p1 = 1 - t.cdf(t_St, n - 1)\n",
    "p_value = 2 * min(p0, p1)\n",
    "\n",
    "print('критерий Стьюдента = ', round(t_St,3), '; p_value = ', round(p_value,3))    "
   ]
  },
  {
   "cell_type": "markdown",
   "id": "6066b63a-e8d7-4101-a9b1-be435eb6e041",
   "metadata": {},
   "source": [
    "5. решение: так как p_value (0,001) ниже уровня значимости (0,05), верной является гипотеза Н0 - дети выживают чаще, чем взрослые"
   ]
  },
  {
   "cell_type": "code",
   "execution_count": 285,
   "id": "5e8496cc-1b47-41a5-8a27-ea9f054fdb78",
   "metadata": {},
   "outputs": [
    {
     "data": {
      "text/plain": [
       "(0.5398230088495575, 0.3810316139767055)"
      ]
     },
     "execution_count": 285,
     "metadata": {},
     "output_type": "execute_result"
    }
   ],
   "source": [
    "#проверка\n",
    "xxx = df[(df['Survived'] == 1) & (df['Age'] <18)]['Survived'].count() / df[df['Age'] <18]['Survived'].count()\n",
    "yyy = df[(df['Survived'] == 1) & (df['Age'] >=18)]['Survived'].count() / df[df['Age'] >=18]['Survived'].count()\n",
    "\n",
    "xxx, yyy"
   ]
  },
  {
   "cell_type": "markdown",
   "id": "bb41027e-f04e-4973-85b6-ce7223b2df2c",
   "metadata": {},
   "source": [
    "### hard (недоделано)  \n",
    "##### Задача:  \n",
    "Мы отобрали 1000 человек, которые заявляют, что они экстрасенсы. Мы хотим проверить это. Для этого проводится следующий эксперимент. Перед каждым участником выкладывают 10 карт рубашкой вверх и просят угадать цвет карты (красный или черный). На уровне значимости 0.01 мы хотим быть уверены, является ли человек экстрасенсом.\n",
    "Нужно смоделировать ситуацию двумя способами (предполагаем, что экстрасенсов не существует и решения участников представляют из себя биномиальное распределение):  \n",
    "без множественной проверки гипотез, выявить количество экстрасенсов  \n",
    "с множественной проверкой гипотез, используя поправку Бонферрони (правило FWER)  \n",
    "Сколько экстрасенсов получилось поймать в каждом из случаев?"
   ]
  },
  {
   "cell_type": "markdown",
   "id": "35fae8e0-0372-423e-aaf4-30004c682113",
   "metadata": {},
   "source": [
    "сформируем случайном образом результаты эксперимента:  \n",
    "'try' - количество верно угаданных карт (0-10);  \n",
    "'magic' - признание способностей (если угадано 9/10 или 10/10, испытуемый признаётся экстрасенсом)"
   ]
  },
  {
   "cell_type": "code",
   "execution_count": 294,
   "id": "06be9f6a-11a6-41d6-a556-b90c6a3cda43",
   "metadata": {},
   "outputs": [
    {
     "data": {
      "text/html": [
       "<div>\n",
       "<style scoped>\n",
       "    .dataframe tbody tr th:only-of-type {\n",
       "        vertical-align: middle;\n",
       "    }\n",
       "\n",
       "    .dataframe tbody tr th {\n",
       "        vertical-align: top;\n",
       "    }\n",
       "\n",
       "    .dataframe thead th {\n",
       "        text-align: right;\n",
       "    }\n",
       "</style>\n",
       "<table border=\"1\" class=\"dataframe\">\n",
       "  <thead>\n",
       "    <tr style=\"text-align: right;\">\n",
       "      <th></th>\n",
       "      <th>try</th>\n",
       "      <th>magic</th>\n",
       "    </tr>\n",
       "  </thead>\n",
       "  <tbody>\n",
       "    <tr>\n",
       "      <th>0</th>\n",
       "      <td>5</td>\n",
       "      <td>0</td>\n",
       "    </tr>\n",
       "    <tr>\n",
       "      <th>1</th>\n",
       "      <td>8</td>\n",
       "      <td>0</td>\n",
       "    </tr>\n",
       "    <tr>\n",
       "      <th>2</th>\n",
       "      <td>7</td>\n",
       "      <td>0</td>\n",
       "    </tr>\n",
       "    <tr>\n",
       "      <th>3</th>\n",
       "      <td>4</td>\n",
       "      <td>0</td>\n",
       "    </tr>\n",
       "    <tr>\n",
       "      <th>4</th>\n",
       "      <td>5</td>\n",
       "      <td>0</td>\n",
       "    </tr>\n",
       "    <tr>\n",
       "      <th>...</th>\n",
       "      <td>...</td>\n",
       "      <td>...</td>\n",
       "    </tr>\n",
       "    <tr>\n",
       "      <th>995</th>\n",
       "      <td>6</td>\n",
       "      <td>0</td>\n",
       "    </tr>\n",
       "    <tr>\n",
       "      <th>996</th>\n",
       "      <td>7</td>\n",
       "      <td>0</td>\n",
       "    </tr>\n",
       "    <tr>\n",
       "      <th>997</th>\n",
       "      <td>6</td>\n",
       "      <td>0</td>\n",
       "    </tr>\n",
       "    <tr>\n",
       "      <th>998</th>\n",
       "      <td>6</td>\n",
       "      <td>0</td>\n",
       "    </tr>\n",
       "    <tr>\n",
       "      <th>999</th>\n",
       "      <td>6</td>\n",
       "      <td>0</td>\n",
       "    </tr>\n",
       "  </tbody>\n",
       "</table>\n",
       "<p>1000 rows × 2 columns</p>\n",
       "</div>"
      ],
      "text/plain": [
       "     try  magic\n",
       "0      5      0\n",
       "1      8      0\n",
       "2      7      0\n",
       "3      4      0\n",
       "4      5      0\n",
       "..   ...    ...\n",
       "995    6      0\n",
       "996    7      0\n",
       "997    6      0\n",
       "998    6      0\n",
       "999    6      0\n",
       "\n",
       "[1000 rows x 2 columns]"
      ]
     },
     "execution_count": 294,
     "metadata": {},
     "output_type": "execute_result"
    }
   ],
   "source": [
    "df1=[]\n",
    "df2=[]\n",
    "\n",
    "for i in range(1000):\n",
    "    tr = np.random.binomial(10, 0.5)\n",
    "    df1.append(tr)\n",
    "    if tr>=9:\n",
    "        df2.append(1)\n",
    "    else:\n",
    "        df2.append(0)\n",
    "df1, df2\n",
    "df_exp = pd.DataFrame({'try':df1, 'magic':df2})\n",
    "df_exp"
   ]
  },
  {
   "cell_type": "markdown",
   "id": "58b29ed5-d9d5-4228-a71a-9c25e3f1d803",
   "metadata": {},
   "source": [
    "по результатм эксперимента экстрасенсами можно признать"
   ]
  },
  {
   "cell_type": "code",
   "execution_count": 295,
   "id": "5abeeff8-4a19-4092-bdb5-be2e91dd89bc",
   "metadata": {},
   "outputs": [
    {
     "name": "stdout",
     "output_type": "stream",
     "text": [
      "64      9\n",
      "142     9\n",
      "187     9\n",
      "268    10\n",
      "293     9\n",
      "334     9\n",
      "620     9\n",
      "634     9\n",
      "648     9\n",
      "702     9\n",
      "797     9\n",
      "836     9\n",
      "926     9\n",
      "Name: try, dtype: int64\n",
      "13\n"
     ]
    }
   ],
   "source": [
    "z = df_exp[df_exp['magic'] == 1]['try']\n",
    "print(z)\n",
    "print(z.count())"
   ]
  },
  {
   "cell_type": "markdown",
   "id": "2cdcdb39-3b12-48ae-bfb6-4699019faaef",
   "metadata": {},
   "source": [
    "выдвинем гипотезы:  \n",
    "Н0 - экстрасенсов не существует;  \n",
    "Н1 - экстрасенсы существуют  \n",
    "уровень значимости установлен 0,01\n",
    "\n",
    "**проверка без поправки Бонферрони**"
   ]
  },
  {
   "cell_type": "code",
   "execution_count": 296,
   "id": "d58006f3-2671-4839-a157-ac563ccd4b16",
   "metadata": {},
   "outputs": [
    {
     "name": "stdout",
     "output_type": "stream",
     "text": [
      "критерий Стьюдента =  -275.404 ; p_value =  0.0\n"
     ]
    }
   ],
   "source": [
    "mean = df_exp['magic'].mean()\n",
    "a0 = 1\n",
    "std = np.std(df_exp['magic'])\n",
    "n = len(df_exp['magic'])\n",
    "alpha = 0.01\n",
    "\n",
    "t_St = (mean - a0) / (std / (n-1)**0.5)\n",
    "\n",
    "p0 = t.cdf(t_St, n - 1)\n",
    "p1 = 1 - t.cdf(t_St, n - 1)\n",
    "p_value = 2 * min(p0, p1)\n",
    "\n",
    "print('критерий Стьюдента = ', round(t_St,3), '; p_value = ', p_value)"
   ]
  },
  {
   "cell_type": "markdown",
   "id": "7e196d2e-e95e-4bb6-a025-662177153669",
   "metadata": {},
   "source": [
    "p_value (0,00) ниже уровня значимости (0,01), верной является гипотеза Н0 - экстрасенсов не существует"
   ]
  },
  {
   "cell_type": "markdown",
   "id": "2b67bc07-ac2e-4fe8-bb38-007824477a71",
   "metadata": {},
   "source": [
    "**проверка с учётом поправки Бонферрони**:  \n",
    "изначально установленный уровень значимости нужно разделить на количество экспериментов, т.е. в данном случае 0,01/1000"
   ]
  },
  {
   "cell_type": "code",
   "execution_count": 297,
   "id": "126be169-94f4-462d-bd72-309f9e2b3335",
   "metadata": {},
   "outputs": [
    {
     "data": {
      "text/plain": [
       "1e-05"
      ]
     },
     "execution_count": 297,
     "metadata": {},
     "output_type": "execute_result"
    }
   ],
   "source": [
    "alpha = 0.01/len(df_exp['magic'])\n",
    "alpha"
   ]
  },
  {
   "cell_type": "markdown",
   "id": "2fd225ee-5ff2-4fbc-8d44-0ac12a653746",
   "metadata": {},
   "source": [
    "даже с учётом поправки p_value (0,0) ниже уровня значимости (0,00001), верной является гипотеза Н0 - экстрасенсов не существует"
   ]
  },
  {
   "cell_type": "markdown",
   "id": "dd7e7e6a-917b-4469-b02f-2a85e4cb07dd",
   "metadata": {},
   "source": [
    "как посчитать количество \"пойманных\" экстрасенсов с разным уровнем значимости, не понимаю"
   ]
  },
  {
   "cell_type": "code",
   "execution_count": null,
   "id": "1348d49d-e533-4586-89fb-bbd2acd97f44",
   "metadata": {},
   "outputs": [],
   "source": []
  }
 ],
 "metadata": {
  "kernelspec": {
   "display_name": "Python 3 (ipykernel)",
   "language": "python",
   "name": "python3"
  },
  "language_info": {
   "codemirror_mode": {
    "name": "ipython",
    "version": 3
   },
   "file_extension": ".py",
   "mimetype": "text/x-python",
   "name": "python",
   "nbconvert_exporter": "python",
   "pygments_lexer": "ipython3",
   "version": "3.8.12"
  }
 },
 "nbformat": 4,
 "nbformat_minor": 5
}
