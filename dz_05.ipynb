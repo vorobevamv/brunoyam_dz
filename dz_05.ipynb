{
 "cells": [
  {
   "cell_type": "code",
   "execution_count": 1,
   "id": "d5bbb4a2-b22e-4f90-a5d1-b6761598ba1a",
   "metadata": {},
   "outputs": [],
   "source": [
    "import pandas as pd\n",
    "import numpy as np\n",
    "import matplotlib.pyplot as plt"
   ]
  },
  {
   "cell_type": "markdown",
   "id": "e859f2bc-e475-4a07-9e84-e9c3587d9089",
   "metadata": {},
   "source": [
    "### easy  \n",
    "##### оценить с помощью доверительных интервалов:  \n",
    "- выживаемость всех пассажиров (оценить среднее по isSurvived)  \n",
    "- выживаемость женщин  \n",
    "- выживаемость людей с каютами первого класса"
   ]
  },
  {
   "cell_type": "code",
   "execution_count": 2,
   "id": "afa148a3-c261-4a04-8a34-4085abf90711",
   "metadata": {},
   "outputs": [],
   "source": [
    "from scipy.stats import norm"
   ]
  },
  {
   "cell_type": "code",
   "execution_count": 6,
   "id": "4f34b290-d873-4ef2-a4a3-996f95bb0672",
   "metadata": {},
   "outputs": [],
   "source": [
    "from scipy.stats import t"
   ]
  },
  {
   "cell_type": "code",
   "execution_count": 7,
   "id": "85aa6f3b-4e34-44f1-a3de-5067d5b8e048",
   "metadata": {},
   "outputs": [
    {
     "data": {
      "text/html": [
       "<div>\n",
       "<style scoped>\n",
       "    .dataframe tbody tr th:only-of-type {\n",
       "        vertical-align: middle;\n",
       "    }\n",
       "\n",
       "    .dataframe tbody tr th {\n",
       "        vertical-align: top;\n",
       "    }\n",
       "\n",
       "    .dataframe thead th {\n",
       "        text-align: right;\n",
       "    }\n",
       "</style>\n",
       "<table border=\"1\" class=\"dataframe\">\n",
       "  <thead>\n",
       "    <tr style=\"text-align: right;\">\n",
       "      <th></th>\n",
       "      <th>Survived</th>\n",
       "      <th>Pclass</th>\n",
       "      <th>Name</th>\n",
       "      <th>Sex</th>\n",
       "      <th>Age</th>\n",
       "      <th>SibSp</th>\n",
       "      <th>Parch</th>\n",
       "      <th>Ticket</th>\n",
       "      <th>Fare</th>\n",
       "      <th>Cabin</th>\n",
       "      <th>Embarked</th>\n",
       "    </tr>\n",
       "    <tr>\n",
       "      <th>PassengerId</th>\n",
       "      <th></th>\n",
       "      <th></th>\n",
       "      <th></th>\n",
       "      <th></th>\n",
       "      <th></th>\n",
       "      <th></th>\n",
       "      <th></th>\n",
       "      <th></th>\n",
       "      <th></th>\n",
       "      <th></th>\n",
       "      <th></th>\n",
       "    </tr>\n",
       "  </thead>\n",
       "  <tbody>\n",
       "    <tr>\n",
       "      <th>1</th>\n",
       "      <td>0</td>\n",
       "      <td>3</td>\n",
       "      <td>Braund, Mr. Owen Harris</td>\n",
       "      <td>male</td>\n",
       "      <td>22.0</td>\n",
       "      <td>1</td>\n",
       "      <td>0</td>\n",
       "      <td>A/5 21171</td>\n",
       "      <td>7.2500</td>\n",
       "      <td>NaN</td>\n",
       "      <td>S</td>\n",
       "    </tr>\n",
       "    <tr>\n",
       "      <th>2</th>\n",
       "      <td>1</td>\n",
       "      <td>1</td>\n",
       "      <td>Cumings, Mrs. John Bradley (Florence Briggs Th...</td>\n",
       "      <td>female</td>\n",
       "      <td>38.0</td>\n",
       "      <td>1</td>\n",
       "      <td>0</td>\n",
       "      <td>PC 17599</td>\n",
       "      <td>71.2833</td>\n",
       "      <td>C85</td>\n",
       "      <td>C</td>\n",
       "    </tr>\n",
       "    <tr>\n",
       "      <th>3</th>\n",
       "      <td>1</td>\n",
       "      <td>3</td>\n",
       "      <td>Heikkinen, Miss. Laina</td>\n",
       "      <td>female</td>\n",
       "      <td>26.0</td>\n",
       "      <td>0</td>\n",
       "      <td>0</td>\n",
       "      <td>STON/O2. 3101282</td>\n",
       "      <td>7.9250</td>\n",
       "      <td>NaN</td>\n",
       "      <td>S</td>\n",
       "    </tr>\n",
       "    <tr>\n",
       "      <th>4</th>\n",
       "      <td>1</td>\n",
       "      <td>1</td>\n",
       "      <td>Futrelle, Mrs. Jacques Heath (Lily May Peel)</td>\n",
       "      <td>female</td>\n",
       "      <td>35.0</td>\n",
       "      <td>1</td>\n",
       "      <td>0</td>\n",
       "      <td>113803</td>\n",
       "      <td>53.1000</td>\n",
       "      <td>C123</td>\n",
       "      <td>S</td>\n",
       "    </tr>\n",
       "    <tr>\n",
       "      <th>5</th>\n",
       "      <td>0</td>\n",
       "      <td>3</td>\n",
       "      <td>Allen, Mr. William Henry</td>\n",
       "      <td>male</td>\n",
       "      <td>35.0</td>\n",
       "      <td>0</td>\n",
       "      <td>0</td>\n",
       "      <td>373450</td>\n",
       "      <td>8.0500</td>\n",
       "      <td>NaN</td>\n",
       "      <td>S</td>\n",
       "    </tr>\n",
       "  </tbody>\n",
       "</table>\n",
       "</div>"
      ],
      "text/plain": [
       "             Survived  Pclass  \\\n",
       "PassengerId                     \n",
       "1                   0       3   \n",
       "2                   1       1   \n",
       "3                   1       3   \n",
       "4                   1       1   \n",
       "5                   0       3   \n",
       "\n",
       "                                                          Name     Sex   Age  \\\n",
       "PassengerId                                                                    \n",
       "1                                      Braund, Mr. Owen Harris    male  22.0   \n",
       "2            Cumings, Mrs. John Bradley (Florence Briggs Th...  female  38.0   \n",
       "3                                       Heikkinen, Miss. Laina  female  26.0   \n",
       "4                 Futrelle, Mrs. Jacques Heath (Lily May Peel)  female  35.0   \n",
       "5                                     Allen, Mr. William Henry    male  35.0   \n",
       "\n",
       "             SibSp  Parch            Ticket     Fare Cabin Embarked  \n",
       "PassengerId                                                          \n",
       "1                1      0         A/5 21171   7.2500   NaN        S  \n",
       "2                1      0          PC 17599  71.2833   C85        C  \n",
       "3                0      0  STON/O2. 3101282   7.9250   NaN        S  \n",
       "4                1      0            113803  53.1000  C123        S  \n",
       "5                0      0            373450   8.0500   NaN        S  "
      ]
     },
     "execution_count": 7,
     "metadata": {},
     "output_type": "execute_result"
    }
   ],
   "source": [
    "df = pd.read_csv('titanic/train.csv', index_col=0)\n",
    "df.head()"
   ]
  },
  {
   "cell_type": "markdown",
   "id": "f1be3778-ffaa-4216-b87c-3a8143e42398",
   "metadata": {},
   "source": [
    "Доверительный интервал вычисляется по формуле:  \n",
    "    h = Ф(1-u/2)х(std/n^0,5), где  \n",
    "u - уровень значимости, обозначим через alpha и примем alpha=0,05;  \n",
    "std - среднеквадратичное отклонение, вычислим с помощью numpy.std();  \n",
    "n - кол-во элементов.  \n",
    "\n",
    "Среднее значение /mean/ найдём с помощью numpy.mean()"
   ]
  },
  {
   "cell_type": "markdown",
   "id": "092c24bc-947a-4724-8683-846ac05c9399",
   "metadata": {},
   "source": [
    "**выживаемость всех пассажиров**"
   ]
  },
  {
   "cell_type": "code",
   "execution_count": 8,
   "id": "af420093-493a-4daa-8966-780cbf3e7d3d",
   "metadata": {},
   "outputs": [
    {
     "name": "stdout",
     "output_type": "stream",
     "text": [
      "с уровнем значимости 0.05 шанс выжить для всех пассажиров находится в промежутке от 0.35 до 0.42\n"
     ]
    }
   ],
   "source": [
    "#если дисперсия известна\n",
    "np_all = df['Survived'].to_numpy()\n",
    "alpha = 0.05\n",
    "std1 = np.std(np_all)\n",
    "n1 = len(np_all)\n",
    "mean1 = np.mean(np_all)\n",
    "h1 = norm.ppf(1 - alpha / 2) * std1 / np.sqrt(n1)\n",
    "\n",
    "print('с уровнем значимости', alpha, 'шанс выжить для всех пассажиров находится в промежутке от', round(mean1-h1,2), 'до', round(mean1+h1,2))"
   ]
  },
  {
   "cell_type": "code",
   "execution_count": 9,
   "id": "ba301302-0d14-4fa9-a86d-df684ca28d79",
   "metadata": {},
   "outputs": [
    {
     "name": "stdout",
     "output_type": "stream",
     "text": [
      "с уровнем значимости 0.05 шанс выжить для всех пассажиров находится в промежутке (-0.5706279699919354, 1.3383047376687032)\n"
     ]
    }
   ],
   "source": [
    "#если дисперсия не известна\n",
    "np_all = df['Survived'].to_numpy()\n",
    "alpha = 0.05\n",
    "std1 = np.std(np_all)\n",
    "n1 = len(np_all)\n",
    "mean1 = np.mean(np_all)\n",
    "\n",
    "t.interval(1 - alpha, n1 - 1, loc=mean1, scale=std1)\n",
    "print('с уровнем значимости', alpha, 'шанс выжить для всех пассажиров находится в промежутке',t.interval(1 - alpha, n1 - 1, loc=mean1, scale=std1))"
   ]
  },
  {
   "cell_type": "markdown",
   "id": "44926b97-a0e4-4c14-b900-7b10c44b4fba",
   "metadata": {},
   "source": [
    "**выживаемость женщин**"
   ]
  },
  {
   "cell_type": "code",
   "execution_count": 10,
   "id": "38f23fbd-4b4c-4496-8b39-2f8f4eeabb1a",
   "metadata": {},
   "outputs": [
    {
     "name": "stdout",
     "output_type": "stream",
     "text": [
      "с уровнем значимости 0.05 шанс выжить для пассажиров-женщин находится в промежутке от 0.69 до 0.79\n"
     ]
    }
   ],
   "source": [
    "#если дисперсия известна\n",
    "np_fem = df[df['Sex']=='female']['Survived'].to_numpy()\n",
    "alpha = 0.05\n",
    "std2 = np.std(np_fem)\n",
    "n2 = len(np_fem)\n",
    "mean2 = np.mean(np_fem)\n",
    "h2 = norm.ppf(1 - alpha / 2) * std2 / np.sqrt(n2)\n",
    "\n",
    "print('с уровнем значимости', alpha, 'шанс выжить для пассажиров-женщин находится в промежутке от', round(mean2-h2,2), 'до', round(mean2+h2,2))"
   ]
  },
  {
   "cell_type": "code",
   "execution_count": 11,
   "id": "6be4f4c1-c744-4d36-98c2-33ea92c83fd3",
   "metadata": {},
   "outputs": [
    {
     "name": "stdout",
     "output_type": "stream",
     "text": [
      "с уровнем значимости 0.5 шанс выжить для пассажиров-женщин находится в промежутке (0.4465969924211885, 1.0374794406998304)\n"
     ]
    }
   ],
   "source": [
    "#если дисперсия не известна\n",
    "np_fem = df[df['Sex']=='female']['Survived'].to_numpy()\n",
    "alpha = 0.5\n",
    "std2 = np.std(np_fem)\n",
    "n2 = len(np_fem)\n",
    "mean2 = np.mean(np_fem)\n",
    "\n",
    "t.interval(1 - alpha, n2 - 1, loc=mean2, scale=std2)\n",
    "print('с уровнем значимости', alpha, 'шанс выжить для пассажиров-женщин находится в промежутке',t.interval(1 - alpha, n2 - 1, loc=mean2, scale=std2))"
   ]
  },
  {
   "cell_type": "markdown",
   "id": "5f263d88-c787-4f85-b6bc-ba9a0c4928a1",
   "metadata": {},
   "source": [
    "**выживаемость людей с каютами первого класса**"
   ]
  },
  {
   "cell_type": "code",
   "execution_count": 12,
   "id": "78927a3e-3e05-474b-87ea-1c58a2409c10",
   "metadata": {},
   "outputs": [
    {
     "name": "stdout",
     "output_type": "stream",
     "text": [
      "с уровнем значимости 0.05 шанс выжить для пассажиров первого класса находится в промежутке от 0.57 до 0.69\n"
     ]
    }
   ],
   "source": [
    "#если дисперсия известна\n",
    "np_fcl = df[df['Pclass']==1]['Survived'].to_numpy()\n",
    "alpha = 0.05\n",
    "std3 = np.std(np_fcl)\n",
    "n3 = len(np_fcl)\n",
    "mean3 = np.mean(np_fcl)\n",
    "h3 = norm.ppf(1 - alpha / 2) * std3 / np.sqrt(n3)\n",
    "\n",
    "print('с уровнем значимости', alpha, 'шанс выжить для пассажиров первого класса находится в промежутке от', round(mean3-h3,2), 'до', round(mean3+h3,2))"
   ]
  },
  {
   "cell_type": "code",
   "execution_count": 13,
   "id": "6dd6269c-bde4-4a46-9c23-74095722912a",
   "metadata": {},
   "outputs": [
    {
     "name": "stdout",
     "output_type": "stream",
     "text": [
      "с уровнем значимости 0.05 шанс выжить для пассажиров первого класса находится в промежутке (-0.32220247183702544, 1.5814617310962849)\n"
     ]
    }
   ],
   "source": [
    "#если дисперсия не известна\n",
    "np_fcl = df[df['Pclass']==1]['Survived'].to_numpy()\n",
    "alpha = 0.05\n",
    "std3 = np.std(np_fcl)\n",
    "n3 = len(np_fcl)\n",
    "mean3 = np.mean(np_fcl)\n",
    "\n",
    "t.interval(1 - alpha, n3 - 1, loc=mean3, scale=std3)\n",
    "print('с уровнем значимости', alpha, 'шанс выжить для пассажиров первого класса находится в промежутке',t.interval(1 - alpha, n3 - 1, loc=mean3, scale=std3))"
   ]
  },
  {
   "cell_type": "markdown",
   "id": "80b90160-8fc4-4431-8c66-400e99a70072",
   "metadata": {},
   "source": [
    "##### ответить на вопросы:\n",
    "**какой вариант оценки доверительных интервалов нужно использовать в данной задаче и почему?**  \n",
    "Есть два варианта оценки: когда дисперсия известна и когда не известна.  \n",
    "Выбираем вариант расчёта, когда дисперсия неизвестна, т.к.выживаемость оценивается для гипотетических пассажиров, данных по которым нет в выборке, и дисперсию, соответственно, посчитать нельзя.\n",
    "\n",
    "**какая из ошибок более критична для данной задачи - I или II рода?**  \n",
    "В данном случае ошибка первого рода - предположить, что пассажир выживет, а на самом деле он не выживет; ошибка второго рода - предположить, что пассажир не выживет, а он на самом деле выживет.  \n",
    "Какая ошибка более критична зависит от точки зрения: с точки зрения дара ложной надежды (для родственникиков, например) и последующего разочарования, критичней ошибка первого рода; с точки зрения необходимости найти/подобрать всех выживших пассажиров, критичней ошибка второго рода. Иначе говоря, при допущении ошибки первого рода погибший человек будет считаться выжившим, при допущении ошибки второго рода, выживший пассажир будет считаться погибшим."
   ]
  },
  {
   "cell_type": "markdown",
   "id": "8e9a9a8d-3856-4334-8e2e-992121ac3b85",
   "metadata": {},
   "source": [
    "### normal  \n",
    "##### проверить гипотезы:  \n",
    "- о том, что женщины выживают чаще мужчин с уровнем значимости 0.05;  \n",
    "- о том, что дети выживают чаще, чем взрослые.  \n",
    "\n",
    "алгоритм проверки статистических гипотез:\n",
    "1. формулируем гипотезы H0 и H1  \n",
    "2. выбираем уровень значимости  \n",
    "3. определяем статистический критерий  \n",
    "4. рассчитываем критерий  \n",
    "5. принимаем решение  "
   ]
  },
  {
   "cell_type": "markdown",
   "id": "afac9982-4248-4abb-b6ab-9b746ac26a49",
   "metadata": {},
   "source": [
    "**проверка гипотезы о том, что женщины выживают чаще мужчин** \n",
    "1. Н0 - \"выживаемости\" мужчин и женщин равны;  \n",
    "Н1 - женщины выживают реже мужчин;\n",
    "2. уровень значимости 0,05;\n",
    "3. т.к. по факту сравниваюся численные значения (вероятность выживания), следует применить критерий значимости;  \n",
    "для проверки равенства средних значений в двух выборках принято использовать t-критерий Стьюдента;\n",
    "4. рассчёт:"
   ]
  },
  {
   "cell_type": "code",
   "execution_count": 19,
   "id": "76144ff3-1f38-4baf-b502-2ccde01b6c13",
   "metadata": {},
   "outputs": [],
   "source": [
    "from scipy.stats import ttest_ind\n",
    "from scipy.stats import t\n",
    "import scipy"
   ]
  },
  {
   "cell_type": "code",
   "execution_count": 20,
   "id": "a8deffbb-0b5a-4d25-96ff-c1a2172c2fed",
   "metadata": {},
   "outputs": [
    {
     "data": {
      "text/plain": [
       "Ttest_indResult(statistic=19.29781655012335, pvalue=1.4060661308802594e-69)"
      ]
     },
     "execution_count": 20,
     "metadata": {},
     "output_type": "execute_result"
    }
   ],
   "source": [
    "sample_fem = df[df['Sex']=='female']['Survived'].to_numpy()\n",
    "sample_male = df[df['Sex']=='male']['Survived'].to_numpy()\n",
    "\n",
    "scipy.stats.ttest_ind(sample_fem, sample_male)"
   ]
  },
  {
   "cell_type": "markdown",
   "id": "4acdc42a-7f49-4d74-9428-d1dcb8352386",
   "metadata": {},
   "source": [
    "5. решение: так как p_value (1.4*10^-69) ниже уровня значимости (0,05), гипотезу Н0 отвергаем, верной является гипотеза Н1 - женщины выживают чаще мужчин"
   ]
  },
  {
   "cell_type": "markdown",
   "id": "6e540ccb-d6a6-4555-96fc-60dd2e4c8297",
   "metadata": {},
   "source": [
    "**проверка гипотезы о том, что дети выживают чаще, чем взрослые** \n",
    "1. Н0 - \"выживаемости\" детей и взрослых равны;  \n",
    "Н1 - дети выживают не чаще, чем взрослые;\n",
    "2. уровень значимости 0,05;\n",
    "3. используем t-критерий Стьюдента;\n",
    "4. рассчёт:"
   ]
  },
  {
   "cell_type": "code",
   "execution_count": 21,
   "id": "7ab2b480-2a70-4dcf-9508-d6e4ecbe6021",
   "metadata": {},
   "outputs": [
    {
     "data": {
      "text/plain": [
       "Ttest_indResult(statistic=3.171077486504452, pvalue=0.0015838873450969102)"
      ]
     },
     "execution_count": 21,
     "metadata": {},
     "output_type": "execute_result"
    }
   ],
   "source": [
    "sample_child = df[df['Age']<18]['Survived'].to_numpy()\n",
    "sample_adult = df[df['Age']>=18]['Survived'].to_numpy()\n",
    "\n",
    "scipy.stats.ttest_ind(sample_child, sample_adult)  "
   ]
  },
  {
   "cell_type": "markdown",
   "id": "6066b63a-e8d7-4101-a9b1-be435eb6e041",
   "metadata": {},
   "source": [
    "5. решение: так как p_value (0,0016) ниже уровня значимости (0,05), гипотезу Н0 отвергаем, верной является гипотеза Н1 - дети выживают чаще взрослых"
   ]
  },
  {
   "cell_type": "code",
   "execution_count": 285,
   "id": "5e8496cc-1b47-41a5-8a27-ea9f054fdb78",
   "metadata": {},
   "outputs": [
    {
     "data": {
      "text/plain": [
       "(0.5398230088495575, 0.3810316139767055)"
      ]
     },
     "execution_count": 285,
     "metadata": {},
     "output_type": "execute_result"
    }
   ],
   "source": [
    "#проверка\n",
    "xxx = df[(df['Survived'] == 1) & (df['Age'] <18)]['Survived'].count() / df[df['Age'] <18]['Survived'].count()\n",
    "yyy = df[(df['Survived'] == 1) & (df['Age'] >=18)]['Survived'].count() / df[df['Age'] >=18]['Survived'].count()\n",
    "\n",
    "xxx, yyy"
   ]
  },
  {
   "cell_type": "markdown",
   "id": "bb41027e-f04e-4973-85b6-ce7223b2df2c",
   "metadata": {},
   "source": [
    "### hard  \n",
    "##### задача:  \n",
    "Мы отобрали 1000 человек, которые заявляют, что они экстрасенсы. Мы хотим проверить это. Для этого проводится следующий эксперимент. Перед каждым участником выкладывают 10 карт рубашкой вверх и просят угадать цвет карты (красный или черный). На уровне значимости 0.01 мы хотим быть уверены, является ли человек экстрасенсом.\n",
    "Нужно смоделировать ситуацию двумя способами (предполагаем, что экстрасенсов не существует и решения участников представляют из себя биномиальное распределение):  \n",
    "без множественной проверки гипотез, выявить количество экстрасенсов  \n",
    "с множественной проверкой гипотез, используя поправку Бонферрони (правило FWER)  \n",
    "Сколько экстрасенсов получилось поймать в каждом из случаев?"
   ]
  },
  {
   "cell_type": "markdown",
   "id": "35fae8e0-0372-423e-aaf4-30004c682113",
   "metadata": {},
   "source": [
    "сформируем случайном образом результаты эксперимента:  \n",
    "'try' - количество верно угаданных карт (0-10) "
   ]
  },
  {
   "cell_type": "code",
   "execution_count": 22,
   "id": "06be9f6a-11a6-41d6-a556-b90c6a3cda43",
   "metadata": {},
   "outputs": [
    {
     "data": {
      "text/html": [
       "<div>\n",
       "<style scoped>\n",
       "    .dataframe tbody tr th:only-of-type {\n",
       "        vertical-align: middle;\n",
       "    }\n",
       "\n",
       "    .dataframe tbody tr th {\n",
       "        vertical-align: top;\n",
       "    }\n",
       "\n",
       "    .dataframe thead th {\n",
       "        text-align: right;\n",
       "    }\n",
       "</style>\n",
       "<table border=\"1\" class=\"dataframe\">\n",
       "  <thead>\n",
       "    <tr style=\"text-align: right;\">\n",
       "      <th></th>\n",
       "      <th>try</th>\n",
       "    </tr>\n",
       "  </thead>\n",
       "  <tbody>\n",
       "    <tr>\n",
       "      <th>0</th>\n",
       "      <td>3</td>\n",
       "    </tr>\n",
       "    <tr>\n",
       "      <th>1</th>\n",
       "      <td>4</td>\n",
       "    </tr>\n",
       "    <tr>\n",
       "      <th>2</th>\n",
       "      <td>7</td>\n",
       "    </tr>\n",
       "    <tr>\n",
       "      <th>3</th>\n",
       "      <td>4</td>\n",
       "    </tr>\n",
       "    <tr>\n",
       "      <th>4</th>\n",
       "      <td>4</td>\n",
       "    </tr>\n",
       "    <tr>\n",
       "      <th>...</th>\n",
       "      <td>...</td>\n",
       "    </tr>\n",
       "    <tr>\n",
       "      <th>995</th>\n",
       "      <td>4</td>\n",
       "    </tr>\n",
       "    <tr>\n",
       "      <th>996</th>\n",
       "      <td>7</td>\n",
       "    </tr>\n",
       "    <tr>\n",
       "      <th>997</th>\n",
       "      <td>4</td>\n",
       "    </tr>\n",
       "    <tr>\n",
       "      <th>998</th>\n",
       "      <td>6</td>\n",
       "    </tr>\n",
       "    <tr>\n",
       "      <th>999</th>\n",
       "      <td>6</td>\n",
       "    </tr>\n",
       "  </tbody>\n",
       "</table>\n",
       "<p>1000 rows × 1 columns</p>\n",
       "</div>"
      ],
      "text/plain": [
       "     try\n",
       "0      3\n",
       "1      4\n",
       "2      7\n",
       "3      4\n",
       "4      4\n",
       "..   ...\n",
       "995    4\n",
       "996    7\n",
       "997    4\n",
       "998    6\n",
       "999    6\n",
       "\n",
       "[1000 rows x 1 columns]"
      ]
     },
     "execution_count": 22,
     "metadata": {},
     "output_type": "execute_result"
    }
   ],
   "source": [
    "df1=[]\n",
    "for i in range(1000):\n",
    "    tr = np.random.binomial(10, 0.5)\n",
    "    df1.append(tr)\n",
    "df_exp = pd.DataFrame({'try':df1})\n",
    "df_exp"
   ]
  },
  {
   "cell_type": "markdown",
   "id": "58b29ed5-d9d5-4228-a71a-9c25e3f1d803",
   "metadata": {},
   "source": [
    "вероятность для биномиального распределения можно определить по формуле:  \n",
    "P = C$_{n}^{k}$ * p$^{k}$ * q$^{n-k}$, где  \n",
    "    C$_{n}^{k}$ - биномиальный коэффициент, вычисляется по формуле:  \n",
    "        C$_{n}^{k}$ = ${n! \\over k! * (n-k)!}$  \n",
    "p - вероятность успеха в каждом испытании, p = 0.5  \n",
    "q - вероятность неудачи в каждом испытании, q = 1-p = 1-0.5 = 0.5  \n",
    "n - количество испытаний для каждого эксперимента (здесь - количество карт, отгадываемых каждым испытуемым), n = 10  \n",
    "k - размер выборок (здесь - количество правильно угаданных карт)  \n",
    "\n",
    "установленный уровень значимости 0,01\n",
    "\n",
    "с поправкой Бонферрони изначально установленный уровень значимости нужно разделить на количество экспериментов, т.е. в данном случае ${0,01 \\over 1000}$ = 1*10$^{-5}$\n",
    "\n",
    "вероятность должна находится в пределах уровня значимости\n",
    "\n",
    "таким образом, задача сводится к вычислению k для двух уровней значимости и подсчёта количества результатов с полученными значениями"
   ]
  },
  {
   "cell_type": "code",
   "execution_count": 24,
   "id": "5abeeff8-4a19-4092-bdb5-be2e91dd89bc",
   "metadata": {},
   "outputs": [],
   "source": [
    "import math"
   ]
  },
  {
   "cell_type": "code",
   "execution_count": 29,
   "id": "fba56fbb-da72-4364-a9ab-0ebc630e8adf",
   "metadata": {},
   "outputs": [
    {
     "name": "stdout",
     "output_type": "stream",
     "text": [
      "1 1285956000.0\n",
      "2 71442000.0\n",
      "3 2976750.0\n",
      "4 106312.5\n",
      "5 3543.75\n",
      "6 118.125\n",
      "7 4.21875\n",
      "8 0.17578125\n",
      "9 0.009765625\n",
      "10 0.0009765625\n",
      "\n",
      "для признания испытуемого экстрасенсом при уровне значимости (без поправки Бонферрони) =  0.01 , он должен угадать минимум  9  карт из десяти; при уровне при значимости (с учётом поправки Бонферрони) =  1e-05 , он должен угадать минимум  nan  карт из десяти\n"
     ]
    }
   ],
   "source": [
    "alpha1 = 0.01\n",
    "alpha2 = 0.01/1000\n",
    "n = 10\n",
    "p = 0.5\n",
    "q = 1-p\n",
    "\n",
    "df_k = []\n",
    "df_P = []\n",
    "for k in [1,2,3,4,5,6,7,8,9,10]:\n",
    "    P = (math.factorial(n) / math.factorial(k)*math.factorial(n-k))*p**k*q**(n-k)\n",
    "    df_k.append(k)\n",
    "    df_P.append(P)\n",
    "    print(k,P)\n",
    "df_res = pd.DataFrame({'k':df_k, 'P':df_P})\n",
    "#print(df_res)\n",
    "\n",
    "k1 = df_res[df_res['P']<= alpha1]['k'].min()\n",
    "k2 = df_res[df_res['P']<= alpha2]['k'].min()\n",
    "\n",
    "print()\n",
    "print('для признания испытуемого экстрасенсом при уровне значимости (без поправки Бонферрони) = ',alpha1, ', он должен угадать минимум ', k1,\n",
    "' карт из десяти; при уровне при значимости (с учётом поправки Бонферрони) = ',alpha2, ', он должен угадать минимум ', k2,\n",
    "' карт из десяти')"
   ]
  },
  {
   "cell_type": "markdown",
   "id": "3afe50cf-9a18-4f41-afc6-807c62601318",
   "metadata": {},
   "source": [
    "таким образом, в первом случае экстрасенсами считаются испытуемые, угадавшие 9 или 10 карт; во втором с выбранным уровнем значимсти в данном эксперименте определить экстрасенса невозможно (остаётся принять, что их нет)"
   ]
  },
  {
   "cell_type": "code",
   "execution_count": 28,
   "id": "a72669f6-669a-40b3-9de1-980aff157c60",
   "metadata": {},
   "outputs": [
    {
     "name": "stdout",
     "output_type": "stream",
     "text": [
      "40      9\n",
      "139     9\n",
      "201     9\n",
      "224     9\n",
      "355     9\n",
      "357    10\n",
      "368     9\n",
      "433     9\n",
      "458     9\n",
      "499    10\n",
      "543     9\n",
      "735     9\n",
      "900     9\n",
      "Name: try, dtype: int64\n",
      "\n",
      "при уровне значимости (без поправки Бонферрони) =  0.01 экстрасенсами можно признать 13 испытуемых\n"
     ]
    }
   ],
   "source": [
    "z = df_exp[df_exp['try'] >= 9]['try']\n",
    "print(z)\n",
    "print()\n",
    "print('при уровне значимости (без поправки Бонферрони) = ',alpha1, 'экстрасенсами можно признать',z.count(),'испытуемых')"
   ]
  },
  {
   "cell_type": "code",
   "execution_count": null,
   "id": "91624dcd-f724-4b3a-b401-3664ef733728",
   "metadata": {},
   "outputs": [],
   "source": []
  }
 ],
 "metadata": {
  "kernelspec": {
   "display_name": "Python 3 (ipykernel)",
   "language": "python",
   "name": "python3"
  },
  "language_info": {
   "codemirror_mode": {
    "name": "ipython",
    "version": 3
   },
   "file_extension": ".py",
   "mimetype": "text/x-python",
   "name": "python",
   "nbconvert_exporter": "python",
   "pygments_lexer": "ipython3",
   "version": "3.8.12"
  }
 },
 "nbformat": 4,
 "nbformat_minor": 5
}
