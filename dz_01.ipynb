{
 "cells": [
  {
   "cell_type": "code",
   "execution_count": 30,
   "id": "318bf27e",
   "metadata": {},
   "outputs": [
    {
     "name": "stdout",
     "output_type": "stream",
     "text": [
      "[]\n"
     ]
    }
   ],
   "source": [
    "#easy\n",
    "input_e_list = []\n",
    "def square_e_list(input_e_list):\n",
    "    new_e_list = []\n",
    "    for i in input_e_list:\n",
    "        new_e_list.append(i*i)\n",
    "    return new_e_list\n",
    "result_e_list = square_e_list(input_e_list)\n",
    "print(result_e_list)"
   ]
  },
  {
   "cell_type": "code",
   "execution_count": 31,
   "id": "f4ae3aaf",
   "metadata": {},
   "outputs": [
    {
     "name": "stdout",
     "output_type": "stream",
     "text": [
      "[0, 1, 4, 9, 16, 25, 36, 49, 64, 81]\n"
     ]
    }
   ],
   "source": [
    "#easy для list(range(10))\n",
    "input_e_list = [i for i in range(10)]\n",
    "result_e_list = square_e_list(input_e_list)\n",
    "print(result_e_list)"
   ]
  },
  {
   "cell_type": "code",
   "execution_count": 32,
   "id": "2db772d6",
   "metadata": {},
   "outputs": [
    {
     "name": "stdout",
     "output_type": "stream",
     "text": [
      "[0, 1, 4, 9, 16, 25, 36, 49, 64, 81, 100, 121, 144, 169, 196, 225, 256, 289, 324, 361, 400, 441, 484, 529, 576, 625, 676, 729, 784, 841, 900, 961, 1024, 1089, 1156, 1225, 1296, 1369, 1444, 1521, 1600, 1681, 1764, 1849, 1936, 2025, 2116, 2209, 2304, 2401, 2500, 2601, 2704, 2809, 2916, 3025, 3136, 3249, 3364, 3481, 3600, 3721, 3844, 3969, 4096, 4225, 4356, 4489, 4624, 4761, 4900, 5041, 5184, 5329, 5476, 5625, 5776, 5929, 6084, 6241, 6400, 6561, 6724, 6889, 7056, 7225, 7396, 7569, 7744, 7921, 8100, 8281, 8464, 8649, 8836, 9025, 9216, 9409, 9604, 9801]\n"
     ]
    }
   ],
   "source": [
    "#easy для list(range(100))\n",
    "input_e_list = [i for i in range(100)]\n",
    "result_e_list = square_e_list(input_e_list)\n",
    "print(result_e_list)"
   ]
  },
  {
   "cell_type": "code",
   "execution_count": 33,
   "id": "98d19852",
   "metadata": {},
   "outputs": [
    {
     "name": "stdout",
     "output_type": "stream",
     "text": [
      "[]\n"
     ]
    }
   ],
   "source": [
    "#easy для list()\n",
    "input_e_list = []\n",
    "result_e_list = square_e_list(input_e_list)\n",
    "print(result_e_list)"
   ]
  },
  {
   "cell_type": "code",
   "execution_count": 44,
   "id": "898de887",
   "metadata": {},
   "outputs": [
    {
     "name": "stdout",
     "output_type": "stream",
     "text": [
      "[]\n"
     ]
    }
   ],
   "source": [
    "#normal\n",
    "input_n_list = []\n",
    "def square_n_list(x):\n",
    "    return x*x\n",
    "    result_n_list = list(map(square_n_list,input_n_list))\n",
    "print(result_n_list)"
   ]
  },
  {
   "cell_type": "code",
   "execution_count": 36,
   "id": "1dc6b4ff",
   "metadata": {},
   "outputs": [
    {
     "name": "stdout",
     "output_type": "stream",
     "text": [
      "[0, 1, 4, 9, 16, 25, 36, 49, 64, 81]\n"
     ]
    }
   ],
   "source": [
    "#normal для list(range(10))\n",
    "input_n_list = [i for i in range(10)]\n",
    "result_n_list = list(map(square_n_list,input_n_list))\n",
    "print(result_n_list)"
   ]
  },
  {
   "cell_type": "code",
   "execution_count": 37,
   "id": "2cc75504",
   "metadata": {},
   "outputs": [
    {
     "name": "stdout",
     "output_type": "stream",
     "text": [
      "[0, 1, 4, 9, 16, 25, 36, 49, 64, 81, 100, 121, 144, 169, 196, 225, 256, 289, 324, 361, 400, 441, 484, 529, 576, 625, 676, 729, 784, 841, 900, 961, 1024, 1089, 1156, 1225, 1296, 1369, 1444, 1521, 1600, 1681, 1764, 1849, 1936, 2025, 2116, 2209, 2304, 2401, 2500, 2601, 2704, 2809, 2916, 3025, 3136, 3249, 3364, 3481, 3600, 3721, 3844, 3969, 4096, 4225, 4356, 4489, 4624, 4761, 4900, 5041, 5184, 5329, 5476, 5625, 5776, 5929, 6084, 6241, 6400, 6561, 6724, 6889, 7056, 7225, 7396, 7569, 7744, 7921, 8100, 8281, 8464, 8649, 8836, 9025, 9216, 9409, 9604, 9801]\n"
     ]
    }
   ],
   "source": [
    "#normal для list(range(100))\n",
    "input_n_list = [i for i in range(100)]\n",
    "result_n_list = list(map(square_n_list,input_n_list))\n",
    "print(result_n_list)"
   ]
  },
  {
   "cell_type": "code",
   "execution_count": 38,
   "id": "762d0c42",
   "metadata": {},
   "outputs": [
    {
     "name": "stdout",
     "output_type": "stream",
     "text": [
      "[]\n"
     ]
    }
   ],
   "source": [
    "#normal для list()\n",
    "input_n_list = []\n",
    "result_n_list = list(map(square_n_list,input_n_list))\n",
    "print(result_n_list)"
   ]
  },
  {
   "cell_type": "code",
   "execution_count": 34,
   "id": "09d6dec6",
   "metadata": {},
   "outputs": [
    {
     "name": "stdout",
     "output_type": "stream",
     "text": [
      "195 ns ± 9.82 ns per loop (mean ± std. dev. of 7 runs, 1000000 loops each)\n"
     ]
    }
   ],
   "source": [
    "%%timeit\n",
    "square_e_list(input_e_list)"
   ]
  },
  {
   "cell_type": "code",
   "execution_count": 47,
   "id": "79dbfc21",
   "metadata": {},
   "outputs": [
    {
     "name": "stdout",
     "output_type": "stream",
     "text": [
      "449 ns ± 5.91 ns per loop (mean ± std. dev. of 7 runs, 1000000 loops each)\n"
     ]
    }
   ],
   "source": [
    "%%timeit\n",
    "list(map(square_n_list,input_n_list))"
   ]
  },
  {
   "cell_type": "code",
   "execution_count": null,
   "id": "5c883f4a",
   "metadata": {},
   "outputs": [],
   "source": [
    "#по времени выдаёт разные результаты; почему-то с map дольше получается; замена \"х**2\" на \"х*х\" значительно сокращает время"
   ]
  },
  {
   "cell_type": "code",
   "execution_count": 12,
   "id": "bb03fe8a",
   "metadata": {},
   "outputs": [],
   "source": [
    "#hard\n",
    "def mmm_count(input_h_list):\n",
    "    n = len(input_h_list)  \n",
    "    \n",
    "    c=0\n",
    "    for i in range (n):\n",
    "        c+=input_h_list[i]\n",
    "    mean = c/n\n",
    "    \n",
    "    input_h_list_sort=sorted(input_h_list)\n",
    "    #n_med=(n+1)//2\n",
    "    n_med=n//2\n",
    "    median = input_h_list_sort[n_med]\n",
    "    \n",
    "    mode_list=[]\n",
    "    for i in range (n):\n",
    "        mode_list.append(input_h_list.count(i))\n",
    "    mode_list_sort = sorted(mode_list)\n",
    "    m = len(mode_list_sort)\n",
    "    c1 = mode_list_sort[m-1]\n",
    "    if c1==1:\n",
    "        mode = ['no mode']\n",
    "    else:   \n",
    "        for i in range (n):\n",
    "            c2=input_h_list_sort.count(i)\n",
    "            if c2==c1:\n",
    "                mode = input_h_list_sort[i]\n",
    "                \n",
    "    mmm_dic={'mean':mean,'median':median,'mode':mode}\n",
    "    return mmm_dic"
   ]
  },
  {
   "cell_type": "code",
   "execution_count": 13,
   "id": "2c1a29c5",
   "metadata": {},
   "outputs": [
    {
     "data": {
      "text/plain": [
       "{'mean': 3.4285714285714284, 'median': 3, 'mode': 1}"
      ]
     },
     "execution_count": 13,
     "metadata": {},
     "output_type": "execute_result"
    }
   ],
   "source": [
    "#hard для input_h_list=[0,1,1,10,5,4,3]\n",
    "input_h_list=[0,1,1,10,5,4,3]\n",
    "mmm_count(input_h_list)"
   ]
  },
  {
   "cell_type": "code",
   "execution_count": 14,
   "id": "22168770",
   "metadata": {},
   "outputs": [
    {
     "name": "stdout",
     "output_type": "stream",
     "text": [
      "первое число 2\n",
      "второе число 1\n",
      "третье число 3\n",
      "['1', '2', '3']\n"
     ]
    }
   ],
   "source": [
    "#расположение чисел по возрастанию с использованием if\n",
    "a = input('первое число ')\n",
    "b = input('второе число ')\n",
    "c = input('третье число ')\n",
    "a, b, c\n",
    "if a>b:\n",
    "    if a>c:\n",
    "        p3=a\n",
    "        if b>c:\n",
    "            p2=b\n",
    "            p1=c\n",
    "        else:\n",
    "            p2=c\n",
    "            p1=b\n",
    "    else:\n",
    "        p3=c\n",
    "        p2=a\n",
    "        p1=b\n",
    "else:\n",
    "    if b>c:\n",
    "        p3=b\n",
    "        if a>c:\n",
    "            p1=c\n",
    "            p2=a\n",
    "        else:\n",
    "            p1=a\n",
    "            p2=c\n",
    "    else:\n",
    "        p3=c\n",
    "        p2=b\n",
    "        p1=a\n",
    "sort_list=[p1,p2,p3]                \n",
    "print(sort_list)"
   ]
  },
  {
   "cell_type": "code",
   "execution_count": 20,
   "id": "1735d512",
   "metadata": {},
   "outputs": [
    {
     "name": "stdout",
     "output_type": "stream",
     "text": [
      "количество чисел для сортировки 5\n",
      "введите число 3\n",
      "введите число 1\n",
      "введите число 5\n",
      "введите число 4\n",
      "введите число 2\n",
      "['1', '2', '3', '4', '5']\n"
     ]
    }
   ],
   "source": [
    "#расположение чисел по возрастанию с использованием списка\n",
    "n_sort=int(input('количество чисел для сортировки '))\n",
    "input_abc_list=[]\n",
    "for i in range (n_sort):\n",
    "    a = input('введите число ')\n",
    "    input_abc_list.append(a)\n",
    "input_abc_list_sort=sorted(input_abc_list)\n",
    "print (input_abc_list_sort)"
   ]
  },
  {
   "cell_type": "code",
   "execution_count": null,
   "id": "3a8aa8e4",
   "metadata": {},
   "outputs": [],
   "source": []
  }
 ],
 "metadata": {
  "kernelspec": {
   "display_name": "Python 3",
   "language": "python",
   "name": "python3"
  },
  "language_info": {
   "codemirror_mode": {
    "name": "ipython",
    "version": 3
   },
   "file_extension": ".py",
   "mimetype": "text/x-python",
   "name": "python",
   "nbconvert_exporter": "python",
   "pygments_lexer": "ipython3",
   "version": "3.8.8"
  }
 },
 "nbformat": 4,
 "nbformat_minor": 5
}
