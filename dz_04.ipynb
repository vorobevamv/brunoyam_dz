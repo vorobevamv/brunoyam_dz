{
 "cells": [
  {
   "cell_type": "code",
   "execution_count": 6,
   "id": "38c5b8d0-2e2d-4b38-9e60-2b10f1d98422",
   "metadata": {},
   "outputs": [],
   "source": [
    "import numpy as np\n",
    "import pandas as pd\n",
    "import matplotlib.pyplot as plt\n",
    "\n",
    "from scipy.optimize import minimize\n",
    "import scipy.stats"
   ]
  },
  {
   "cell_type": "code",
   "execution_count": 8,
   "id": "2da074d1-9573-4e4f-b63a-a7ffc603c52f",
   "metadata": {},
   "outputs": [
    {
     "data": {
      "text/html": [
       "<div>\n",
       "<style scoped>\n",
       "    .dataframe tbody tr th:only-of-type {\n",
       "        vertical-align: middle;\n",
       "    }\n",
       "\n",
       "    .dataframe tbody tr th {\n",
       "        vertical-align: top;\n",
       "    }\n",
       "\n",
       "    .dataframe thead th {\n",
       "        text-align: right;\n",
       "    }\n",
       "</style>\n",
       "<table border=\"1\" class=\"dataframe\">\n",
       "  <thead>\n",
       "    <tr style=\"text-align: right;\">\n",
       "      <th></th>\n",
       "      <th>PassengerId</th>\n",
       "      <th>Survived</th>\n",
       "      <th>Pclass</th>\n",
       "      <th>Name</th>\n",
       "      <th>Sex</th>\n",
       "      <th>Age</th>\n",
       "      <th>SibSp</th>\n",
       "      <th>Parch</th>\n",
       "      <th>Ticket</th>\n",
       "      <th>Fare</th>\n",
       "      <th>Cabin</th>\n",
       "      <th>Embarked</th>\n",
       "    </tr>\n",
       "  </thead>\n",
       "  <tbody>\n",
       "    <tr>\n",
       "      <th>0</th>\n",
       "      <td>1</td>\n",
       "      <td>0</td>\n",
       "      <td>3</td>\n",
       "      <td>Braund, Mr. Owen Harris</td>\n",
       "      <td>male</td>\n",
       "      <td>22.0</td>\n",
       "      <td>1</td>\n",
       "      <td>0</td>\n",
       "      <td>A/5 21171</td>\n",
       "      <td>7.2500</td>\n",
       "      <td>NaN</td>\n",
       "      <td>S</td>\n",
       "    </tr>\n",
       "    <tr>\n",
       "      <th>1</th>\n",
       "      <td>2</td>\n",
       "      <td>1</td>\n",
       "      <td>1</td>\n",
       "      <td>Cumings, Mrs. John Bradley (Florence Briggs Th...</td>\n",
       "      <td>female</td>\n",
       "      <td>38.0</td>\n",
       "      <td>1</td>\n",
       "      <td>0</td>\n",
       "      <td>PC 17599</td>\n",
       "      <td>71.2833</td>\n",
       "      <td>C85</td>\n",
       "      <td>C</td>\n",
       "    </tr>\n",
       "    <tr>\n",
       "      <th>2</th>\n",
       "      <td>3</td>\n",
       "      <td>1</td>\n",
       "      <td>3</td>\n",
       "      <td>Heikkinen, Miss. Laina</td>\n",
       "      <td>female</td>\n",
       "      <td>26.0</td>\n",
       "      <td>0</td>\n",
       "      <td>0</td>\n",
       "      <td>STON/O2. 3101282</td>\n",
       "      <td>7.9250</td>\n",
       "      <td>NaN</td>\n",
       "      <td>S</td>\n",
       "    </tr>\n",
       "    <tr>\n",
       "      <th>3</th>\n",
       "      <td>4</td>\n",
       "      <td>1</td>\n",
       "      <td>1</td>\n",
       "      <td>Futrelle, Mrs. Jacques Heath (Lily May Peel)</td>\n",
       "      <td>female</td>\n",
       "      <td>35.0</td>\n",
       "      <td>1</td>\n",
       "      <td>0</td>\n",
       "      <td>113803</td>\n",
       "      <td>53.1000</td>\n",
       "      <td>C123</td>\n",
       "      <td>S</td>\n",
       "    </tr>\n",
       "    <tr>\n",
       "      <th>4</th>\n",
       "      <td>5</td>\n",
       "      <td>0</td>\n",
       "      <td>3</td>\n",
       "      <td>Allen, Mr. William Henry</td>\n",
       "      <td>male</td>\n",
       "      <td>35.0</td>\n",
       "      <td>0</td>\n",
       "      <td>0</td>\n",
       "      <td>373450</td>\n",
       "      <td>8.0500</td>\n",
       "      <td>NaN</td>\n",
       "      <td>S</td>\n",
       "    </tr>\n",
       "  </tbody>\n",
       "</table>\n",
       "</div>"
      ],
      "text/plain": [
       "   PassengerId  Survived  Pclass  \\\n",
       "0            1         0       3   \n",
       "1            2         1       1   \n",
       "2            3         1       3   \n",
       "3            4         1       1   \n",
       "4            5         0       3   \n",
       "\n",
       "                                                Name     Sex   Age  SibSp  \\\n",
       "0                            Braund, Mr. Owen Harris    male  22.0      1   \n",
       "1  Cumings, Mrs. John Bradley (Florence Briggs Th...  female  38.0      1   \n",
       "2                             Heikkinen, Miss. Laina  female  26.0      0   \n",
       "3       Futrelle, Mrs. Jacques Heath (Lily May Peel)  female  35.0      1   \n",
       "4                           Allen, Mr. William Henry    male  35.0      0   \n",
       "\n",
       "   Parch            Ticket     Fare Cabin Embarked  \n",
       "0      0         A/5 21171   7.2500   NaN        S  \n",
       "1      0          PC 17599  71.2833   C85        C  \n",
       "2      0  STON/O2. 3101282   7.9250   NaN        S  \n",
       "3      0            113803  53.1000  C123        S  \n",
       "4      0            373450   8.0500   NaN        S  "
      ]
     },
     "execution_count": 8,
     "metadata": {},
     "output_type": "execute_result"
    }
   ],
   "source": [
    "df = pd.read_csv('titanic/train.csv')\n",
    "df.head()"
   ]
  },
  {
   "cell_type": "markdown",
   "id": "ced435ae-7c13-47f7-9b42-b17d08eda4dc",
   "metadata": {},
   "source": [
    "### easy  \n",
    "##### вычислить вероятность выживания, если пассажиру:  \n",
    "от 0 до 25 лет"
   ]
  },
  {
   "cell_type": "code",
   "execution_count": 13,
   "id": "c1bbeeb3-edb2-46b0-ad7a-cc39097b21cb",
   "metadata": {},
   "outputs": [
    {
     "data": {
      "text/plain": [
       "0.38935574229691877"
      ]
     },
     "execution_count": 13,
     "metadata": {},
     "output_type": "execute_result"
    }
   ],
   "source": [
    "df[(df['Age'] >= 0) & (df['Age'] < 25)]['Age'].count() / df['Age'].count()"
   ]
  },
  {
   "cell_type": "markdown",
   "id": "8f950a44-3415-4f80-ab0c-a7793d9dc6cf",
   "metadata": {},
   "source": [
    "от 25 до 50 лет"
   ]
  },
  {
   "cell_type": "code",
   "execution_count": 14,
   "id": "e3c64f98-642a-41d2-88d8-bb1439a350cf",
   "metadata": {},
   "outputs": [
    {
     "data": {
      "text/plain": [
       "0.5070028011204482"
      ]
     },
     "execution_count": 14,
     "metadata": {},
     "output_type": "execute_result"
    }
   ],
   "source": [
    "df[(df['Age'] >= 25) & (df['Age'] < 50)]['Age'].count() / df['Age'].count()"
   ]
  },
  {
   "cell_type": "markdown",
   "id": "8f61a702-5e1e-4200-adfd-5c9f11d59015",
   "metadata": {},
   "source": [
    "от 50 лет и старше"
   ]
  },
  {
   "cell_type": "code",
   "execution_count": 15,
   "id": "81f7b381-235f-4d9d-9c13-bfab00b3fe89",
   "metadata": {},
   "outputs": [
    {
     "data": {
      "text/plain": [
       "0.10364145658263306"
      ]
     },
     "execution_count": 15,
     "metadata": {},
     "output_type": "execute_result"
    }
   ],
   "source": [
    "df[(df['Age'] >= 50)]['Age'].count() / df['Age'].count()"
   ]
  },
  {
   "cell_type": "markdown",
   "id": "d1c14911-1061-4544-83e1-4db1a9694433",
   "metadata": {
    "tags": []
   },
   "source": [
    "### medium  \n",
    "##### вычислить с какой вероятностью пассажир женского пола, если известно, что он выжил (использовать теорему Байеса)  "
   ]
  },
  {
   "cell_type": "markdown",
   "id": "4fe5044b-6e8a-41b5-8c85-d5dc4334c2fd",
   "metadata": {},
   "source": [
    "**по формуле Байеса**\n",
    "\n",
    "пусть событие A - \"выживаемость\" пассажира, а событие B - пассажир является женщиной, тогда:  \n",
    "\n",
    "b1 - вероятность того, что пассажир женщина среди всех пассажиров /P(B1)/;  \n",
    "b2 - вероятность того, что пассажир мужчина среди всех пассажиров /P(B2)/;\n",
    "\n",
    "аb1 - \"выживаемость\" пассажиров-женщин /P(AB1)/;  \n",
    "аb2 - \"выживаемость\" пассажиров-мужчин /P(AB2)/;\n",
    "\n",
    "а - вероятность того, что пассажир выжил /полная вероятность Р(А)/;\n",
    "по формуле Байеса:  \n",
    "a = ab1 x b1 + ab2 x b2\n",
    "\n",
    "необходимо определить, какова вероятность того, что пассажир женского пола, если известно, что он выжил; т.е. известно, что событие А наступило, необходимо найти /Р(В1А)/:  \n",
    "b1a = ab1 x b1 / a"
   ]
  },
  {
   "cell_type": "code",
   "execution_count": 16,
   "id": "ac87f92c-b021-4093-ae60-7bf9025c2478",
   "metadata": {},
   "outputs": [
    {
     "name": "stdout",
     "output_type": "stream",
     "text": [
      "b1 = 0.35  b2 = 0.65\n",
      "ab1 = 0.74  ab2 = 0.19\n",
      "a = 0.38\n",
      "b1a = 0.68\n"
     ]
    }
   ],
   "source": [
    "b1 = df[(df['Sex'] =='female')]['Sex'].count() / df['Sex'].count()\n",
    "b2 = df[(df['Sex'] =='male')]['Sex'].count() / df['Sex'].count()\n",
    "print ('b1 =',round(b1,2),' b2 =', round(b2,2))\n",
    "\n",
    "ab1 = df[(df['Survived'] == 1) & (df['Sex'] =='female')]['Sex'].count() / df[(df['Sex'] =='female')]['Sex'].count()\n",
    "ab2 = df[(df['Survived'] == 1) & (df['Sex'] =='male')]['Sex'].count() / df[(df['Sex'] =='male')]['Sex'].count()\n",
    "print ('ab1 =',round(ab1,2),' ab2 =', round(ab2,2))\n",
    "\n",
    "a = ab1*b1 + ab2*b2\n",
    "print ('a =',round(a,2))\n",
    "\n",
    "b1a = ab1*b1/a\n",
    "print ('b1a =',round(b1a,2))"
   ]
  },
  {
   "cell_type": "markdown",
   "id": "b5c84681-1d65-4c8c-9244-e2e8965c931c",
   "metadata": {},
   "source": [
    "### hard  \n",
    "##### Закон распределения задается функцией плотности\n",
    "\n",
    "$ f(x) = \\lambda e^{-\\lambda x}, x &gt; 0 $\n",
    "\n",
    "$ f(x) = 0, x &lt;= 0 $\n",
    "\n",
    "##### Найти вероятность того, что событие произойдет при $x \\in [1, 2]$  \n",
    "вероятность - это интеграл функции плотности; соответственно нужно вычислить интеграл для заданной функции"
   ]
  },
  {
   "cell_type": "code",
   "execution_count": 17,
   "id": "a02b77be-0bcf-4ed6-9be2-328212247f83",
   "metadata": {},
   "outputs": [],
   "source": [
    "from scipy.integrate import *\n",
    "import scipy.integrate\n",
    "from numpy import exp"
   ]
  },
  {
   "cell_type": "code",
   "execution_count": 18,
   "id": "7aff6229-4468-4825-affd-d2f4cd25ce9d",
   "metadata": {},
   "outputs": [
    {
     "name": "stdin",
     "output_type": "stream",
     "text": [
      "лямбда= 5\n"
     ]
    },
    {
     "name": "stdout",
     "output_type": "stream",
     "text": [
      "(0.006692547069322982, 7.430219849749989e-17)\n"
     ]
    }
   ],
   "source": [
    "l=float(input('лямбда='))\n",
    "a=1\n",
    "b=2\n",
    "for x in [a,b]:\n",
    "    if x>0:\n",
    "        f= lambda x:l*exp(-l*x)\n",
    "    else:\n",
    "        f=0\n",
    "    intgrl = scipy.integrate.quad(f, a, b)\n",
    "print(intgrl)"
   ]
  }
 ],
 "metadata": {
  "kernelspec": {
   "display_name": "Python 3 (ipykernel)",
   "language": "python",
   "name": "python3"
  },
  "language_info": {
   "codemirror_mode": {
    "name": "ipython",
    "version": 3
   },
   "file_extension": ".py",
   "mimetype": "text/x-python",
   "name": "python",
   "nbconvert_exporter": "python",
   "pygments_lexer": "ipython3",
   "version": "3.8.12"
  }
 },
 "nbformat": 4,
 "nbformat_minor": 5
}
