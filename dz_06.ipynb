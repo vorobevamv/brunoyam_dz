{
 "cells": [
  {
   "cell_type": "code",
   "execution_count": 436,
   "id": "939e17f5-a011-4a95-90ea-790d6af7e3e3",
   "metadata": {},
   "outputs": [],
   "source": [
    "import sklearn\n",
    "from sklearn.linear_model import LinearRegression\n",
    "import pandas as pd\n",
    "import numpy as np\n",
    "import matplotlib.pyplot as plt"
   ]
  },
  {
   "cell_type": "code",
   "execution_count": 437,
   "id": "8c83f767-d65f-4efc-9cbd-938b0f2edfe1",
   "metadata": {},
   "outputs": [
    {
     "data": {
      "text/html": [
       "<div>\n",
       "<style scoped>\n",
       "    .dataframe tbody tr th:only-of-type {\n",
       "        vertical-align: middle;\n",
       "    }\n",
       "\n",
       "    .dataframe tbody tr th {\n",
       "        vertical-align: top;\n",
       "    }\n",
       "\n",
       "    .dataframe thead th {\n",
       "        text-align: right;\n",
       "    }\n",
       "</style>\n",
       "<table border=\"1\" class=\"dataframe\">\n",
       "  <thead>\n",
       "    <tr style=\"text-align: right;\">\n",
       "      <th></th>\n",
       "      <th>PassengerId</th>\n",
       "      <th>Survived</th>\n",
       "      <th>Pclass</th>\n",
       "      <th>Name</th>\n",
       "      <th>Sex</th>\n",
       "      <th>Age</th>\n",
       "      <th>SibSp</th>\n",
       "      <th>Parch</th>\n",
       "      <th>Ticket</th>\n",
       "      <th>Fare</th>\n",
       "      <th>Cabin</th>\n",
       "      <th>Embarked</th>\n",
       "    </tr>\n",
       "  </thead>\n",
       "  <tbody>\n",
       "    <tr>\n",
       "      <th>0</th>\n",
       "      <td>1</td>\n",
       "      <td>0</td>\n",
       "      <td>3</td>\n",
       "      <td>Braund, Mr. Owen Harris</td>\n",
       "      <td>male</td>\n",
       "      <td>22.0</td>\n",
       "      <td>1</td>\n",
       "      <td>0</td>\n",
       "      <td>A/5 21171</td>\n",
       "      <td>7.2500</td>\n",
       "      <td>NaN</td>\n",
       "      <td>S</td>\n",
       "    </tr>\n",
       "    <tr>\n",
       "      <th>1</th>\n",
       "      <td>2</td>\n",
       "      <td>1</td>\n",
       "      <td>1</td>\n",
       "      <td>Cumings, Mrs. John Bradley (Florence Briggs Th...</td>\n",
       "      <td>female</td>\n",
       "      <td>38.0</td>\n",
       "      <td>1</td>\n",
       "      <td>0</td>\n",
       "      <td>PC 17599</td>\n",
       "      <td>71.2833</td>\n",
       "      <td>C85</td>\n",
       "      <td>C</td>\n",
       "    </tr>\n",
       "    <tr>\n",
       "      <th>2</th>\n",
       "      <td>3</td>\n",
       "      <td>1</td>\n",
       "      <td>3</td>\n",
       "      <td>Heikkinen, Miss. Laina</td>\n",
       "      <td>female</td>\n",
       "      <td>26.0</td>\n",
       "      <td>0</td>\n",
       "      <td>0</td>\n",
       "      <td>STON/O2. 3101282</td>\n",
       "      <td>7.9250</td>\n",
       "      <td>NaN</td>\n",
       "      <td>S</td>\n",
       "    </tr>\n",
       "    <tr>\n",
       "      <th>3</th>\n",
       "      <td>4</td>\n",
       "      <td>1</td>\n",
       "      <td>1</td>\n",
       "      <td>Futrelle, Mrs. Jacques Heath (Lily May Peel)</td>\n",
       "      <td>female</td>\n",
       "      <td>35.0</td>\n",
       "      <td>1</td>\n",
       "      <td>0</td>\n",
       "      <td>113803</td>\n",
       "      <td>53.1000</td>\n",
       "      <td>C123</td>\n",
       "      <td>S</td>\n",
       "    </tr>\n",
       "    <tr>\n",
       "      <th>4</th>\n",
       "      <td>5</td>\n",
       "      <td>0</td>\n",
       "      <td>3</td>\n",
       "      <td>Allen, Mr. William Henry</td>\n",
       "      <td>male</td>\n",
       "      <td>35.0</td>\n",
       "      <td>0</td>\n",
       "      <td>0</td>\n",
       "      <td>373450</td>\n",
       "      <td>8.0500</td>\n",
       "      <td>NaN</td>\n",
       "      <td>S</td>\n",
       "    </tr>\n",
       "  </tbody>\n",
       "</table>\n",
       "</div>"
      ],
      "text/plain": [
       "   PassengerId  Survived  Pclass  \\\n",
       "0            1         0       3   \n",
       "1            2         1       1   \n",
       "2            3         1       3   \n",
       "3            4         1       1   \n",
       "4            5         0       3   \n",
       "\n",
       "                                                Name     Sex   Age  SibSp  \\\n",
       "0                            Braund, Mr. Owen Harris    male  22.0      1   \n",
       "1  Cumings, Mrs. John Bradley (Florence Briggs Th...  female  38.0      1   \n",
       "2                             Heikkinen, Miss. Laina  female  26.0      0   \n",
       "3       Futrelle, Mrs. Jacques Heath (Lily May Peel)  female  35.0      1   \n",
       "4                           Allen, Mr. William Henry    male  35.0      0   \n",
       "\n",
       "   Parch            Ticket     Fare Cabin Embarked  \n",
       "0      0         A/5 21171   7.2500   NaN        S  \n",
       "1      0          PC 17599  71.2833   C85        C  \n",
       "2      0  STON/O2. 3101282   7.9250   NaN        S  \n",
       "3      0            113803  53.1000  C123        S  \n",
       "4      0            373450   8.0500   NaN        S  "
      ]
     },
     "execution_count": 437,
     "metadata": {},
     "output_type": "execute_result"
    }
   ],
   "source": [
    "df = pd.read_csv('titanic/train.csv')\n",
    "df.head()"
   ]
  },
  {
   "cell_type": "markdown",
   "id": "180ccbd5-3762-404a-a87a-29ee7e24db83",
   "metadata": {},
   "source": [
    "### easy  \n",
    "##### для данных с Титаника обучить модели логистической регрессии и решающего дерева на 80% обучающей выборки и проверить результат на 20%\n",
    "##### у какой модели результат лучше?"
   ]
  },
  {
   "cell_type": "markdown",
   "id": "ec1a1334-2fd5-4383-a181-2f27fd64c369",
   "metadata": {},
   "source": [
    "отбор нужных данных, замена текстовых данных на числовые"
   ]
  },
  {
   "cell_type": "code",
   "execution_count": 438,
   "id": "d784ad7f-7463-4678-b16f-22f870fd8fa5",
   "metadata": {},
   "outputs": [
    {
     "data": {
      "text/html": [
       "<div>\n",
       "<style scoped>\n",
       "    .dataframe tbody tr th:only-of-type {\n",
       "        vertical-align: middle;\n",
       "    }\n",
       "\n",
       "    .dataframe tbody tr th {\n",
       "        vertical-align: top;\n",
       "    }\n",
       "\n",
       "    .dataframe thead th {\n",
       "        text-align: right;\n",
       "    }\n",
       "</style>\n",
       "<table border=\"1\" class=\"dataframe\">\n",
       "  <thead>\n",
       "    <tr style=\"text-align: right;\">\n",
       "      <th></th>\n",
       "      <th>Survived</th>\n",
       "      <th>Pclass</th>\n",
       "      <th>Sex</th>\n",
       "      <th>Age</th>\n",
       "    </tr>\n",
       "  </thead>\n",
       "  <tbody>\n",
       "    <tr>\n",
       "      <th>0</th>\n",
       "      <td>0</td>\n",
       "      <td>3</td>\n",
       "      <td>0</td>\n",
       "      <td>22.0</td>\n",
       "    </tr>\n",
       "    <tr>\n",
       "      <th>1</th>\n",
       "      <td>1</td>\n",
       "      <td>1</td>\n",
       "      <td>1</td>\n",
       "      <td>38.0</td>\n",
       "    </tr>\n",
       "    <tr>\n",
       "      <th>2</th>\n",
       "      <td>1</td>\n",
       "      <td>3</td>\n",
       "      <td>1</td>\n",
       "      <td>26.0</td>\n",
       "    </tr>\n",
       "    <tr>\n",
       "      <th>3</th>\n",
       "      <td>1</td>\n",
       "      <td>1</td>\n",
       "      <td>1</td>\n",
       "      <td>35.0</td>\n",
       "    </tr>\n",
       "    <tr>\n",
       "      <th>4</th>\n",
       "      <td>0</td>\n",
       "      <td>3</td>\n",
       "      <td>0</td>\n",
       "      <td>35.0</td>\n",
       "    </tr>\n",
       "    <tr>\n",
       "      <th>...</th>\n",
       "      <td>...</td>\n",
       "      <td>...</td>\n",
       "      <td>...</td>\n",
       "      <td>...</td>\n",
       "    </tr>\n",
       "    <tr>\n",
       "      <th>886</th>\n",
       "      <td>0</td>\n",
       "      <td>2</td>\n",
       "      <td>0</td>\n",
       "      <td>27.0</td>\n",
       "    </tr>\n",
       "    <tr>\n",
       "      <th>887</th>\n",
       "      <td>1</td>\n",
       "      <td>1</td>\n",
       "      <td>1</td>\n",
       "      <td>19.0</td>\n",
       "    </tr>\n",
       "    <tr>\n",
       "      <th>888</th>\n",
       "      <td>0</td>\n",
       "      <td>3</td>\n",
       "      <td>1</td>\n",
       "      <td>0.0</td>\n",
       "    </tr>\n",
       "    <tr>\n",
       "      <th>889</th>\n",
       "      <td>1</td>\n",
       "      <td>1</td>\n",
       "      <td>0</td>\n",
       "      <td>26.0</td>\n",
       "    </tr>\n",
       "    <tr>\n",
       "      <th>890</th>\n",
       "      <td>0</td>\n",
       "      <td>3</td>\n",
       "      <td>0</td>\n",
       "      <td>32.0</td>\n",
       "    </tr>\n",
       "  </tbody>\n",
       "</table>\n",
       "<p>891 rows × 4 columns</p>\n",
       "</div>"
      ],
      "text/plain": [
       "     Survived  Pclass  Sex   Age\n",
       "0           0       3    0  22.0\n",
       "1           1       1    1  38.0\n",
       "2           1       3    1  26.0\n",
       "3           1       1    1  35.0\n",
       "4           0       3    0  35.0\n",
       "..        ...     ...  ...   ...\n",
       "886         0       2    0  27.0\n",
       "887         1       1    1  19.0\n",
       "888         0       3    1   0.0\n",
       "889         1       1    0  26.0\n",
       "890         0       3    0  32.0\n",
       "\n",
       "[891 rows x 4 columns]"
      ]
     },
     "execution_count": 438,
     "metadata": {},
     "output_type": "execute_result"
    }
   ],
   "source": [
    "df.loc[df['Sex']=='female', 'Sex'] = 1\n",
    "df.loc[df['Sex']=='male', 'Sex'] = 0\n",
    "df_ml = df[['Survived','Pclass','Sex','Age']].fillna(0)\n",
    "df_ml"
   ]
  },
  {
   "cell_type": "markdown",
   "id": "78123764-3b44-4827-8d6f-5c7562e5ebe2",
   "metadata": {},
   "source": [
    "определение x и y"
   ]
  },
  {
   "cell_type": "code",
   "execution_count": 439,
   "id": "696c2f9c-98be-4c5e-a3fd-d51b1b8906fd",
   "metadata": {},
   "outputs": [
    {
     "data": {
      "text/html": [
       "<div>\n",
       "<style scoped>\n",
       "    .dataframe tbody tr th:only-of-type {\n",
       "        vertical-align: middle;\n",
       "    }\n",
       "\n",
       "    .dataframe tbody tr th {\n",
       "        vertical-align: top;\n",
       "    }\n",
       "\n",
       "    .dataframe thead th {\n",
       "        text-align: right;\n",
       "    }\n",
       "</style>\n",
       "<table border=\"1\" class=\"dataframe\">\n",
       "  <thead>\n",
       "    <tr style=\"text-align: right;\">\n",
       "      <th></th>\n",
       "      <th>Pclass</th>\n",
       "      <th>Sex</th>\n",
       "      <th>Age</th>\n",
       "    </tr>\n",
       "  </thead>\n",
       "  <tbody>\n",
       "    <tr>\n",
       "      <th>0</th>\n",
       "      <td>3</td>\n",
       "      <td>0</td>\n",
       "      <td>22.0</td>\n",
       "    </tr>\n",
       "    <tr>\n",
       "      <th>1</th>\n",
       "      <td>1</td>\n",
       "      <td>1</td>\n",
       "      <td>38.0</td>\n",
       "    </tr>\n",
       "    <tr>\n",
       "      <th>2</th>\n",
       "      <td>3</td>\n",
       "      <td>1</td>\n",
       "      <td>26.0</td>\n",
       "    </tr>\n",
       "    <tr>\n",
       "      <th>3</th>\n",
       "      <td>1</td>\n",
       "      <td>1</td>\n",
       "      <td>35.0</td>\n",
       "    </tr>\n",
       "    <tr>\n",
       "      <th>4</th>\n",
       "      <td>3</td>\n",
       "      <td>0</td>\n",
       "      <td>35.0</td>\n",
       "    </tr>\n",
       "  </tbody>\n",
       "</table>\n",
       "</div>"
      ],
      "text/plain": [
       "   Pclass  Sex   Age\n",
       "0       3    0  22.0\n",
       "1       1    1  38.0\n",
       "2       3    1  26.0\n",
       "3       1    1  35.0\n",
       "4       3    0  35.0"
      ]
     },
     "execution_count": 439,
     "metadata": {},
     "output_type": "execute_result"
    }
   ],
   "source": [
    "x = df_ml[['Pclass','Sex','Age']]\n",
    "x.head()"
   ]
  },
  {
   "cell_type": "code",
   "execution_count": 440,
   "id": "217b9b30-b52a-43de-ad9c-35f7042a3b2f",
   "metadata": {},
   "outputs": [
    {
     "data": {
      "text/html": [
       "<div>\n",
       "<style scoped>\n",
       "    .dataframe tbody tr th:only-of-type {\n",
       "        vertical-align: middle;\n",
       "    }\n",
       "\n",
       "    .dataframe tbody tr th {\n",
       "        vertical-align: top;\n",
       "    }\n",
       "\n",
       "    .dataframe thead th {\n",
       "        text-align: right;\n",
       "    }\n",
       "</style>\n",
       "<table border=\"1\" class=\"dataframe\">\n",
       "  <thead>\n",
       "    <tr style=\"text-align: right;\">\n",
       "      <th></th>\n",
       "      <th>Survived</th>\n",
       "    </tr>\n",
       "  </thead>\n",
       "  <tbody>\n",
       "    <tr>\n",
       "      <th>0</th>\n",
       "      <td>0</td>\n",
       "    </tr>\n",
       "    <tr>\n",
       "      <th>1</th>\n",
       "      <td>1</td>\n",
       "    </tr>\n",
       "    <tr>\n",
       "      <th>2</th>\n",
       "      <td>1</td>\n",
       "    </tr>\n",
       "    <tr>\n",
       "      <th>3</th>\n",
       "      <td>1</td>\n",
       "    </tr>\n",
       "    <tr>\n",
       "      <th>4</th>\n",
       "      <td>0</td>\n",
       "    </tr>\n",
       "  </tbody>\n",
       "</table>\n",
       "</div>"
      ],
      "text/plain": [
       "   Survived\n",
       "0         0\n",
       "1         1\n",
       "2         1\n",
       "3         1\n",
       "4         0"
      ]
     },
     "execution_count": 440,
     "metadata": {},
     "output_type": "execute_result"
    }
   ],
   "source": [
    "y = df_ml[['Survived']]\n",
    "y.head()"
   ]
  },
  {
   "cell_type": "markdown",
   "id": "21b8e382-321f-495a-928e-c3f7d7cff965",
   "metadata": {},
   "source": [
    "разбивка на train и test (80% - 20%)"
   ]
  },
  {
   "cell_type": "code",
   "execution_count": 441,
   "id": "dea6ba6a-0694-4817-90d3-20b71bf9398b",
   "metadata": {},
   "outputs": [],
   "source": [
    "x_train, x_test, y_train, y_test = train_test_split(x, y, train_size=0.8)"
   ]
  },
  {
   "cell_type": "markdown",
   "id": "5600657a-00d4-4776-ba83-be8fa4554fd2",
   "metadata": {},
   "source": [
    "**обучение модели логистической регрессии**"
   ]
  },
  {
   "cell_type": "code",
   "execution_count": 442,
   "id": "e4bebb79-07b4-4a76-8787-d14d8ebaf1fa",
   "metadata": {},
   "outputs": [
    {
     "name": "stderr",
     "output_type": "stream",
     "text": [
      "C:\\Users\\79216\\anaconda3\\envs\\py38\\lib\\site-packages\\sklearn\\utils\\validation.py:985: DataConversionWarning: A column-vector y was passed when a 1d array was expected. Please change the shape of y to (n_samples, ), for example using ravel().\n",
      "  y = column_or_1d(y, warn=True)\n"
     ]
    },
    {
     "data": {
      "text/plain": [
       "0.7653631284916201"
      ]
     },
     "execution_count": 442,
     "metadata": {},
     "output_type": "execute_result"
    }
   ],
   "source": [
    "model_1 = LogisticRegression(max_iter=1000)\n",
    "model_1.fit(x_train, y_train)\n",
    "y_pred = model_1.predict(x_test)\n",
    "a1 = accuracy_score(y_pred, y_test)\n",
    "a1"
   ]
  },
  {
   "cell_type": "markdown",
   "id": "ffb0b6b6-8812-4f76-83ad-389b6258afb2",
   "metadata": {},
   "source": [
    "**обучение модели решающего дерева**"
   ]
  },
  {
   "cell_type": "code",
   "execution_count": 443,
   "id": "804fab3e-59f6-477e-901d-a296406cf984",
   "metadata": {},
   "outputs": [],
   "source": [
    "from sklearn.tree import DecisionTreeClassifier"
   ]
  },
  {
   "cell_type": "code",
   "execution_count": 444,
   "id": "df321302-971b-46e8-8117-9c4b1e9fbdd8",
   "metadata": {},
   "outputs": [
    {
     "data": {
      "text/plain": [
       "0.8156424581005587"
      ]
     },
     "execution_count": 444,
     "metadata": {},
     "output_type": "execute_result"
    }
   ],
   "source": [
    "model_2 = DecisionTreeClassifier()\n",
    "model_2.fit(x_train, y_train)\n",
    "y_pred = model_2.predict(x_test)\n",
    "a2 = accuracy_score(y_pred, y_test)\n",
    "a2"
   ]
  },
  {
   "cell_type": "markdown",
   "id": "3510e75e-9d7b-40ee-85b7-f7bf4984af8b",
   "metadata": {},
   "source": [
    "**сравнение результатов**"
   ]
  },
  {
   "cell_type": "code",
   "execution_count": 445,
   "id": "98c95fcd-a529-40a0-927a-c11602879829",
   "metadata": {},
   "outputs": [
    {
     "name": "stdout",
     "output_type": "stream",
     "text": [
      "модель логистической регрессии -  76.54 %\n",
      "модель решающего дерева -  81.56 %\n"
     ]
    }
   ],
   "source": [
    "print('модель логистической регрессии - ',round(a1*100,2),'%')\n",
    "print('модель решающего дерева - ',round(a2*100,2),'%')"
   ]
  },
  {
   "cell_type": "markdown",
   "id": "7bb60327-99ce-419e-91d9-f4ba2a2f3cae",
   "metadata": {},
   "source": [
    "при нормализации данных точность значительно падает:"
   ]
  },
  {
   "cell_type": "code",
   "execution_count": 446,
   "id": "c2771e55-f3b3-403c-9721-f6bfa6881ef6",
   "metadata": {},
   "outputs": [],
   "source": [
    "from sklearn import preprocessing"
   ]
  },
  {
   "cell_type": "code",
   "execution_count": 447,
   "id": "07f2f402-3303-49bc-b853-fbc77fdc300b",
   "metadata": {},
   "outputs": [],
   "source": [
    "x_n=preprocessing.normalize(x_df)"
   ]
  },
  {
   "cell_type": "code",
   "execution_count": 448,
   "id": "34d125af-1687-49d8-b38f-20584e0c2918",
   "metadata": {},
   "outputs": [],
   "source": [
    "x_train_n, x_test_n, y_train_n, y_test_n = train_test_split(x_n, y, train_size=0.8)"
   ]
  },
  {
   "cell_type": "code",
   "execution_count": 449,
   "id": "ab3d2ceb-0eb0-4b54-aca3-3304505d8836",
   "metadata": {},
   "outputs": [
    {
     "name": "stderr",
     "output_type": "stream",
     "text": [
      "C:\\Users\\79216\\anaconda3\\envs\\py38\\lib\\site-packages\\sklearn\\utils\\validation.py:985: DataConversionWarning: A column-vector y was passed when a 1d array was expected. Please change the shape of y to (n_samples, ), for example using ravel().\n",
      "  y = column_or_1d(y, warn=True)\n"
     ]
    },
    {
     "data": {
      "text/plain": [
       "0.664804469273743"
      ]
     },
     "execution_count": 449,
     "metadata": {},
     "output_type": "execute_result"
    }
   ],
   "source": [
    "model_1n = LogisticRegression(max_iter=1000)\n",
    "model_1n.fit(x_train_n, y_train_n)\n",
    "y_pred_n = model_1n.predict(x_test_n)\n",
    "accuracy_score(y_pred_n, y_test_n)"
   ]
  },
  {
   "cell_type": "code",
   "execution_count": 450,
   "id": "85bfb1e6-c499-405c-aa52-94e9fe3b3b1f",
   "metadata": {},
   "outputs": [
    {
     "data": {
      "text/plain": [
       "0.8156424581005587"
      ]
     },
     "execution_count": 450,
     "metadata": {},
     "output_type": "execute_result"
    }
   ],
   "source": [
    "model_2n = DecisionTreeClassifier()\n",
    "model_2n.fit(x_train, y_train)\n",
    "y_pred = model_2n.predict(x_test)\n",
    "accuracy_score(y_pred, y_test)"
   ]
  },
  {
   "cell_type": "markdown",
   "id": "7c5a420a-e145-494f-9f4c-283b727ed2e2",
   "metadata": {},
   "source": [
    "### normal  \n",
    "##### используя кросс-валидацию, применить к данным Титаника модель RandomForestClassifier; сравнить с первыми двумя моделями"
   ]
  },
  {
   "cell_type": "markdown",
   "id": "d4bf95ab-d6ce-41ee-aba8-82a477e9d13d",
   "metadata": {},
   "source": [
    "**обучение модели RandomForestClassifier**"
   ]
  },
  {
   "cell_type": "code",
   "execution_count": 451,
   "id": "d1efad50-d880-4ae2-9430-0096728a3a63",
   "metadata": {},
   "outputs": [],
   "source": [
    "from sklearn.ensemble import RandomForestClassifier\n",
    "from sklearn.model_selection import cross_val_score"
   ]
  },
  {
   "cell_type": "code",
   "execution_count": 452,
   "id": "d72a0b88-62c0-4732-aac8-7cf7209a9f53",
   "metadata": {},
   "outputs": [],
   "source": [
    "model_3 = DecisionTreeClassifier()\n",
    "model_3.fit(x_train, y_train)\n",
    "y_pred = model_3.predict(x_test)\n",
    "a3 = accuracy_score(y_pred, y_test)"
   ]
  },
  {
   "cell_type": "code",
   "execution_count": 453,
   "id": "32d70094-ccb0-46d5-915d-c40b34c7214d",
   "metadata": {},
   "outputs": [
    {
     "name": "stdout",
     "output_type": "stream",
     "text": [
      "кросс-валидация на train выборке: [0.7972028  0.7972028  0.78169014 0.78169014 0.76760563]\n",
      "cреднее по кросс-валидации: 0.7850783019797104\n",
      "качество на тестовой выборке: 0.8156424581005587\n"
     ]
    }
   ],
   "source": [
    "cr_val = cross_val_score(model_3, x_train, y_train)\n",
    "a4 = accuracy_score(model_3.predict(x_test), y_test)\n",
    "print('кросс-валидация на train выборке:',cr_val)\n",
    "print('cреднее по кросс-валидации:', cr_val.mean())\n",
    "print('качество на тестовой выборке:', accuracy_score(model_3.predict(x_test), y_test))"
   ]
  },
  {
   "cell_type": "markdown",
   "id": "583c2de1-9885-42d8-9f28-953563c4cf79",
   "metadata": {},
   "source": [
    "**сравнение результатов**"
   ]
  },
  {
   "cell_type": "code",
   "execution_count": 454,
   "id": "c0151969-d1e6-4378-9350-6e0de1677e0b",
   "metadata": {},
   "outputs": [
    {
     "name": "stdout",
     "output_type": "stream",
     "text": [
      "модель логистической регрессии -  76.54 %\n",
      "модель решающего дерева -  81.56 %\n",
      "модель RandomForestClassifier -  81.56 %\n",
      "модель RandomForestClassifier с кросс-валидацией -  81.56 %\n"
     ]
    }
   ],
   "source": [
    "print('модель логистической регрессии - ',round(a1*100,2),'%')\n",
    "print('модель решающего дерева - ',round(a2*100,2),'%')\n",
    "print('модель RandomForestClassifier - ',round(a3*100,2),'%')\n",
    "print('модель RandomForestClassifier с кросс-валидацией - ',round(a4*100,2),'%')"
   ]
  },
  {
   "cell_type": "markdown",
   "id": "9d436f8a-351e-437a-af77-b63e575030e2",
   "metadata": {},
   "source": [
    "### hard (недоделано)  \n",
    "##### реальзовать линейную регрессию  "
   ]
  },
  {
   "cell_type": "code",
   "execution_count": 466,
   "id": "8ceed8d0-0137-4969-a1bf-2b07225f6355",
   "metadata": {},
   "outputs": [
    {
     "data": {
      "text/html": [
       "<div>\n",
       "<style scoped>\n",
       "    .dataframe tbody tr th:only-of-type {\n",
       "        vertical-align: middle;\n",
       "    }\n",
       "\n",
       "    .dataframe tbody tr th {\n",
       "        vertical-align: top;\n",
       "    }\n",
       "\n",
       "    .dataframe thead th {\n",
       "        text-align: right;\n",
       "    }\n",
       "</style>\n",
       "<table border=\"1\" class=\"dataframe\">\n",
       "  <thead>\n",
       "    <tr style=\"text-align: right;\">\n",
       "      <th></th>\n",
       "      <th>Gender</th>\n",
       "      <th>Height</th>\n",
       "      <th>Weight</th>\n",
       "    </tr>\n",
       "  </thead>\n",
       "  <tbody>\n",
       "    <tr>\n",
       "      <th>0</th>\n",
       "      <td>Male</td>\n",
       "      <td>73.847017</td>\n",
       "      <td>241.893563</td>\n",
       "    </tr>\n",
       "    <tr>\n",
       "      <th>1</th>\n",
       "      <td>Male</td>\n",
       "      <td>68.781904</td>\n",
       "      <td>162.310473</td>\n",
       "    </tr>\n",
       "    <tr>\n",
       "      <th>2</th>\n",
       "      <td>Male</td>\n",
       "      <td>74.110105</td>\n",
       "      <td>212.740856</td>\n",
       "    </tr>\n",
       "    <tr>\n",
       "      <th>3</th>\n",
       "      <td>Male</td>\n",
       "      <td>71.730978</td>\n",
       "      <td>220.042470</td>\n",
       "    </tr>\n",
       "    <tr>\n",
       "      <th>4</th>\n",
       "      <td>Male</td>\n",
       "      <td>69.881796</td>\n",
       "      <td>206.349801</td>\n",
       "    </tr>\n",
       "  </tbody>\n",
       "</table>\n",
       "</div>"
      ],
      "text/plain": [
       "  Gender     Height      Weight\n",
       "0   Male  73.847017  241.893563\n",
       "1   Male  68.781904  162.310473\n",
       "2   Male  74.110105  212.740856\n",
       "3   Male  71.730978  220.042470\n",
       "4   Male  69.881796  206.349801"
      ]
     },
     "execution_count": 466,
     "metadata": {},
     "output_type": "execute_result"
    }
   ],
   "source": [
    "df_wh = pd.read_csv('weight-height.csv')\n",
    "df_wh.head()"
   ]
  },
  {
   "cell_type": "markdown",
   "id": "7196cd64-6d44-4891-aa8f-410651dafa66",
   "metadata": {},
   "source": [
    "**определение входных данных /х/**"
   ]
  },
  {
   "cell_type": "code",
   "execution_count": 467,
   "id": "f8ee0128-804f-410f-9900-85f8be48c80d",
   "metadata": {},
   "outputs": [
    {
     "data": {
      "text/html": [
       "<div>\n",
       "<style scoped>\n",
       "    .dataframe tbody tr th:only-of-type {\n",
       "        vertical-align: middle;\n",
       "    }\n",
       "\n",
       "    .dataframe tbody tr th {\n",
       "        vertical-align: top;\n",
       "    }\n",
       "\n",
       "    .dataframe thead th {\n",
       "        text-align: right;\n",
       "    }\n",
       "</style>\n",
       "<table border=\"1\" class=\"dataframe\">\n",
       "  <thead>\n",
       "    <tr style=\"text-align: right;\">\n",
       "      <th></th>\n",
       "      <th>Weight</th>\n",
       "    </tr>\n",
       "  </thead>\n",
       "  <tbody>\n",
       "    <tr>\n",
       "      <th>0</th>\n",
       "      <td>241.893563</td>\n",
       "    </tr>\n",
       "    <tr>\n",
       "      <th>1</th>\n",
       "      <td>162.310473</td>\n",
       "    </tr>\n",
       "    <tr>\n",
       "      <th>2</th>\n",
       "      <td>212.740856</td>\n",
       "    </tr>\n",
       "    <tr>\n",
       "      <th>3</th>\n",
       "      <td>220.042470</td>\n",
       "    </tr>\n",
       "    <tr>\n",
       "      <th>4</th>\n",
       "      <td>206.349801</td>\n",
       "    </tr>\n",
       "    <tr>\n",
       "      <th>...</th>\n",
       "      <td>...</td>\n",
       "    </tr>\n",
       "    <tr>\n",
       "      <th>9995</th>\n",
       "      <td>136.777454</td>\n",
       "    </tr>\n",
       "    <tr>\n",
       "      <th>9996</th>\n",
       "      <td>170.867906</td>\n",
       "    </tr>\n",
       "    <tr>\n",
       "      <th>9997</th>\n",
       "      <td>128.475319</td>\n",
       "    </tr>\n",
       "    <tr>\n",
       "      <th>9998</th>\n",
       "      <td>163.852461</td>\n",
       "    </tr>\n",
       "    <tr>\n",
       "      <th>9999</th>\n",
       "      <td>113.649103</td>\n",
       "    </tr>\n",
       "  </tbody>\n",
       "</table>\n",
       "<p>10000 rows × 1 columns</p>\n",
       "</div>"
      ],
      "text/plain": [
       "          Weight\n",
       "0     241.893563\n",
       "1     162.310473\n",
       "2     212.740856\n",
       "3     220.042470\n",
       "4     206.349801\n",
       "...          ...\n",
       "9995  136.777454\n",
       "9996  170.867906\n",
       "9997  128.475319\n",
       "9998  163.852461\n",
       "9999  113.649103\n",
       "\n",
       "[10000 rows x 1 columns]"
      ]
     },
     "execution_count": 467,
     "metadata": {},
     "output_type": "execute_result"
    }
   ],
   "source": [
    "x_wh = df_wh[['Weight']]\n",
    "x_wh"
   ]
  },
  {
   "cell_type": "code",
   "execution_count": 468,
   "id": "3f743bad-3dd0-4d65-aa1b-7b96c01686fd",
   "metadata": {},
   "outputs": [
    {
     "data": {
      "text/html": [
       "<div>\n",
       "<style scoped>\n",
       "    .dataframe tbody tr th:only-of-type {\n",
       "        vertical-align: middle;\n",
       "    }\n",
       "\n",
       "    .dataframe tbody tr th {\n",
       "        vertical-align: top;\n",
       "    }\n",
       "\n",
       "    .dataframe thead th {\n",
       "        text-align: right;\n",
       "    }\n",
       "</style>\n",
       "<table border=\"1\" class=\"dataframe\">\n",
       "  <thead>\n",
       "    <tr style=\"text-align: right;\">\n",
       "      <th></th>\n",
       "      <th>Height</th>\n",
       "    </tr>\n",
       "  </thead>\n",
       "  <tbody>\n",
       "    <tr>\n",
       "      <th>0</th>\n",
       "      <td>73.847017</td>\n",
       "    </tr>\n",
       "    <tr>\n",
       "      <th>1</th>\n",
       "      <td>68.781904</td>\n",
       "    </tr>\n",
       "    <tr>\n",
       "      <th>2</th>\n",
       "      <td>74.110105</td>\n",
       "    </tr>\n",
       "    <tr>\n",
       "      <th>3</th>\n",
       "      <td>71.730978</td>\n",
       "    </tr>\n",
       "    <tr>\n",
       "      <th>4</th>\n",
       "      <td>69.881796</td>\n",
       "    </tr>\n",
       "    <tr>\n",
       "      <th>...</th>\n",
       "      <td>...</td>\n",
       "    </tr>\n",
       "    <tr>\n",
       "      <th>9995</th>\n",
       "      <td>66.172652</td>\n",
       "    </tr>\n",
       "    <tr>\n",
       "      <th>9996</th>\n",
       "      <td>67.067155</td>\n",
       "    </tr>\n",
       "    <tr>\n",
       "      <th>9997</th>\n",
       "      <td>63.867992</td>\n",
       "    </tr>\n",
       "    <tr>\n",
       "      <th>9998</th>\n",
       "      <td>69.034243</td>\n",
       "    </tr>\n",
       "    <tr>\n",
       "      <th>9999</th>\n",
       "      <td>61.944246</td>\n",
       "    </tr>\n",
       "  </tbody>\n",
       "</table>\n",
       "<p>10000 rows × 1 columns</p>\n",
       "</div>"
      ],
      "text/plain": [
       "         Height\n",
       "0     73.847017\n",
       "1     68.781904\n",
       "2     74.110105\n",
       "3     71.730978\n",
       "4     69.881796\n",
       "...         ...\n",
       "9995  66.172652\n",
       "9996  67.067155\n",
       "9997  63.867992\n",
       "9998  69.034243\n",
       "9999  61.944246\n",
       "\n",
       "[10000 rows x 1 columns]"
      ]
     },
     "execution_count": 468,
     "metadata": {},
     "output_type": "execute_result"
    }
   ],
   "source": [
    "y_wh = df_wh[['Height']]\n",
    "y_wh"
   ]
  },
  {
   "cell_type": "markdown",
   "id": "fba06133-46de-4309-b5b9-9431c0c85d33",
   "metadata": {},
   "source": [
    "**расчёт весов, определение функции**"
   ]
  },
  {
   "cell_type": "code",
   "execution_count": 469,
   "id": "cf364582-5033-49de-885e-bac3340a4871",
   "metadata": {},
   "outputs": [],
   "source": [
    "from sklearn.linear_model import LinearRegression"
   ]
  },
  {
   "cell_type": "code",
   "execution_count": 470,
   "id": "462beecf-bbe0-429c-8e55-297cced57147",
   "metadata": {},
   "outputs": [
    {
     "name": "stdout",
     "output_type": "stream",
     "text": [
      "веса: w =  0.11081279484017847 b =  48.47790261417956\n",
      "функция: y =  0.11081279484017847 *x +  48.47790261417956\n"
     ]
    }
   ],
   "source": [
    "model_wh = LinearRegression()\n",
    "model_wh.fit(x_wh,y_wh)\n",
    "w = float(model_wh.coef_)\n",
    "b = float(model_wh.intercept_)\n",
    "print('веса: w = ', w, 'b = ',b)\n",
    "print('функция: y = ',w,'*x + ',b)"
   ]
  },
  {
   "cell_type": "code",
   "execution_count": 471,
   "id": "7035d28d-ce32-4e9f-99cc-f0b1b44ea4b1",
   "metadata": {},
   "outputs": [
    {
     "data": {
      "text/plain": [
       "66.63485175903091"
      ]
     },
     "execution_count": 471,
     "metadata": {},
     "output_type": "execute_result"
    }
   ],
   "source": [
    "163.852461*w+b"
   ]
  },
  {
   "cell_type": "markdown",
   "id": "26a6a239-2cbb-4281-8560-63d96fbb201c",
   "metadata": {},
   "source": [
    "**среднеквадратичное отклонение (ошибка)**"
   ]
  },
  {
   "cell_type": "code",
   "execution_count": 472,
   "id": "00f10de6-e5c6-4124-bd72-718391b71b84",
   "metadata": {},
   "outputs": [],
   "source": [
    "from sklearn.metrics import mean_squared_error"
   ]
  },
  {
   "cell_type": "code",
   "execution_count": 473,
   "id": "91a91e37-6b57-466d-afc5-758b1d74bed3",
   "metadata": {},
   "outputs": [
    {
     "name": "stdout",
     "output_type": "stream",
     "text": [
      "среднеквадратичное отклонение (mse) =  2.1437101968829455\n"
     ]
    }
   ],
   "source": [
    "y_pred_wh = model_wh.predict(x_wh)\n",
    "mse = mean_squared_error(y_wh, y_pred_wh)\n",
    "print('среднеквадратичное отклонение (mse) = ',mse)"
   ]
  },
  {
   "cell_type": "markdown",
   "id": "ff5aff3a-013f-42c1-97e0-026776a6a4ab",
   "metadata": {},
   "source": [
    "**минимизация функции**  \n",
    "вот здесь что-то пошло не так, всё время минимизация не успешна"
   ]
  },
  {
   "cell_type": "code",
   "execution_count": 474,
   "id": "e93bb8c2-8270-472a-bc91-bb81febef1c4",
   "metadata": {},
   "outputs": [],
   "source": [
    "from scipy.optimize import minimize"
   ]
  },
  {
   "cell_type": "code",
   "execution_count": 475,
   "id": "3288c4f5-9402-42b1-990f-a3b125991664",
   "metadata": {},
   "outputs": [],
   "source": [
    "x = float(df_wh[['Weight']].mean())\n",
    "def J(w,b):\n",
    "    return x*w+b+mse"
   ]
  },
  {
   "cell_type": "code",
   "execution_count": 476,
   "id": "94017d3c-1494-49e2-86c6-8062805eb10e",
   "metadata": {},
   "outputs": [
    {
     "data": {
      "text/plain": [
       "      fun: -38080004782079.5\n",
       " hess_inv: array([[-7.04937234e+09, -4.36654123e+07],\n",
       "       [-4.36654123e+07, -2.70472475e+05]])\n",
       "      jac: array([161.44035623,   1.0001187 ])\n",
       "  message: 'Desired error not necessarily achieved due to precision loss.'\n",
       "     nfev: 390\n",
       "      nit: 2\n",
       "     njev: 126\n",
       "   status: 2\n",
       "  success: False\n",
       "        x: array([-2.35867564e+11, -1.46101723e+09])"
      ]
     },
     "execution_count": 476,
     "metadata": {},
     "output_type": "execute_result"
    }
   ],
   "source": [
    "x_start = [0.1,0.1]\n",
    "minimize(lambda x: J(x[0], x[1]), (x_start,))"
   ]
  },
  {
   "cell_type": "code",
   "execution_count": null,
   "id": "7d7d0d66-688a-4e2b-bcfc-ba365e85e319",
   "metadata": {},
   "outputs": [],
   "source": []
  }
 ],
 "metadata": {
  "kernelspec": {
   "display_name": "Python 3 (ipykernel)",
   "language": "python",
   "name": "python3"
  },
  "language_info": {
   "codemirror_mode": {
    "name": "ipython",
    "version": 3
   },
   "file_extension": ".py",
   "mimetype": "text/x-python",
   "name": "python",
   "nbconvert_exporter": "python",
   "pygments_lexer": "ipython3",
   "version": "3.8.12"
  }
 },
 "nbformat": 4,
 "nbformat_minor": 5
}
